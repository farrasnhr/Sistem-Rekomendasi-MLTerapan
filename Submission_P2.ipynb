{
  "cells": [
    {
      "cell_type": "markdown",
      "metadata": {
        "id": "7JaZQc1WKFUe"
      },
      "source": [
        "# Nama : Farras Nur Haidar Ramadhan\n",
        "# Email :farrasnurhaidar04@gmail.com\n",
        "# username Dicoding : farrasnhr"
      ]
    },
    {
      "cell_type": "markdown",
      "metadata": {
        "id": "rsg0o5l5MCJl"
      },
      "source": [
        "# Library yang digunakan"
      ]
    },
    {
      "cell_type": "markdown",
      "metadata": {
        "id": "Bn4QVFJdMgCw"
      },
      "source": [
        "Menyiapkan beberapa library guna menunjang pengerjaan proyek. Berikut library yang akan digunakan pada proyek ini:"
      ]
    },
    {
      "cell_type": "code",
      "execution_count": null,
      "metadata": {
        "id": "tIdsN8niMFuG"
      },
      "outputs": [],
      "source": [
        "# Importing libraries\n",
        "import os\n",
        "import ast\n",
        "import numpy as np\n",
        "import pandas as pd\n",
        "from collections import Counter\n",
        "import matplotlib.pyplot as plt\n",
        "import seaborn as sns\n",
        "from sklearn.feature_extraction.text import TfidfVectorizer\n",
        "from sklearn.metrics.pairwise import cosine_similarity\n",
        "import tensorflow as tf\n",
        "from tensorflow.keras import layers\n"
      ]
    },
    {
      "cell_type": "markdown",
      "metadata": {
        "id": "9XD2htmFP3h3"
      },
      "source": [
        "# Data Loading"
      ]
    },
    {
      "cell_type": "markdown",
      "metadata": {
        "id": "C2jQodAO0A6_"
      },
      "source": [
        "Proses ini dilakukan pengambilan dataset dari Kaggle dari *setup* *username* dan *key* dalam bentuk `json`, kemudian melakukan pengunduhan *resource*, dan data yang telah diunduh dalam bentuk zip akan dilakukan ekstraksi."
      ]
    },
    {
      "cell_type": "markdown",
      "metadata": {
        "id": "bOk9X_8fb_GY"
      },
      "source": [
        "## Mengunduh resource"
      ]
    },
    {
      "cell_type": "markdown",
      "metadata": {
        "id": "b8HjCKIlZvqQ"
      },
      "source": [
        "Membuat variabel untuk menampung informasi terkait kredensial akun kaggle yang berisi username dan key untuk mendownload resource berupa dataset di Kaggle, berikutnya memulai mengunduh dataset dan berkas yang telah diunduh dilakukan ekstraksi berkas"
      ]
    },
    {
      "cell_type": "code",
      "execution_count": null,
      "metadata": {
        "id": "_JarxO99K-0n"
      },
      "outputs": [],
      "source": [
        "# Installasi Kaggle\n",
        "!pip install kaggle\n",
        "\n",
        "# Membuat direktori .kaggle dan mengatur kredensial\n",
        "os.makedirs(os.path.expanduser(\"~/.kaggle\"), exist_ok=True)\n",
        "\n",
        "# Mengisi username dan API key\n",
        "username = \"farrasramadhan\"\n",
        "key = \"6efe077df4ef11eb390e33c88f8a7c00\"\n",
        "\n",
        "# Membuat file kaggle.json\n",
        "with open(os.path.expanduser(\"~/.kaggle/kaggle.json\"), \"w\") as f:\n",
        "    f.write(f'{{\"username\":\"{username}\",\"key\":\"{key}\"}}')\n",
        "\n",
        "# Mengubah permission file kaggle.json\n",
        "!chmod 600 ~/.kaggle/kaggle.json\n",
        "\n",
        "# Mengunduh dataset\n",
        "!kaggle datasets download -d rounakbanik/the-movies-dataset\n",
        "\n",
        "# Mengekstrak dataset\n",
        "!unzip the-movies-dataset.zip -d movie"
      ]
    },
    {
      "cell_type": "markdown",
      "metadata": {
        "id": "ymPmJg01Ldaf"
      },
      "source": [
        "# Data Understanding - Movie"
      ]
    },
    {
      "cell_type": "markdown",
      "metadata": {
        "id": "bHVoFodXM7h0"
      },
      "source": [
        "## Informasi Dataset"
      ]
    },
    {
      "cell_type": "markdown",
      "metadata": {
        "id": "OMCgvuuAJRXV"
      },
      "source": [
        "Menginisiasi variabel untuk path ke berkas csv"
      ]
    },
    {
      "cell_type": "code",
      "execution_count": null,
      "metadata": {
        "colab": {
          "base_uri": "https://localhost:8080/",
          "height": 458
        },
        "id": "MpGU4RVlCSqe",
        "outputId": "49d18f64-3f05-40bc-9966-9a760907a0ec"
      },
      "outputs": [
        {
          "name": "stderr",
          "output_type": "stream",
          "text": [
            "C:\\Users\\farra\\AppData\\Local\\Temp\\ipykernel_24376\\131265586.py:5: DtypeWarning: Columns (10) have mixed types. Specify dtype option on import or set low_memory=False.\n",
            "  movies_metadata = pd.read_csv('movie/movies_metadata.csv')\n"
          ]
        }
      ],
      "source": [
        "credits = pd.read_csv('movie/credits.csv')\n",
        "keywords = pd.read_csv('movie/keywords.csv')\n",
        "links = pd.read_csv('movie/links.csv')\n",
        "links_small = pd.read_csv('movie/links_small.csv')\n",
        "movies_metadata = pd.read_csv('movie/movies_metadata.csv')\n",
        "ratings = pd.read_csv('movie/ratings.csv')\n",
        "ratings_small = pd.read_csv('movie/ratings_small.csv')"
      ]
    },
    {
      "cell_type": "markdown",
      "metadata": {
        "id": "wV3tbtyYK-0o"
      },
      "source": [
        "### credits"
      ]
    },
    {
      "cell_type": "markdown",
      "metadata": {
        "id": "bxxWttAtJaui"
      },
      "source": [
        "Melihat data sekilas setiap berkas csv"
      ]
    },
    {
      "cell_type": "code",
      "execution_count": null,
      "metadata": {
        "colab": {
          "base_uri": "https://localhost:8080/",
          "height": 423
        },
        "id": "S2G0fVuhEBPd",
        "outputId": "f6fe8008-0f36-4535-a664-f709a8c71152"
      },
      "outputs": [
        {
          "data": {
            "text/html": [
              "<div>\n",
              "<style scoped>\n",
              "    .dataframe tbody tr th:only-of-type {\n",
              "        vertical-align: middle;\n",
              "    }\n",
              "\n",
              "    .dataframe tbody tr th {\n",
              "        vertical-align: top;\n",
              "    }\n",
              "\n",
              "    .dataframe thead th {\n",
              "        text-align: right;\n",
              "    }\n",
              "</style>\n",
              "<table border=\"1\" class=\"dataframe\">\n",
              "  <thead>\n",
              "    <tr style=\"text-align: right;\">\n",
              "      <th></th>\n",
              "      <th>cast</th>\n",
              "      <th>crew</th>\n",
              "      <th>id</th>\n",
              "    </tr>\n",
              "  </thead>\n",
              "  <tbody>\n",
              "    <tr>\n",
              "      <th>0</th>\n",
              "      <td>[{'cast_id': 14, 'character': 'Woody (voice)',...</td>\n",
              "      <td>[{'credit_id': '52fe4284c3a36847f8024f49', 'de...</td>\n",
              "      <td>862</td>\n",
              "    </tr>\n",
              "    <tr>\n",
              "      <th>1</th>\n",
              "      <td>[{'cast_id': 1, 'character': 'Alan Parrish', '...</td>\n",
              "      <td>[{'credit_id': '52fe44bfc3a36847f80a7cd1', 'de...</td>\n",
              "      <td>8844</td>\n",
              "    </tr>\n",
              "    <tr>\n",
              "      <th>2</th>\n",
              "      <td>[{'cast_id': 2, 'character': 'Max Goldman', 'c...</td>\n",
              "      <td>[{'credit_id': '52fe466a9251416c75077a89', 'de...</td>\n",
              "      <td>15602</td>\n",
              "    </tr>\n",
              "    <tr>\n",
              "      <th>3</th>\n",
              "      <td>[{'cast_id': 1, 'character': \"Savannah 'Vannah...</td>\n",
              "      <td>[{'credit_id': '52fe44779251416c91011acb', 'de...</td>\n",
              "      <td>31357</td>\n",
              "    </tr>\n",
              "    <tr>\n",
              "      <th>4</th>\n",
              "      <td>[{'cast_id': 1, 'character': 'George Banks', '...</td>\n",
              "      <td>[{'credit_id': '52fe44959251416c75039ed7', 'de...</td>\n",
              "      <td>11862</td>\n",
              "    </tr>\n",
              "    <tr>\n",
              "      <th>...</th>\n",
              "      <td>...</td>\n",
              "      <td>...</td>\n",
              "      <td>...</td>\n",
              "    </tr>\n",
              "    <tr>\n",
              "      <th>45471</th>\n",
              "      <td>[{'cast_id': 0, 'character': '', 'credit_id': ...</td>\n",
              "      <td>[{'credit_id': '5894a97d925141426c00818c', 'de...</td>\n",
              "      <td>439050</td>\n",
              "    </tr>\n",
              "    <tr>\n",
              "      <th>45472</th>\n",
              "      <td>[{'cast_id': 1002, 'character': 'Sister Angela...</td>\n",
              "      <td>[{'credit_id': '52fe4af1c3a36847f81e9b15', 'de...</td>\n",
              "      <td>111109</td>\n",
              "    </tr>\n",
              "    <tr>\n",
              "      <th>45473</th>\n",
              "      <td>[{'cast_id': 6, 'character': 'Emily Shaw', 'cr...</td>\n",
              "      <td>[{'credit_id': '52fe4776c3a368484e0c8387', 'de...</td>\n",
              "      <td>67758</td>\n",
              "    </tr>\n",
              "    <tr>\n",
              "      <th>45474</th>\n",
              "      <td>[{'cast_id': 2, 'character': '', 'credit_id': ...</td>\n",
              "      <td>[{'credit_id': '533bccebc3a36844cf0011a7', 'de...</td>\n",
              "      <td>227506</td>\n",
              "    </tr>\n",
              "    <tr>\n",
              "      <th>45475</th>\n",
              "      <td>[]</td>\n",
              "      <td>[{'credit_id': '593e676c92514105b702e68e', 'de...</td>\n",
              "      <td>461257</td>\n",
              "    </tr>\n",
              "  </tbody>\n",
              "</table>\n",
              "<p>45476 rows × 3 columns</p>\n",
              "</div>"
            ],
            "text/plain": [
              "                                                    cast  \\\n",
              "0      [{'cast_id': 14, 'character': 'Woody (voice)',...   \n",
              "1      [{'cast_id': 1, 'character': 'Alan Parrish', '...   \n",
              "2      [{'cast_id': 2, 'character': 'Max Goldman', 'c...   \n",
              "3      [{'cast_id': 1, 'character': \"Savannah 'Vannah...   \n",
              "4      [{'cast_id': 1, 'character': 'George Banks', '...   \n",
              "...                                                  ...   \n",
              "45471  [{'cast_id': 0, 'character': '', 'credit_id': ...   \n",
              "45472  [{'cast_id': 1002, 'character': 'Sister Angela...   \n",
              "45473  [{'cast_id': 6, 'character': 'Emily Shaw', 'cr...   \n",
              "45474  [{'cast_id': 2, 'character': '', 'credit_id': ...   \n",
              "45475                                                 []   \n",
              "\n",
              "                                                    crew      id  \n",
              "0      [{'credit_id': '52fe4284c3a36847f8024f49', 'de...     862  \n",
              "1      [{'credit_id': '52fe44bfc3a36847f80a7cd1', 'de...    8844  \n",
              "2      [{'credit_id': '52fe466a9251416c75077a89', 'de...   15602  \n",
              "3      [{'credit_id': '52fe44779251416c91011acb', 'de...   31357  \n",
              "4      [{'credit_id': '52fe44959251416c75039ed7', 'de...   11862  \n",
              "...                                                  ...     ...  \n",
              "45471  [{'credit_id': '5894a97d925141426c00818c', 'de...  439050  \n",
              "45472  [{'credit_id': '52fe4af1c3a36847f81e9b15', 'de...  111109  \n",
              "45473  [{'credit_id': '52fe4776c3a368484e0c8387', 'de...   67758  \n",
              "45474  [{'credit_id': '533bccebc3a36844cf0011a7', 'de...  227506  \n",
              "45475  [{'credit_id': '593e676c92514105b702e68e', 'de...  461257  \n",
              "\n",
              "[45476 rows x 3 columns]"
            ]
          },
          "execution_count": 3,
          "metadata": {},
          "output_type": "execute_result"
        }
      ],
      "source": [
        "credits"
      ]
    },
    {
      "cell_type": "markdown",
      "metadata": {
        "id": "SS7tENHFK-0p"
      },
      "source": [
        "Melihat informasi jumlah data, tipe data setiap fitur"
      ]
    },
    {
      "cell_type": "code",
      "execution_count": null,
      "metadata": {
        "colab": {
          "base_uri": "https://localhost:8080/"
        },
        "id": "HkLjCjZ-JtOa",
        "outputId": "41cc2008-c777-4a3a-b4ee-c211447b15c0"
      },
      "outputs": [
        {
          "name": "stdout",
          "output_type": "stream",
          "text": [
            "<class 'pandas.core.frame.DataFrame'>\n",
            "RangeIndex: 45476 entries, 0 to 45475\n",
            "Data columns (total 3 columns):\n",
            " #   Column  Non-Null Count  Dtype \n",
            "---  ------  --------------  ----- \n",
            " 0   cast    45476 non-null  object\n",
            " 1   crew    45476 non-null  object\n",
            " 2   id      45476 non-null  int64 \n",
            "dtypes: int64(1), object(2)\n",
            "memory usage: 1.0+ MB\n"
          ]
        }
      ],
      "source": [
        "credits.info()"
      ]
    },
    {
      "cell_type": "markdown",
      "metadata": {
        "id": "gVDLF78TK-0p"
      },
      "source": [
        "   Informasi diatas menunjukkan terdapat 45476 data dengan tipe data `int64` sebanyak satu kolom, dan empat lainnya bertipe data `object`. Dengan uraian setiap fitur sebagai berikut:<br>\n",
        "   - `cast`: Berisi informasi tentang pemeran film,\n",
        "   - `crew`: Berisi informasi tentang kru film, termasuk sutradara, penulis naskah, dan lain-lain,\n",
        "   - `id`: Berisi ID *unique* untuk setiap film yang sesuai dengan id di file movies_metadata.csv."
      ]
    },
    {
      "cell_type": "markdown",
      "metadata": {
        "id": "reu4ks_zK-0p"
      },
      "source": [
        "### keywords"
      ]
    },
    {
      "cell_type": "code",
      "execution_count": null,
      "metadata": {
        "colab": {
          "base_uri": "https://localhost:8080/",
          "height": 423
        },
        "id": "cM5cvcx6JuaQ",
        "outputId": "66754a6f-8be8-4e47-bcd1-3e9418a0d3f5"
      },
      "outputs": [
        {
          "data": {
            "text/html": [
              "<div>\n",
              "<style scoped>\n",
              "    .dataframe tbody tr th:only-of-type {\n",
              "        vertical-align: middle;\n",
              "    }\n",
              "\n",
              "    .dataframe tbody tr th {\n",
              "        vertical-align: top;\n",
              "    }\n",
              "\n",
              "    .dataframe thead th {\n",
              "        text-align: right;\n",
              "    }\n",
              "</style>\n",
              "<table border=\"1\" class=\"dataframe\">\n",
              "  <thead>\n",
              "    <tr style=\"text-align: right;\">\n",
              "      <th></th>\n",
              "      <th>id</th>\n",
              "      <th>keywords</th>\n",
              "    </tr>\n",
              "  </thead>\n",
              "  <tbody>\n",
              "    <tr>\n",
              "      <th>0</th>\n",
              "      <td>862</td>\n",
              "      <td>[{'id': 931, 'name': 'jealousy'}, {'id': 4290,...</td>\n",
              "    </tr>\n",
              "    <tr>\n",
              "      <th>1</th>\n",
              "      <td>8844</td>\n",
              "      <td>[{'id': 10090, 'name': 'board game'}, {'id': 1...</td>\n",
              "    </tr>\n",
              "    <tr>\n",
              "      <th>2</th>\n",
              "      <td>15602</td>\n",
              "      <td>[{'id': 1495, 'name': 'fishing'}, {'id': 12392...</td>\n",
              "    </tr>\n",
              "    <tr>\n",
              "      <th>3</th>\n",
              "      <td>31357</td>\n",
              "      <td>[{'id': 818, 'name': 'based on novel'}, {'id':...</td>\n",
              "    </tr>\n",
              "    <tr>\n",
              "      <th>4</th>\n",
              "      <td>11862</td>\n",
              "      <td>[{'id': 1009, 'name': 'baby'}, {'id': 1599, 'n...</td>\n",
              "    </tr>\n",
              "    <tr>\n",
              "      <th>...</th>\n",
              "      <td>...</td>\n",
              "      <td>...</td>\n",
              "    </tr>\n",
              "    <tr>\n",
              "      <th>46414</th>\n",
              "      <td>439050</td>\n",
              "      <td>[{'id': 10703, 'name': 'tragic love'}]</td>\n",
              "    </tr>\n",
              "    <tr>\n",
              "      <th>46415</th>\n",
              "      <td>111109</td>\n",
              "      <td>[{'id': 2679, 'name': 'artist'}, {'id': 14531,...</td>\n",
              "    </tr>\n",
              "    <tr>\n",
              "      <th>46416</th>\n",
              "      <td>67758</td>\n",
              "      <td>[]</td>\n",
              "    </tr>\n",
              "    <tr>\n",
              "      <th>46417</th>\n",
              "      <td>227506</td>\n",
              "      <td>[]</td>\n",
              "    </tr>\n",
              "    <tr>\n",
              "      <th>46418</th>\n",
              "      <td>461257</td>\n",
              "      <td>[]</td>\n",
              "    </tr>\n",
              "  </tbody>\n",
              "</table>\n",
              "<p>46419 rows × 2 columns</p>\n",
              "</div>"
            ],
            "text/plain": [
              "           id                                           keywords\n",
              "0         862  [{'id': 931, 'name': 'jealousy'}, {'id': 4290,...\n",
              "1        8844  [{'id': 10090, 'name': 'board game'}, {'id': 1...\n",
              "2       15602  [{'id': 1495, 'name': 'fishing'}, {'id': 12392...\n",
              "3       31357  [{'id': 818, 'name': 'based on novel'}, {'id':...\n",
              "4       11862  [{'id': 1009, 'name': 'baby'}, {'id': 1599, 'n...\n",
              "...       ...                                                ...\n",
              "46414  439050             [{'id': 10703, 'name': 'tragic love'}]\n",
              "46415  111109  [{'id': 2679, 'name': 'artist'}, {'id': 14531,...\n",
              "46416   67758                                                 []\n",
              "46417  227506                                                 []\n",
              "46418  461257                                                 []\n",
              "\n",
              "[46419 rows x 2 columns]"
            ]
          },
          "execution_count": 5,
          "metadata": {},
          "output_type": "execute_result"
        }
      ],
      "source": [
        "keywords"
      ]
    },
    {
      "cell_type": "code",
      "execution_count": null,
      "metadata": {
        "colab": {
          "base_uri": "https://localhost:8080/"
        },
        "id": "_LpFpORrJxTl",
        "outputId": "ff3717d8-d0a7-4b30-f0a0-cc317d5f8bed"
      },
      "outputs": [
        {
          "name": "stdout",
          "output_type": "stream",
          "text": [
            "<class 'pandas.core.frame.DataFrame'>\n",
            "RangeIndex: 46419 entries, 0 to 46418\n",
            "Data columns (total 2 columns):\n",
            " #   Column    Non-Null Count  Dtype \n",
            "---  ------    --------------  ----- \n",
            " 0   id        46419 non-null  int64 \n",
            " 1   keywords  46419 non-null  object\n",
            "dtypes: int64(1), object(1)\n",
            "memory usage: 725.4+ KB\n"
          ]
        }
      ],
      "source": [
        "keywords.info()"
      ]
    },
    {
      "cell_type": "markdown",
      "metadata": {
        "id": "lVmuS_gNK-0p"
      },
      "source": [
        "Informasi di atas menunjukkan terdapat 46419 data dengan tipe data `int64` sebanyak satu kolom, dan satu bertipe data `object`. Dengan uraian setiap fitur sebagai berikut:<br>\n",
        "\n",
        "- `id`: Berisi ID *unique* untuk setiap film yang sesuai dengan `id` di file `movies_metadata.csv`,\n",
        "- `keywords`: Berisi daftar kata kunci (keywords) yang relevan dengan film."
      ]
    },
    {
      "cell_type": "markdown",
      "metadata": {
        "id": "OHslgnEeK-0q"
      },
      "source": [
        "### links"
      ]
    },
    {
      "cell_type": "code",
      "execution_count": null,
      "metadata": {
        "colab": {
          "base_uri": "https://localhost:8080/",
          "height": 423
        },
        "id": "-t15nCUiJysx",
        "outputId": "4e4787ce-f9e7-4007-f23f-357d80c23fdc"
      },
      "outputs": [
        {
          "data": {
            "text/html": [
              "<div>\n",
              "<style scoped>\n",
              "    .dataframe tbody tr th:only-of-type {\n",
              "        vertical-align: middle;\n",
              "    }\n",
              "\n",
              "    .dataframe tbody tr th {\n",
              "        vertical-align: top;\n",
              "    }\n",
              "\n",
              "    .dataframe thead th {\n",
              "        text-align: right;\n",
              "    }\n",
              "</style>\n",
              "<table border=\"1\" class=\"dataframe\">\n",
              "  <thead>\n",
              "    <tr style=\"text-align: right;\">\n",
              "      <th></th>\n",
              "      <th>movieId</th>\n",
              "      <th>imdbId</th>\n",
              "      <th>tmdbId</th>\n",
              "    </tr>\n",
              "  </thead>\n",
              "  <tbody>\n",
              "    <tr>\n",
              "      <th>0</th>\n",
              "      <td>1</td>\n",
              "      <td>114709</td>\n",
              "      <td>862.0</td>\n",
              "    </tr>\n",
              "    <tr>\n",
              "      <th>1</th>\n",
              "      <td>2</td>\n",
              "      <td>113497</td>\n",
              "      <td>8844.0</td>\n",
              "    </tr>\n",
              "    <tr>\n",
              "      <th>2</th>\n",
              "      <td>3</td>\n",
              "      <td>113228</td>\n",
              "      <td>15602.0</td>\n",
              "    </tr>\n",
              "    <tr>\n",
              "      <th>3</th>\n",
              "      <td>4</td>\n",
              "      <td>114885</td>\n",
              "      <td>31357.0</td>\n",
              "    </tr>\n",
              "    <tr>\n",
              "      <th>4</th>\n",
              "      <td>5</td>\n",
              "      <td>113041</td>\n",
              "      <td>11862.0</td>\n",
              "    </tr>\n",
              "    <tr>\n",
              "      <th>...</th>\n",
              "      <td>...</td>\n",
              "      <td>...</td>\n",
              "      <td>...</td>\n",
              "    </tr>\n",
              "    <tr>\n",
              "      <th>45838</th>\n",
              "      <td>176269</td>\n",
              "      <td>6209470</td>\n",
              "      <td>439050.0</td>\n",
              "    </tr>\n",
              "    <tr>\n",
              "      <th>45839</th>\n",
              "      <td>176271</td>\n",
              "      <td>2028550</td>\n",
              "      <td>111109.0</td>\n",
              "    </tr>\n",
              "    <tr>\n",
              "      <th>45840</th>\n",
              "      <td>176273</td>\n",
              "      <td>303758</td>\n",
              "      <td>67758.0</td>\n",
              "    </tr>\n",
              "    <tr>\n",
              "      <th>45841</th>\n",
              "      <td>176275</td>\n",
              "      <td>8536</td>\n",
              "      <td>227506.0</td>\n",
              "    </tr>\n",
              "    <tr>\n",
              "      <th>45842</th>\n",
              "      <td>176279</td>\n",
              "      <td>6980792</td>\n",
              "      <td>461257.0</td>\n",
              "    </tr>\n",
              "  </tbody>\n",
              "</table>\n",
              "<p>45843 rows × 3 columns</p>\n",
              "</div>"
            ],
            "text/plain": [
              "       movieId   imdbId    tmdbId\n",
              "0            1   114709     862.0\n",
              "1            2   113497    8844.0\n",
              "2            3   113228   15602.0\n",
              "3            4   114885   31357.0\n",
              "4            5   113041   11862.0\n",
              "...        ...      ...       ...\n",
              "45838   176269  6209470  439050.0\n",
              "45839   176271  2028550  111109.0\n",
              "45840   176273   303758   67758.0\n",
              "45841   176275     8536  227506.0\n",
              "45842   176279  6980792  461257.0\n",
              "\n",
              "[45843 rows x 3 columns]"
            ]
          },
          "execution_count": 7,
          "metadata": {},
          "output_type": "execute_result"
        }
      ],
      "source": [
        "links"
      ]
    },
    {
      "cell_type": "code",
      "execution_count": null,
      "metadata": {
        "colab": {
          "base_uri": "https://localhost:8080/"
        },
        "id": "__9EEwE3J1Ep",
        "outputId": "d77d39be-c82b-4b8f-d18c-f61e8f218144"
      },
      "outputs": [
        {
          "name": "stdout",
          "output_type": "stream",
          "text": [
            "<class 'pandas.core.frame.DataFrame'>\n",
            "RangeIndex: 45843 entries, 0 to 45842\n",
            "Data columns (total 3 columns):\n",
            " #   Column   Non-Null Count  Dtype  \n",
            "---  ------   --------------  -----  \n",
            " 0   movieId  45843 non-null  int64  \n",
            " 1   imdbId   45843 non-null  int64  \n",
            " 2   tmdbId   45624 non-null  float64\n",
            "dtypes: float64(1), int64(2)\n",
            "memory usage: 1.0 MB\n"
          ]
        }
      ],
      "source": [
        "links.info()"
      ]
    },
    {
      "cell_type": "markdown",
      "metadata": {
        "id": "X_k10dO2K-0q"
      },
      "source": [
        "Informasi di atas menunjukkan terdapat 45843 data dengan tipe data `float64` sebanyak satu kolom, dan dua lainnya bertipe data `int64`. Dengan uraian setiap fitur sebagai berikut:<br>\n",
        "- `movieId`: Berisi ID *unique* film yang sesuai dengan `movieId` di file `ratings.csv`,\n",
        "- `imdbId`: Berisi ID film di IMDb, digunakan untuk menghubungkan data dengan sumber luar, seperti situs IMDb,\n",
        "- `tmdbId`: Berisi ID film di TMDb (The Movie Database), juga digunakan untuk menghubungkan data dengan TMDb."
      ]
    },
    {
      "cell_type": "markdown",
      "metadata": {
        "id": "XRu4CJ5KK-0q"
      },
      "source": [
        "### links_small"
      ]
    },
    {
      "cell_type": "code",
      "execution_count": null,
      "metadata": {
        "colab": {
          "base_uri": "https://localhost:8080/",
          "height": 423
        },
        "id": "iMR6QWHqJ2DZ",
        "outputId": "f7aa8415-4c23-4d15-8829-1d0d7e014ac5"
      },
      "outputs": [
        {
          "data": {
            "text/html": [
              "<div>\n",
              "<style scoped>\n",
              "    .dataframe tbody tr th:only-of-type {\n",
              "        vertical-align: middle;\n",
              "    }\n",
              "\n",
              "    .dataframe tbody tr th {\n",
              "        vertical-align: top;\n",
              "    }\n",
              "\n",
              "    .dataframe thead th {\n",
              "        text-align: right;\n",
              "    }\n",
              "</style>\n",
              "<table border=\"1\" class=\"dataframe\">\n",
              "  <thead>\n",
              "    <tr style=\"text-align: right;\">\n",
              "      <th></th>\n",
              "      <th>movieId</th>\n",
              "      <th>imdbId</th>\n",
              "      <th>tmdbId</th>\n",
              "    </tr>\n",
              "  </thead>\n",
              "  <tbody>\n",
              "    <tr>\n",
              "      <th>0</th>\n",
              "      <td>1</td>\n",
              "      <td>114709</td>\n",
              "      <td>862.0</td>\n",
              "    </tr>\n",
              "    <tr>\n",
              "      <th>1</th>\n",
              "      <td>2</td>\n",
              "      <td>113497</td>\n",
              "      <td>8844.0</td>\n",
              "    </tr>\n",
              "    <tr>\n",
              "      <th>2</th>\n",
              "      <td>3</td>\n",
              "      <td>113228</td>\n",
              "      <td>15602.0</td>\n",
              "    </tr>\n",
              "    <tr>\n",
              "      <th>3</th>\n",
              "      <td>4</td>\n",
              "      <td>114885</td>\n",
              "      <td>31357.0</td>\n",
              "    </tr>\n",
              "    <tr>\n",
              "      <th>4</th>\n",
              "      <td>5</td>\n",
              "      <td>113041</td>\n",
              "      <td>11862.0</td>\n",
              "    </tr>\n",
              "    <tr>\n",
              "      <th>...</th>\n",
              "      <td>...</td>\n",
              "      <td>...</td>\n",
              "      <td>...</td>\n",
              "    </tr>\n",
              "    <tr>\n",
              "      <th>9120</th>\n",
              "      <td>162672</td>\n",
              "      <td>3859980</td>\n",
              "      <td>402672.0</td>\n",
              "    </tr>\n",
              "    <tr>\n",
              "      <th>9121</th>\n",
              "      <td>163056</td>\n",
              "      <td>4262980</td>\n",
              "      <td>315011.0</td>\n",
              "    </tr>\n",
              "    <tr>\n",
              "      <th>9122</th>\n",
              "      <td>163949</td>\n",
              "      <td>2531318</td>\n",
              "      <td>391698.0</td>\n",
              "    </tr>\n",
              "    <tr>\n",
              "      <th>9123</th>\n",
              "      <td>164977</td>\n",
              "      <td>27660</td>\n",
              "      <td>137608.0</td>\n",
              "    </tr>\n",
              "    <tr>\n",
              "      <th>9124</th>\n",
              "      <td>164979</td>\n",
              "      <td>3447228</td>\n",
              "      <td>410803.0</td>\n",
              "    </tr>\n",
              "  </tbody>\n",
              "</table>\n",
              "<p>9125 rows × 3 columns</p>\n",
              "</div>"
            ],
            "text/plain": [
              "      movieId   imdbId    tmdbId\n",
              "0           1   114709     862.0\n",
              "1           2   113497    8844.0\n",
              "2           3   113228   15602.0\n",
              "3           4   114885   31357.0\n",
              "4           5   113041   11862.0\n",
              "...       ...      ...       ...\n",
              "9120   162672  3859980  402672.0\n",
              "9121   163056  4262980  315011.0\n",
              "9122   163949  2531318  391698.0\n",
              "9123   164977    27660  137608.0\n",
              "9124   164979  3447228  410803.0\n",
              "\n",
              "[9125 rows x 3 columns]"
            ]
          },
          "execution_count": 9,
          "metadata": {},
          "output_type": "execute_result"
        }
      ],
      "source": [
        "links_small"
      ]
    },
    {
      "cell_type": "code",
      "execution_count": null,
      "metadata": {
        "colab": {
          "base_uri": "https://localhost:8080/"
        },
        "id": "0wVBeDtwJ3v2",
        "outputId": "b4186cfe-2fc3-4a17-b639-84c228777b64"
      },
      "outputs": [
        {
          "name": "stdout",
          "output_type": "stream",
          "text": [
            "<class 'pandas.core.frame.DataFrame'>\n",
            "RangeIndex: 9125 entries, 0 to 9124\n",
            "Data columns (total 3 columns):\n",
            " #   Column   Non-Null Count  Dtype  \n",
            "---  ------   --------------  -----  \n",
            " 0   movieId  9125 non-null   int64  \n",
            " 1   imdbId   9125 non-null   int64  \n",
            " 2   tmdbId   9112 non-null   float64\n",
            "dtypes: float64(1), int64(2)\n",
            "memory usage: 214.0 KB\n"
          ]
        }
      ],
      "source": [
        "links_small.info()"
      ]
    },
    {
      "cell_type": "markdown",
      "metadata": {
        "id": "qALSNlPTK-0r"
      },
      "source": [
        "Tabel diatas menunjukkan terdapat 9125 data dengan tipe data `float64` sebanyak satu kolom, dan dua lainnya bertipe data `int64`. Dengan uraian setiap fitur sebagai berikut:<br>\n",
        "- `movieId`: Berisi ID *unique* film yang sesuai dengan `movieId` di file `ratings.csv`,\n",
        "- `imdbId`: Berisi ID film di IMDb, digunakan untuk menghubungkan data dengan sumber luar, seperti situs IMDb,\n",
        "- `tmdbId`: Berisi ID film di TMDb (The Movie Database), juga digunakan untuk menghubungkan data dengan TMDb."
      ]
    },
    {
      "cell_type": "markdown",
      "metadata": {
        "id": "JY2KsgF1K-0r"
      },
      "source": [
        "### movies_metadata"
      ]
    },
    {
      "cell_type": "code",
      "execution_count": null,
      "metadata": {
        "colab": {
          "base_uri": "https://localhost:8080/",
          "height": 1000
        },
        "id": "2WR7ieUdJ5sh",
        "outputId": "cafd605e-2411-4d76-d9c1-7566c4da338d"
      },
      "outputs": [
        {
          "data": {
            "text/html": [
              "<div>\n",
              "<style scoped>\n",
              "    .dataframe tbody tr th:only-of-type {\n",
              "        vertical-align: middle;\n",
              "    }\n",
              "\n",
              "    .dataframe tbody tr th {\n",
              "        vertical-align: top;\n",
              "    }\n",
              "\n",
              "    .dataframe thead th {\n",
              "        text-align: right;\n",
              "    }\n",
              "</style>\n",
              "<table border=\"1\" class=\"dataframe\">\n",
              "  <thead>\n",
              "    <tr style=\"text-align: right;\">\n",
              "      <th></th>\n",
              "      <th>adult</th>\n",
              "      <th>belongs_to_collection</th>\n",
              "      <th>budget</th>\n",
              "      <th>genres</th>\n",
              "      <th>homepage</th>\n",
              "      <th>id</th>\n",
              "      <th>imdb_id</th>\n",
              "      <th>original_language</th>\n",
              "      <th>original_title</th>\n",
              "      <th>overview</th>\n",
              "      <th>...</th>\n",
              "      <th>release_date</th>\n",
              "      <th>revenue</th>\n",
              "      <th>runtime</th>\n",
              "      <th>spoken_languages</th>\n",
              "      <th>status</th>\n",
              "      <th>tagline</th>\n",
              "      <th>title</th>\n",
              "      <th>video</th>\n",
              "      <th>vote_average</th>\n",
              "      <th>vote_count</th>\n",
              "    </tr>\n",
              "  </thead>\n",
              "  <tbody>\n",
              "    <tr>\n",
              "      <th>0</th>\n",
              "      <td>False</td>\n",
              "      <td>{'id': 10194, 'name': 'Toy Story Collection', ...</td>\n",
              "      <td>30000000</td>\n",
              "      <td>[{'id': 16, 'name': 'Animation'}, {'id': 35, '...</td>\n",
              "      <td>http://toystory.disney.com/toy-story</td>\n",
              "      <td>862</td>\n",
              "      <td>tt0114709</td>\n",
              "      <td>en</td>\n",
              "      <td>Toy Story</td>\n",
              "      <td>Led by Woody, Andy's toys live happily in his ...</td>\n",
              "      <td>...</td>\n",
              "      <td>1995-10-30</td>\n",
              "      <td>373554033.0</td>\n",
              "      <td>81.0</td>\n",
              "      <td>[{'iso_639_1': 'en', 'name': 'English'}]</td>\n",
              "      <td>Released</td>\n",
              "      <td>NaN</td>\n",
              "      <td>Toy Story</td>\n",
              "      <td>False</td>\n",
              "      <td>7.7</td>\n",
              "      <td>5415.0</td>\n",
              "    </tr>\n",
              "    <tr>\n",
              "      <th>1</th>\n",
              "      <td>False</td>\n",
              "      <td>NaN</td>\n",
              "      <td>65000000</td>\n",
              "      <td>[{'id': 12, 'name': 'Adventure'}, {'id': 14, '...</td>\n",
              "      <td>NaN</td>\n",
              "      <td>8844</td>\n",
              "      <td>tt0113497</td>\n",
              "      <td>en</td>\n",
              "      <td>Jumanji</td>\n",
              "      <td>When siblings Judy and Peter discover an encha...</td>\n",
              "      <td>...</td>\n",
              "      <td>1995-12-15</td>\n",
              "      <td>262797249.0</td>\n",
              "      <td>104.0</td>\n",
              "      <td>[{'iso_639_1': 'en', 'name': 'English'}, {'iso...</td>\n",
              "      <td>Released</td>\n",
              "      <td>Roll the dice and unleash the excitement!</td>\n",
              "      <td>Jumanji</td>\n",
              "      <td>False</td>\n",
              "      <td>6.9</td>\n",
              "      <td>2413.0</td>\n",
              "    </tr>\n",
              "    <tr>\n",
              "      <th>2</th>\n",
              "      <td>False</td>\n",
              "      <td>{'id': 119050, 'name': 'Grumpy Old Men Collect...</td>\n",
              "      <td>0</td>\n",
              "      <td>[{'id': 10749, 'name': 'Romance'}, {'id': 35, ...</td>\n",
              "      <td>NaN</td>\n",
              "      <td>15602</td>\n",
              "      <td>tt0113228</td>\n",
              "      <td>en</td>\n",
              "      <td>Grumpier Old Men</td>\n",
              "      <td>A family wedding reignites the ancient feud be...</td>\n",
              "      <td>...</td>\n",
              "      <td>1995-12-22</td>\n",
              "      <td>0.0</td>\n",
              "      <td>101.0</td>\n",
              "      <td>[{'iso_639_1': 'en', 'name': 'English'}]</td>\n",
              "      <td>Released</td>\n",
              "      <td>Still Yelling. Still Fighting. Still Ready for...</td>\n",
              "      <td>Grumpier Old Men</td>\n",
              "      <td>False</td>\n",
              "      <td>6.5</td>\n",
              "      <td>92.0</td>\n",
              "    </tr>\n",
              "    <tr>\n",
              "      <th>3</th>\n",
              "      <td>False</td>\n",
              "      <td>NaN</td>\n",
              "      <td>16000000</td>\n",
              "      <td>[{'id': 35, 'name': 'Comedy'}, {'id': 18, 'nam...</td>\n",
              "      <td>NaN</td>\n",
              "      <td>31357</td>\n",
              "      <td>tt0114885</td>\n",
              "      <td>en</td>\n",
              "      <td>Waiting to Exhale</td>\n",
              "      <td>Cheated on, mistreated and stepped on, the wom...</td>\n",
              "      <td>...</td>\n",
              "      <td>1995-12-22</td>\n",
              "      <td>81452156.0</td>\n",
              "      <td>127.0</td>\n",
              "      <td>[{'iso_639_1': 'en', 'name': 'English'}]</td>\n",
              "      <td>Released</td>\n",
              "      <td>Friends are the people who let you be yourself...</td>\n",
              "      <td>Waiting to Exhale</td>\n",
              "      <td>False</td>\n",
              "      <td>6.1</td>\n",
              "      <td>34.0</td>\n",
              "    </tr>\n",
              "    <tr>\n",
              "      <th>4</th>\n",
              "      <td>False</td>\n",
              "      <td>{'id': 96871, 'name': 'Father of the Bride Col...</td>\n",
              "      <td>0</td>\n",
              "      <td>[{'id': 35, 'name': 'Comedy'}]</td>\n",
              "      <td>NaN</td>\n",
              "      <td>11862</td>\n",
              "      <td>tt0113041</td>\n",
              "      <td>en</td>\n",
              "      <td>Father of the Bride Part II</td>\n",
              "      <td>Just when George Banks has recovered from his ...</td>\n",
              "      <td>...</td>\n",
              "      <td>1995-02-10</td>\n",
              "      <td>76578911.0</td>\n",
              "      <td>106.0</td>\n",
              "      <td>[{'iso_639_1': 'en', 'name': 'English'}]</td>\n",
              "      <td>Released</td>\n",
              "      <td>Just When His World Is Back To Normal... He's ...</td>\n",
              "      <td>Father of the Bride Part II</td>\n",
              "      <td>False</td>\n",
              "      <td>5.7</td>\n",
              "      <td>173.0</td>\n",
              "    </tr>\n",
              "    <tr>\n",
              "      <th>...</th>\n",
              "      <td>...</td>\n",
              "      <td>...</td>\n",
              "      <td>...</td>\n",
              "      <td>...</td>\n",
              "      <td>...</td>\n",
              "      <td>...</td>\n",
              "      <td>...</td>\n",
              "      <td>...</td>\n",
              "      <td>...</td>\n",
              "      <td>...</td>\n",
              "      <td>...</td>\n",
              "      <td>...</td>\n",
              "      <td>...</td>\n",
              "      <td>...</td>\n",
              "      <td>...</td>\n",
              "      <td>...</td>\n",
              "      <td>...</td>\n",
              "      <td>...</td>\n",
              "      <td>...</td>\n",
              "      <td>...</td>\n",
              "      <td>...</td>\n",
              "    </tr>\n",
              "    <tr>\n",
              "      <th>45461</th>\n",
              "      <td>False</td>\n",
              "      <td>NaN</td>\n",
              "      <td>0</td>\n",
              "      <td>[{'id': 18, 'name': 'Drama'}, {'id': 10751, 'n...</td>\n",
              "      <td>http://www.imdb.com/title/tt6209470/</td>\n",
              "      <td>439050</td>\n",
              "      <td>tt6209470</td>\n",
              "      <td>fa</td>\n",
              "      <td>رگ خواب</td>\n",
              "      <td>Rising and falling between a man and woman.</td>\n",
              "      <td>...</td>\n",
              "      <td>NaN</td>\n",
              "      <td>0.0</td>\n",
              "      <td>90.0</td>\n",
              "      <td>[{'iso_639_1': 'fa', 'name': 'فارسی'}]</td>\n",
              "      <td>Released</td>\n",
              "      <td>Rising and falling between a man and woman</td>\n",
              "      <td>Subdue</td>\n",
              "      <td>False</td>\n",
              "      <td>4.0</td>\n",
              "      <td>1.0</td>\n",
              "    </tr>\n",
              "    <tr>\n",
              "      <th>45462</th>\n",
              "      <td>False</td>\n",
              "      <td>NaN</td>\n",
              "      <td>0</td>\n",
              "      <td>[{'id': 18, 'name': 'Drama'}]</td>\n",
              "      <td>NaN</td>\n",
              "      <td>111109</td>\n",
              "      <td>tt2028550</td>\n",
              "      <td>tl</td>\n",
              "      <td>Siglo ng Pagluluwal</td>\n",
              "      <td>An artist struggles to finish his work while a...</td>\n",
              "      <td>...</td>\n",
              "      <td>2011-11-17</td>\n",
              "      <td>0.0</td>\n",
              "      <td>360.0</td>\n",
              "      <td>[{'iso_639_1': 'tl', 'name': ''}]</td>\n",
              "      <td>Released</td>\n",
              "      <td>NaN</td>\n",
              "      <td>Century of Birthing</td>\n",
              "      <td>False</td>\n",
              "      <td>9.0</td>\n",
              "      <td>3.0</td>\n",
              "    </tr>\n",
              "    <tr>\n",
              "      <th>45463</th>\n",
              "      <td>False</td>\n",
              "      <td>NaN</td>\n",
              "      <td>0</td>\n",
              "      <td>[{'id': 28, 'name': 'Action'}, {'id': 18, 'nam...</td>\n",
              "      <td>NaN</td>\n",
              "      <td>67758</td>\n",
              "      <td>tt0303758</td>\n",
              "      <td>en</td>\n",
              "      <td>Betrayal</td>\n",
              "      <td>When one of her hits goes wrong, a professiona...</td>\n",
              "      <td>...</td>\n",
              "      <td>2003-08-01</td>\n",
              "      <td>0.0</td>\n",
              "      <td>90.0</td>\n",
              "      <td>[{'iso_639_1': 'en', 'name': 'English'}]</td>\n",
              "      <td>Released</td>\n",
              "      <td>A deadly game of wits.</td>\n",
              "      <td>Betrayal</td>\n",
              "      <td>False</td>\n",
              "      <td>3.8</td>\n",
              "      <td>6.0</td>\n",
              "    </tr>\n",
              "    <tr>\n",
              "      <th>45464</th>\n",
              "      <td>False</td>\n",
              "      <td>NaN</td>\n",
              "      <td>0</td>\n",
              "      <td>[]</td>\n",
              "      <td>NaN</td>\n",
              "      <td>227506</td>\n",
              "      <td>tt0008536</td>\n",
              "      <td>en</td>\n",
              "      <td>Satana likuyushchiy</td>\n",
              "      <td>In a small town live two brothers, one a minis...</td>\n",
              "      <td>...</td>\n",
              "      <td>1917-10-21</td>\n",
              "      <td>0.0</td>\n",
              "      <td>87.0</td>\n",
              "      <td>[]</td>\n",
              "      <td>Released</td>\n",
              "      <td>NaN</td>\n",
              "      <td>Satan Triumphant</td>\n",
              "      <td>False</td>\n",
              "      <td>0.0</td>\n",
              "      <td>0.0</td>\n",
              "    </tr>\n",
              "    <tr>\n",
              "      <th>45465</th>\n",
              "      <td>False</td>\n",
              "      <td>NaN</td>\n",
              "      <td>0</td>\n",
              "      <td>[]</td>\n",
              "      <td>NaN</td>\n",
              "      <td>461257</td>\n",
              "      <td>tt6980792</td>\n",
              "      <td>en</td>\n",
              "      <td>Queerama</td>\n",
              "      <td>50 years after decriminalisation of homosexual...</td>\n",
              "      <td>...</td>\n",
              "      <td>2017-06-09</td>\n",
              "      <td>0.0</td>\n",
              "      <td>75.0</td>\n",
              "      <td>[{'iso_639_1': 'en', 'name': 'English'}]</td>\n",
              "      <td>Released</td>\n",
              "      <td>NaN</td>\n",
              "      <td>Queerama</td>\n",
              "      <td>False</td>\n",
              "      <td>0.0</td>\n",
              "      <td>0.0</td>\n",
              "    </tr>\n",
              "  </tbody>\n",
              "</table>\n",
              "<p>45466 rows × 24 columns</p>\n",
              "</div>"
            ],
            "text/plain": [
              "       adult                              belongs_to_collection    budget  \\\n",
              "0      False  {'id': 10194, 'name': 'Toy Story Collection', ...  30000000   \n",
              "1      False                                                NaN  65000000   \n",
              "2      False  {'id': 119050, 'name': 'Grumpy Old Men Collect...         0   \n",
              "3      False                                                NaN  16000000   \n",
              "4      False  {'id': 96871, 'name': 'Father of the Bride Col...         0   \n",
              "...      ...                                                ...       ...   \n",
              "45461  False                                                NaN         0   \n",
              "45462  False                                                NaN         0   \n",
              "45463  False                                                NaN         0   \n",
              "45464  False                                                NaN         0   \n",
              "45465  False                                                NaN         0   \n",
              "\n",
              "                                                  genres  \\\n",
              "0      [{'id': 16, 'name': 'Animation'}, {'id': 35, '...   \n",
              "1      [{'id': 12, 'name': 'Adventure'}, {'id': 14, '...   \n",
              "2      [{'id': 10749, 'name': 'Romance'}, {'id': 35, ...   \n",
              "3      [{'id': 35, 'name': 'Comedy'}, {'id': 18, 'nam...   \n",
              "4                         [{'id': 35, 'name': 'Comedy'}]   \n",
              "...                                                  ...   \n",
              "45461  [{'id': 18, 'name': 'Drama'}, {'id': 10751, 'n...   \n",
              "45462                      [{'id': 18, 'name': 'Drama'}]   \n",
              "45463  [{'id': 28, 'name': 'Action'}, {'id': 18, 'nam...   \n",
              "45464                                                 []   \n",
              "45465                                                 []   \n",
              "\n",
              "                                   homepage      id    imdb_id  \\\n",
              "0      http://toystory.disney.com/toy-story     862  tt0114709   \n",
              "1                                       NaN    8844  tt0113497   \n",
              "2                                       NaN   15602  tt0113228   \n",
              "3                                       NaN   31357  tt0114885   \n",
              "4                                       NaN   11862  tt0113041   \n",
              "...                                     ...     ...        ...   \n",
              "45461  http://www.imdb.com/title/tt6209470/  439050  tt6209470   \n",
              "45462                                   NaN  111109  tt2028550   \n",
              "45463                                   NaN   67758  tt0303758   \n",
              "45464                                   NaN  227506  tt0008536   \n",
              "45465                                   NaN  461257  tt6980792   \n",
              "\n",
              "      original_language               original_title  \\\n",
              "0                    en                    Toy Story   \n",
              "1                    en                      Jumanji   \n",
              "2                    en             Grumpier Old Men   \n",
              "3                    en            Waiting to Exhale   \n",
              "4                    en  Father of the Bride Part II   \n",
              "...                 ...                          ...   \n",
              "45461                fa                      رگ خواب   \n",
              "45462                tl          Siglo ng Pagluluwal   \n",
              "45463                en                     Betrayal   \n",
              "45464                en          Satana likuyushchiy   \n",
              "45465                en                     Queerama   \n",
              "\n",
              "                                                overview  ... release_date  \\\n",
              "0      Led by Woody, Andy's toys live happily in his ...  ...   1995-10-30   \n",
              "1      When siblings Judy and Peter discover an encha...  ...   1995-12-15   \n",
              "2      A family wedding reignites the ancient feud be...  ...   1995-12-22   \n",
              "3      Cheated on, mistreated and stepped on, the wom...  ...   1995-12-22   \n",
              "4      Just when George Banks has recovered from his ...  ...   1995-02-10   \n",
              "...                                                  ...  ...          ...   \n",
              "45461        Rising and falling between a man and woman.  ...          NaN   \n",
              "45462  An artist struggles to finish his work while a...  ...   2011-11-17   \n",
              "45463  When one of her hits goes wrong, a professiona...  ...   2003-08-01   \n",
              "45464  In a small town live two brothers, one a minis...  ...   1917-10-21   \n",
              "45465  50 years after decriminalisation of homosexual...  ...   2017-06-09   \n",
              "\n",
              "           revenue runtime                                   spoken_languages  \\\n",
              "0      373554033.0    81.0           [{'iso_639_1': 'en', 'name': 'English'}]   \n",
              "1      262797249.0   104.0  [{'iso_639_1': 'en', 'name': 'English'}, {'iso...   \n",
              "2              0.0   101.0           [{'iso_639_1': 'en', 'name': 'English'}]   \n",
              "3       81452156.0   127.0           [{'iso_639_1': 'en', 'name': 'English'}]   \n",
              "4       76578911.0   106.0           [{'iso_639_1': 'en', 'name': 'English'}]   \n",
              "...            ...     ...                                                ...   \n",
              "45461          0.0    90.0             [{'iso_639_1': 'fa', 'name': 'فارسی'}]   \n",
              "45462          0.0   360.0                  [{'iso_639_1': 'tl', 'name': ''}]   \n",
              "45463          0.0    90.0           [{'iso_639_1': 'en', 'name': 'English'}]   \n",
              "45464          0.0    87.0                                                 []   \n",
              "45465          0.0    75.0           [{'iso_639_1': 'en', 'name': 'English'}]   \n",
              "\n",
              "         status                                            tagline  \\\n",
              "0      Released                                                NaN   \n",
              "1      Released          Roll the dice and unleash the excitement!   \n",
              "2      Released  Still Yelling. Still Fighting. Still Ready for...   \n",
              "3      Released  Friends are the people who let you be yourself...   \n",
              "4      Released  Just When His World Is Back To Normal... He's ...   \n",
              "...         ...                                                ...   \n",
              "45461  Released         Rising and falling between a man and woman   \n",
              "45462  Released                                                NaN   \n",
              "45463  Released                             A deadly game of wits.   \n",
              "45464  Released                                                NaN   \n",
              "45465  Released                                                NaN   \n",
              "\n",
              "                             title  video vote_average vote_count  \n",
              "0                        Toy Story  False          7.7     5415.0  \n",
              "1                          Jumanji  False          6.9     2413.0  \n",
              "2                 Grumpier Old Men  False          6.5       92.0  \n",
              "3                Waiting to Exhale  False          6.1       34.0  \n",
              "4      Father of the Bride Part II  False          5.7      173.0  \n",
              "...                            ...    ...          ...        ...  \n",
              "45461                       Subdue  False          4.0        1.0  \n",
              "45462          Century of Birthing  False          9.0        3.0  \n",
              "45463                     Betrayal  False          3.8        6.0  \n",
              "45464             Satan Triumphant  False          0.0        0.0  \n",
              "45465                     Queerama  False          0.0        0.0  \n",
              "\n",
              "[45466 rows x 24 columns]"
            ]
          },
          "execution_count": 11,
          "metadata": {},
          "output_type": "execute_result"
        }
      ],
      "source": [
        "movies_metadata"
      ]
    },
    {
      "cell_type": "code",
      "execution_count": null,
      "metadata": {
        "colab": {
          "base_uri": "https://localhost:8080/"
        },
        "id": "88WkCU98KBDZ",
        "outputId": "f5a1e670-5141-49a5-aa1f-c9f1a8fff7bf"
      },
      "outputs": [
        {
          "name": "stdout",
          "output_type": "stream",
          "text": [
            "<class 'pandas.core.frame.DataFrame'>\n",
            "RangeIndex: 45466 entries, 0 to 45465\n",
            "Data columns (total 24 columns):\n",
            " #   Column                 Non-Null Count  Dtype  \n",
            "---  ------                 --------------  -----  \n",
            " 0   adult                  45466 non-null  object \n",
            " 1   belongs_to_collection  4494 non-null   object \n",
            " 2   budget                 45466 non-null  object \n",
            " 3   genres                 45466 non-null  object \n",
            " 4   homepage               7782 non-null   object \n",
            " 5   id                     45466 non-null  object \n",
            " 6   imdb_id                45449 non-null  object \n",
            " 7   original_language      45455 non-null  object \n",
            " 8   original_title         45466 non-null  object \n",
            " 9   overview               44512 non-null  object \n",
            " 10  popularity             45461 non-null  object \n",
            " 11  poster_path            45080 non-null  object \n",
            " 12  production_companies   45463 non-null  object \n",
            " 13  production_countries   45463 non-null  object \n",
            " 14  release_date           45379 non-null  object \n",
            " 15  revenue                45460 non-null  float64\n",
            " 16  runtime                45203 non-null  float64\n",
            " 17  spoken_languages       45460 non-null  object \n",
            " 18  status                 45379 non-null  object \n",
            " 19  tagline                20412 non-null  object \n",
            " 20  title                  45460 non-null  object \n",
            " 21  video                  45460 non-null  object \n",
            " 22  vote_average           45460 non-null  float64\n",
            " 23  vote_count             45460 non-null  float64\n",
            "dtypes: float64(4), object(20)\n",
            "memory usage: 8.3+ MB\n"
          ]
        }
      ],
      "source": [
        "movies_metadata.info()"
      ]
    },
    {
      "cell_type": "markdown",
      "metadata": {
        "id": "ymEv_xarK-0s"
      },
      "source": [
        "Tabel di atas menunjukkan terdapat 45466 data dengan tipe data `float64` sebanyak empat kolom, dan 20 lainnya bertipe data `int64`. Dengan uraian setiap fitur sebagai berikut:<br>\n",
        "- `adult`: Berisi apakah film ini untuk dewasa atau tidak,\n",
        "- `belongs_to_collection`: Berisi informasi tentang koleksi film,\n",
        "- `budget`: Berisi anggaran pembuatan film,\n",
        "- `genres`: Berisi daftar genre film,\n",
        "- `homepage`: Berisi URL situs resmi film,\n",
        "- `id`: Berisi ID *unique* untuk setiap film, digunakan untuk menghubungkan dengan file lain,\n",
        "- `imdb_id`: Berisi ID *unique* film di IMDb,\n",
        "- `original_language`: Berisi bahasa asli film,\n",
        "- `original_title`: Berisi judul asli film,\n",
        "- `overview`: Berisi sinopsis atau deskripsi singkat tentang film,\n",
        "- `popularity`: Berisi skor popularitas film,\n",
        "- `poster_path`: Berisi *path* atau URL untuk poster film,\n",
        "- `production_companies`: Berisi daftar perusahaan produksi yang terlibat dalam pembuatan film,\n",
        "- `production_countries`: Berisi daftar negara tempat produksi film,\n",
        "- `release_date`: Berisi tanggal rilis film,\n",
        "- `revenue`: Berisi pendapatan yang dihasilkan oleh film,\n",
        "- `runtime`: Berisi durasi film dalam menit,\n",
        "- `spoken_languages`: Berisi daftar bahasa yang digunakan dalam film,\n",
        "- `status`: Berisi status rilis film,\n",
        "- `tagline`: Berisi *tagline* atau slogan film,\n",
        "- `title`: Berisi judul film,\n",
        "- `video`: Berisi apakah film ini memiliki video terkait,\n",
        "- `vote_average`: Berisi rata-rata *rating* yang diberikan oleh pengguna,\n",
        "- `vote_count`: Berisi jumlah total *vote* atau *rating* yang diberikan oleh pengguna."
      ]
    },
    {
      "cell_type": "markdown",
      "metadata": {
        "id": "STsfr8MYK-0s"
      },
      "source": [
        "### ratings"
      ]
    },
    {
      "cell_type": "code",
      "execution_count": null,
      "metadata": {
        "colab": {
          "base_uri": "https://localhost:8080/",
          "height": 423
        },
        "id": "-aRg2tEoHkHo",
        "outputId": "06ef3038-c726-4019-ccc7-61fdf5687abf"
      },
      "outputs": [
        {
          "data": {
            "text/html": [
              "<div>\n",
              "<style scoped>\n",
              "    .dataframe tbody tr th:only-of-type {\n",
              "        vertical-align: middle;\n",
              "    }\n",
              "\n",
              "    .dataframe tbody tr th {\n",
              "        vertical-align: top;\n",
              "    }\n",
              "\n",
              "    .dataframe thead th {\n",
              "        text-align: right;\n",
              "    }\n",
              "</style>\n",
              "<table border=\"1\" class=\"dataframe\">\n",
              "  <thead>\n",
              "    <tr style=\"text-align: right;\">\n",
              "      <th></th>\n",
              "      <th>userId</th>\n",
              "      <th>movieId</th>\n",
              "      <th>rating</th>\n",
              "      <th>timestamp</th>\n",
              "    </tr>\n",
              "  </thead>\n",
              "  <tbody>\n",
              "    <tr>\n",
              "      <th>0</th>\n",
              "      <td>1</td>\n",
              "      <td>110</td>\n",
              "      <td>1.0</td>\n",
              "      <td>1425941529</td>\n",
              "    </tr>\n",
              "    <tr>\n",
              "      <th>1</th>\n",
              "      <td>1</td>\n",
              "      <td>147</td>\n",
              "      <td>4.5</td>\n",
              "      <td>1425942435</td>\n",
              "    </tr>\n",
              "    <tr>\n",
              "      <th>2</th>\n",
              "      <td>1</td>\n",
              "      <td>858</td>\n",
              "      <td>5.0</td>\n",
              "      <td>1425941523</td>\n",
              "    </tr>\n",
              "    <tr>\n",
              "      <th>3</th>\n",
              "      <td>1</td>\n",
              "      <td>1221</td>\n",
              "      <td>5.0</td>\n",
              "      <td>1425941546</td>\n",
              "    </tr>\n",
              "    <tr>\n",
              "      <th>4</th>\n",
              "      <td>1</td>\n",
              "      <td>1246</td>\n",
              "      <td>5.0</td>\n",
              "      <td>1425941556</td>\n",
              "    </tr>\n",
              "    <tr>\n",
              "      <th>...</th>\n",
              "      <td>...</td>\n",
              "      <td>...</td>\n",
              "      <td>...</td>\n",
              "      <td>...</td>\n",
              "    </tr>\n",
              "    <tr>\n",
              "      <th>26024284</th>\n",
              "      <td>270896</td>\n",
              "      <td>58559</td>\n",
              "      <td>5.0</td>\n",
              "      <td>1257031564</td>\n",
              "    </tr>\n",
              "    <tr>\n",
              "      <th>26024285</th>\n",
              "      <td>270896</td>\n",
              "      <td>60069</td>\n",
              "      <td>5.0</td>\n",
              "      <td>1257032032</td>\n",
              "    </tr>\n",
              "    <tr>\n",
              "      <th>26024286</th>\n",
              "      <td>270896</td>\n",
              "      <td>63082</td>\n",
              "      <td>4.5</td>\n",
              "      <td>1257031764</td>\n",
              "    </tr>\n",
              "    <tr>\n",
              "      <th>26024287</th>\n",
              "      <td>270896</td>\n",
              "      <td>64957</td>\n",
              "      <td>4.5</td>\n",
              "      <td>1257033990</td>\n",
              "    </tr>\n",
              "    <tr>\n",
              "      <th>26024288</th>\n",
              "      <td>270896</td>\n",
              "      <td>71878</td>\n",
              "      <td>2.0</td>\n",
              "      <td>1257031858</td>\n",
              "    </tr>\n",
              "  </tbody>\n",
              "</table>\n",
              "<p>26024289 rows × 4 columns</p>\n",
              "</div>"
            ],
            "text/plain": [
              "          userId  movieId  rating   timestamp\n",
              "0              1      110     1.0  1425941529\n",
              "1              1      147     4.5  1425942435\n",
              "2              1      858     5.0  1425941523\n",
              "3              1     1221     5.0  1425941546\n",
              "4              1     1246     5.0  1425941556\n",
              "...          ...      ...     ...         ...\n",
              "26024284  270896    58559     5.0  1257031564\n",
              "26024285  270896    60069     5.0  1257032032\n",
              "26024286  270896    63082     4.5  1257031764\n",
              "26024287  270896    64957     4.5  1257033990\n",
              "26024288  270896    71878     2.0  1257031858\n",
              "\n",
              "[26024289 rows x 4 columns]"
            ]
          },
          "execution_count": 14,
          "metadata": {},
          "output_type": "execute_result"
        }
      ],
      "source": [
        "ratings"
      ]
    },
    {
      "cell_type": "code",
      "execution_count": null,
      "metadata": {
        "colab": {
          "base_uri": "https://localhost:8080/"
        },
        "id": "3hM0FlwuKDNd",
        "outputId": "5a08d8b2-328a-41b9-ef25-6d10f26dc93d"
      },
      "outputs": [
        {
          "name": "stdout",
          "output_type": "stream",
          "text": [
            "<class 'pandas.core.frame.DataFrame'>\n",
            "RangeIndex: 26024289 entries, 0 to 26024288\n",
            "Data columns (total 4 columns):\n",
            " #   Column     Dtype  \n",
            "---  ------     -----  \n",
            " 0   userId     int64  \n",
            " 1   movieId    int64  \n",
            " 2   rating     float64\n",
            " 3   timestamp  int64  \n",
            "dtypes: float64(1), int64(3)\n",
            "memory usage: 794.2 MB\n"
          ]
        }
      ],
      "source": [
        "ratings.info()"
      ]
    },
    {
      "cell_type": "markdown",
      "metadata": {
        "id": "3-PLq0KQK-0t"
      },
      "source": [
        "Informasi di atas menunjukkan terdapat 26024289 data dengan tipe data `float64` sebanyak satu kolom, dan tiga lainnya bertipe data `int64`. Dengan uraian setiap fitur sebagai berikut:<br>\n",
        "- `userId`: Berisi ID *unique* untuk setiap pengguna,\n",
        "- `movieId`: Berisi ID *unique* untuk setiap film yang sesuai dengan `movieId` di `links.csv`,\n",
        "- `rating`: Berisi rating yang diberikan oleh pengguna untuk film tersebut,\n",
        "- `timestamp`: Berisi waktu saat *rating* diberikan."
      ]
    },
    {
      "cell_type": "markdown",
      "metadata": {
        "id": "u6wTSwdHK-0t"
      },
      "source": [
        "### ratings_small"
      ]
    },
    {
      "cell_type": "code",
      "execution_count": null,
      "metadata": {
        "colab": {
          "base_uri": "https://localhost:8080/",
          "height": 423
        },
        "id": "B38wjFmnHmC3",
        "outputId": "00af92fe-bfb1-4c6a-b578-42f8c672eada"
      },
      "outputs": [
        {
          "data": {
            "text/html": [
              "<div>\n",
              "<style scoped>\n",
              "    .dataframe tbody tr th:only-of-type {\n",
              "        vertical-align: middle;\n",
              "    }\n",
              "\n",
              "    .dataframe tbody tr th {\n",
              "        vertical-align: top;\n",
              "    }\n",
              "\n",
              "    .dataframe thead th {\n",
              "        text-align: right;\n",
              "    }\n",
              "</style>\n",
              "<table border=\"1\" class=\"dataframe\">\n",
              "  <thead>\n",
              "    <tr style=\"text-align: right;\">\n",
              "      <th></th>\n",
              "      <th>userId</th>\n",
              "      <th>movieId</th>\n",
              "      <th>rating</th>\n",
              "      <th>timestamp</th>\n",
              "    </tr>\n",
              "  </thead>\n",
              "  <tbody>\n",
              "    <tr>\n",
              "      <th>0</th>\n",
              "      <td>1</td>\n",
              "      <td>31</td>\n",
              "      <td>2.5</td>\n",
              "      <td>1260759144</td>\n",
              "    </tr>\n",
              "    <tr>\n",
              "      <th>1</th>\n",
              "      <td>1</td>\n",
              "      <td>1029</td>\n",
              "      <td>3.0</td>\n",
              "      <td>1260759179</td>\n",
              "    </tr>\n",
              "    <tr>\n",
              "      <th>2</th>\n",
              "      <td>1</td>\n",
              "      <td>1061</td>\n",
              "      <td>3.0</td>\n",
              "      <td>1260759182</td>\n",
              "    </tr>\n",
              "    <tr>\n",
              "      <th>3</th>\n",
              "      <td>1</td>\n",
              "      <td>1129</td>\n",
              "      <td>2.0</td>\n",
              "      <td>1260759185</td>\n",
              "    </tr>\n",
              "    <tr>\n",
              "      <th>4</th>\n",
              "      <td>1</td>\n",
              "      <td>1172</td>\n",
              "      <td>4.0</td>\n",
              "      <td>1260759205</td>\n",
              "    </tr>\n",
              "    <tr>\n",
              "      <th>...</th>\n",
              "      <td>...</td>\n",
              "      <td>...</td>\n",
              "      <td>...</td>\n",
              "      <td>...</td>\n",
              "    </tr>\n",
              "    <tr>\n",
              "      <th>99999</th>\n",
              "      <td>671</td>\n",
              "      <td>6268</td>\n",
              "      <td>2.5</td>\n",
              "      <td>1065579370</td>\n",
              "    </tr>\n",
              "    <tr>\n",
              "      <th>100000</th>\n",
              "      <td>671</td>\n",
              "      <td>6269</td>\n",
              "      <td>4.0</td>\n",
              "      <td>1065149201</td>\n",
              "    </tr>\n",
              "    <tr>\n",
              "      <th>100001</th>\n",
              "      <td>671</td>\n",
              "      <td>6365</td>\n",
              "      <td>4.0</td>\n",
              "      <td>1070940363</td>\n",
              "    </tr>\n",
              "    <tr>\n",
              "      <th>100002</th>\n",
              "      <td>671</td>\n",
              "      <td>6385</td>\n",
              "      <td>2.5</td>\n",
              "      <td>1070979663</td>\n",
              "    </tr>\n",
              "    <tr>\n",
              "      <th>100003</th>\n",
              "      <td>671</td>\n",
              "      <td>6565</td>\n",
              "      <td>3.5</td>\n",
              "      <td>1074784724</td>\n",
              "    </tr>\n",
              "  </tbody>\n",
              "</table>\n",
              "<p>100004 rows × 4 columns</p>\n",
              "</div>"
            ],
            "text/plain": [
              "        userId  movieId  rating   timestamp\n",
              "0            1       31     2.5  1260759144\n",
              "1            1     1029     3.0  1260759179\n",
              "2            1     1061     3.0  1260759182\n",
              "3            1     1129     2.0  1260759185\n",
              "4            1     1172     4.0  1260759205\n",
              "...        ...      ...     ...         ...\n",
              "99999      671     6268     2.5  1065579370\n",
              "100000     671     6269     4.0  1065149201\n",
              "100001     671     6365     4.0  1070940363\n",
              "100002     671     6385     2.5  1070979663\n",
              "100003     671     6565     3.5  1074784724\n",
              "\n",
              "[100004 rows x 4 columns]"
            ]
          },
          "execution_count": 17,
          "metadata": {},
          "output_type": "execute_result"
        }
      ],
      "source": [
        "ratings_small"
      ]
    },
    {
      "cell_type": "code",
      "execution_count": null,
      "metadata": {
        "colab": {
          "base_uri": "https://localhost:8080/"
        },
        "id": "QP3pu_bgHnU0",
        "outputId": "a38c9160-aec7-42d1-ac02-d50458ce3f2a"
      },
      "outputs": [
        {
          "name": "stdout",
          "output_type": "stream",
          "text": [
            "<class 'pandas.core.frame.DataFrame'>\n",
            "RangeIndex: 100004 entries, 0 to 100003\n",
            "Data columns (total 4 columns):\n",
            " #   Column     Non-Null Count   Dtype  \n",
            "---  ------     --------------   -----  \n",
            " 0   userId     100004 non-null  int64  \n",
            " 1   movieId    100004 non-null  int64  \n",
            " 2   rating     100004 non-null  float64\n",
            " 3   timestamp  100004 non-null  int64  \n",
            "dtypes: float64(1), int64(3)\n",
            "memory usage: 3.1 MB\n"
          ]
        }
      ],
      "source": [
        "ratings_small.info()"
      ]
    },
    {
      "cell_type": "markdown",
      "metadata": {
        "id": "duKcQN8TK-0t"
      },
      "source": [
        "Informasi di atas menunjukkan terdapat 100004 data dengan tipe data `float64` sebanyak satu kolom, dan tiga lainnya bertipe data `int64`. Dengan uraian setiap fitur sebagai berikut:<br>\n",
        "- `userId`: Berisi ID *unique* untuk setiap pengguna,\n",
        "- `movieId`: Berisi ID *unique* untuk setiap film yang sesuai dengan `movieId` di `links.csv`,\n",
        "- `rating`: Berisi *rating* yang diberikan oleh pengguna untuk film tersebut,\n",
        "- `timestamp`: Berisi waktu saat *rating* diberikan."
      ]
    },
    {
      "cell_type": "markdown",
      "metadata": {
        "id": "cspUNwqKe5A6"
      },
      "source": [
        "## EDA"
      ]
    },
    {
      "cell_type": "markdown",
      "metadata": {
        "id": "LLF-ImR4nomb"
      },
      "source": [
        "### credits"
      ]
    },
    {
      "cell_type": "code",
      "execution_count": null,
      "metadata": {
        "id": "eqwhEZkUK-0t"
      },
      "outputs": [],
      "source": [
        "credits = pd.read_csv(\"movie/credits.csv\")"
      ]
    },
    {
      "cell_type": "code",
      "execution_count": null,
      "metadata": {
        "colab": {
          "base_uri": "https://localhost:8080/",
          "height": 424
        },
        "id": "1PZ9tLXdEpau",
        "outputId": "1c47aa36-0045-489e-aeb5-16143bdc193e"
      },
      "outputs": [
        {
          "data": {
            "text/html": [
              "<div>\n",
              "<style scoped>\n",
              "    .dataframe tbody tr th:only-of-type {\n",
              "        vertical-align: middle;\n",
              "    }\n",
              "\n",
              "    .dataframe tbody tr th {\n",
              "        vertical-align: top;\n",
              "    }\n",
              "\n",
              "    .dataframe thead th {\n",
              "        text-align: right;\n",
              "    }\n",
              "</style>\n",
              "<table border=\"1\" class=\"dataframe\">\n",
              "  <thead>\n",
              "    <tr style=\"text-align: right;\">\n",
              "      <th></th>\n",
              "      <th>cast</th>\n",
              "      <th>crew</th>\n",
              "      <th>id</th>\n",
              "    </tr>\n",
              "  </thead>\n",
              "  <tbody>\n",
              "    <tr>\n",
              "      <th>0</th>\n",
              "      <td>[{'cast_id': 14, 'character': 'Woody (voice)',...</td>\n",
              "      <td>[{'credit_id': '52fe4284c3a36847f8024f49', 'de...</td>\n",
              "      <td>862</td>\n",
              "    </tr>\n",
              "    <tr>\n",
              "      <th>1</th>\n",
              "      <td>[{'cast_id': 1, 'character': 'Alan Parrish', '...</td>\n",
              "      <td>[{'credit_id': '52fe44bfc3a36847f80a7cd1', 'de...</td>\n",
              "      <td>8844</td>\n",
              "    </tr>\n",
              "    <tr>\n",
              "      <th>2</th>\n",
              "      <td>[{'cast_id': 2, 'character': 'Max Goldman', 'c...</td>\n",
              "      <td>[{'credit_id': '52fe466a9251416c75077a89', 'de...</td>\n",
              "      <td>15602</td>\n",
              "    </tr>\n",
              "    <tr>\n",
              "      <th>3</th>\n",
              "      <td>[{'cast_id': 1, 'character': \"Savannah 'Vannah...</td>\n",
              "      <td>[{'credit_id': '52fe44779251416c91011acb', 'de...</td>\n",
              "      <td>31357</td>\n",
              "    </tr>\n",
              "    <tr>\n",
              "      <th>4</th>\n",
              "      <td>[{'cast_id': 1, 'character': 'George Banks', '...</td>\n",
              "      <td>[{'credit_id': '52fe44959251416c75039ed7', 'de...</td>\n",
              "      <td>11862</td>\n",
              "    </tr>\n",
              "  </tbody>\n",
              "</table>\n",
              "</div>"
            ],
            "text/plain": [
              "                                                cast  \\\n",
              "0  [{'cast_id': 14, 'character': 'Woody (voice)',...   \n",
              "1  [{'cast_id': 1, 'character': 'Alan Parrish', '...   \n",
              "2  [{'cast_id': 2, 'character': 'Max Goldman', 'c...   \n",
              "3  [{'cast_id': 1, 'character': \"Savannah 'Vannah...   \n",
              "4  [{'cast_id': 1, 'character': 'George Banks', '...   \n",
              "\n",
              "                                                crew     id  \n",
              "0  [{'credit_id': '52fe4284c3a36847f8024f49', 'de...    862  \n",
              "1  [{'credit_id': '52fe44bfc3a36847f80a7cd1', 'de...   8844  \n",
              "2  [{'credit_id': '52fe466a9251416c75077a89', 'de...  15602  \n",
              "3  [{'credit_id': '52fe44779251416c91011acb', 'de...  31357  \n",
              "4  [{'credit_id': '52fe44959251416c75039ed7', 'de...  11862  "
            ]
          },
          "execution_count": 21,
          "metadata": {},
          "output_type": "execute_result"
        }
      ],
      "source": [
        "credits.head()"
      ]
    },
    {
      "cell_type": "code",
      "execution_count": null,
      "metadata": {
        "id": "ARUlXsJ9K-0u",
        "outputId": "d6f2fd75-0951-4f37-a135-6fd913240b92"
      },
      "outputs": [
        {
          "data": {
            "text/plain": [
              "cast    0\n",
              "crew    0\n",
              "id      0\n",
              "dtype: int64"
            ]
          },
          "execution_count": 97,
          "metadata": {},
          "output_type": "execute_result"
        }
      ],
      "source": [
        "credits.isnull().sum()"
      ]
    },
    {
      "cell_type": "markdown",
      "metadata": {
        "id": "E4UT_1NDK-0u"
      },
      "source": [
        "Output diatas menunjukkan tidak adanya *missing values* pada `credits`."
      ]
    },
    {
      "cell_type": "markdown",
      "metadata": {
        "id": "ppnWkhQUK-0u"
      },
      "source": [
        "Melakukan ekstraksi pada fitur `cast` dan `crew` untuk mendapatkan cast utama dan juga sutradara."
      ]
    },
    {
      "cell_type": "code",
      "execution_count": null,
      "metadata": {
        "id": "W--xjS1XEqMx",
        "outputId": "ac0c3c59-5cac-4753-93cd-2a70667c1ac8"
      },
      "outputs": [
        {
          "name": "stdout",
          "output_type": "stream",
          "text": [
            "Jumlah cast unik: 202747\n",
            "Contoh nama cast unik: ['Adrianne Palicki', 'Helma Vandenberg', 'Anne Carlisle', 'Enzo Marcelli', 'Guillermo Battaglia', 'Adriano Celentano', 'Ina Sofie Brodahl', 'Andre Lindveldt', 'Arron Shiver', 'Keir Knight']\n"
          ]
        }
      ],
      "source": [
        "# Fungsi untuk mengekstrak nama cast yang unique\n",
        "def get_unique_cast(credits):\n",
        "    all_cast = set()\n",
        "\n",
        "    for cast_list in credits['cast']:\n",
        "        # Ubah string JSON menjadi list\n",
        "        try:\n",
        "            cast_data = ast.literal_eval(cast_list)\n",
        "            for person in cast_data:\n",
        "                all_cast.add(person['name'])\n",
        "        except (ValueError, SyntaxError):\n",
        "            continue\n",
        "\n",
        "    return all_cast\n",
        "\n",
        "# Mendapatkan cast yang unique\n",
        "unique_cast = get_unique_cast(credits)\n",
        "print(f\"Jumlah cast unique: {len(unique_cast)}\")\n",
        "print(\"Beberapa nama cast:\", list(unique_cast)[:10])"
      ]
    },
    {
      "cell_type": "markdown",
      "metadata": {
        "id": "_l_HJIDXK-0u"
      },
      "source": [
        "Output di atas menujukkan bahwa jumlah cast *unique* di dataset berjumlah 202747 data *unique*."
      ]
    },
    {
      "cell_type": "code",
      "execution_count": null,
      "metadata": {
        "id": "ifQmXdL3K-0u",
        "outputId": "13d3f288-d383-40fe-9cd2-5ee573e7a56a"
      },
      "outputs": [
        {
          "name": "stdout",
          "output_type": "stream",
          "text": [
            "Jumlah sutradara unique: 19740\n",
            "Beberapa nama sutradara / director: ['Josef Hader', 'Júlíus Kemp', 'James W. Griffiths', 'Sue Bourne', 'Walter Doniger', 'Adriano Celentano', 'Chris Alexander', 'John Cassavetes', 'Alan Cumming', 'Patrice Toye']\n"
          ]
        }
      ],
      "source": [
        "# Fungsi untuk mengekstrak nama crew (terutama sutradara / director) yang unique\n",
        "def get_unique_directors(credits):\n",
        "    all_directors = set()\n",
        "\n",
        "    for crew_list in credits['crew']:\n",
        "        # Ubah string JSON menjadi list\n",
        "        try:\n",
        "            crew_data = ast.literal_eval(crew_list)\n",
        "            for person in crew_data:\n",
        "                # Ambil nama jika orang tersebut adalah sutradara / director\n",
        "                if person['job'] == 'Director':\n",
        "                    all_directors.add(person['name'])\n",
        "        except (ValueError, SyntaxError):\n",
        "            continue\n",
        "\n",
        "    return all_directors\n",
        "\n",
        "# Mendapatkan sutradara yang unique\n",
        "unique_directors = get_unique_directors(credits)\n",
        "print(f\"Jumlah sutradara unique: {len(unique_directors)}\")\n",
        "print(\"Beberapa nama sutradara / director:\", list(unique_directors)[:10])"
      ]
    },
    {
      "cell_type": "markdown",
      "metadata": {
        "id": "C2Yw9i1RK-0v"
      },
      "source": [
        "Output di atas menujukkan bahwa jumlah sutradara / director *unique* di dataset berjumlah 19740 data *unique*."
      ]
    },
    {
      "cell_type": "markdown",
      "metadata": {
        "id": "xucCcX9yK-0v"
      },
      "source": [
        "Menghitung cast utama yang paling sering muncul di film dan menghitung cast utama yang paling sedikit muncul di film."
      ]
    },
    {
      "cell_type": "code",
      "execution_count": null,
      "metadata": {
        "id": "GqOFCWLHK-0v",
        "outputId": "15090ebe-ff1d-4f73-d4d4-5948dce21d75"
      },
      "outputs": [
        {
          "name": "stdout",
          "output_type": "stream",
          "text": [
            "Cast yang paling sering muncul:\n",
            "Bess Flowers: 241 kali\n",
            "Christopher Lee: 148 kali\n",
            "John Wayne: 125 kali\n",
            "Samuel L. Jackson: 123 kali\n",
            "Gérard Depardieu: 110 kali\n",
            "Michael Caine: 110 kali\n",
            "Donald Sutherland: 109 kali\n",
            "John Carradine: 109 kali\n",
            "Jackie Chan: 108 kali\n",
            "Frank Welker: 107 kali\n",
            "\n",
            "Cast yang paling jarang muncul (muncul sekali):\n",
            "Brandon Obray: 1 kali\n",
            "Cyrus Thiedeke: 1 kali\n",
            "Gary Joseph Thorup: 1 kali\n",
            "Leonard Zola: 1 kali\n",
            "Robyn Driscoll: 1 kali\n",
            "Sarah Gilson: 1 kali\n",
            "Florica Vlad: 1 kali\n",
            "June Lion: 1 kali\n",
            "Brenda Lockmuller: 1 kali\n",
            "Brad Baldridge: 1 kali\n"
          ]
        }
      ],
      "source": [
        "# Fungsi untuk mengekstrak semua nama aktor dari kolom 'cast' dan menghitung frekuensinya\n",
        "def get_cast_frequency(credits):\n",
        "    all_cast = []\n",
        "\n",
        "    for cast_list in credits['cast']:\n",
        "        # Mengubah string JSON menjadi list\n",
        "        try:\n",
        "            cast_data = ast.literal_eval(cast_list)\n",
        "            for person in cast_data:\n",
        "                all_cast.append(person['name'])\n",
        "        except (ValueError, SyntaxError):\n",
        "            continue\n",
        "\n",
        "    # Menghitung frekuensi kemunculan setiap aktor\n",
        "    cast_counts = Counter(all_cast)\n",
        "    return cast_counts\n",
        "\n",
        "# Get frekuensi kemunculan setiap aktor\n",
        "cast_frequency = get_cast_frequency(credits)\n",
        "\n",
        "# Get aktor yang paling sering muncul dan yang paling jarang muncul\n",
        "most_common_cast = cast_frequency.most_common(10)  # 10 aktor paling sering muncul\n",
        "least_common_cast = [actor for actor in cast_frequency.items() if actor[1] == 1]  # Aktor yang hanya muncul sekali\n",
        "\n",
        "# Tampilkan hasil\n",
        "print(\"Cast yang paling sering muncul:\")\n",
        "for name, count in most_common_cast:\n",
        "    print(f\"{name}: {count} kali\")\n",
        "\n",
        "print(\"\\nCast yang paling jarang muncul (muncul sekali):\")\n",
        "for name, count in least_common_cast[:10]:\n",
        "    print(f\"{name}: {count} kali\")\n"
      ]
    },
    {
      "cell_type": "markdown",
      "metadata": {
        "id": "Y9WrjF60K-0v"
      },
      "source": [
        "Output di atas menunjukkan `cast` yang sering muncul dan munculnya hanya sekali dapat diuraikan bahwa Bess Flowers tercatat sebagai cast yang paling sering muncul dengan total 241 kali, diikuti oleh Christopher Lee sebanyak 148 kali dan John Wayne sebanyak 125 kali. Cast lain yang sering muncul mencakup Samuel L. Jackson (123 kali), Gérard Depardieu (110 kali), Michael Caine (110 kali), Donald Sutherland (109 kali), John Carradine (109 kali), Jackie Chan (108 kali), dan Frank Welker (107 kali). Di sisi lain, ada beberapa cast yang hanya muncul satu kali, termasuk Brandon Obray, Cyrus Thiedeke, Gary Joseph Thorup, Leonard Zola, Robyn Driscoll, Sarah Gilson, Florica Vlad, June Lion, Brenda Lockmuller, dan Brad Baldridge"
      ]
    },
    {
      "cell_type": "markdown",
      "metadata": {
        "id": "YCpZB1jyK-0v"
      },
      "source": [
        "Menghitung jumlah cast terbanyak dan sedikit pada film"
      ]
    },
    {
      "cell_type": "code",
      "execution_count": null,
      "metadata": {
        "id": "3wkZumCtK-0v",
        "outputId": "28f593e8-de9c-45f7-ee7f-84e597677103"
      },
      "outputs": [
        {
          "name": "stdout",
          "output_type": "stream",
          "text": [
            "Film dengan cast terbanyak:\n",
            "Movie ID: 2897, Jumlah cast: 313\n",
            "\n",
            "Film dengan cast tersedikit:\n",
            "Movie ID: 124639, Jumlah cast: 0\n"
          ]
        }
      ],
      "source": [
        "# Fungsi untuk menghitung jumlah cast per movie\n",
        "def count_cast_per_movie(credits):\n",
        "    cast_counts = []\n",
        "\n",
        "    for index, row in credits.iterrows():\n",
        "        try:\n",
        "            # Mengubah string JSON menjadi list of dictionaries\n",
        "            cast_list = ast.literal_eval(row['cast'])\n",
        "            # Hitung jumlah cast untuk setiap movie\n",
        "            cast_count = len(cast_list)\n",
        "        except (ValueError, SyntaxError):\n",
        "            cast_count = 0  # Jika parsing gagal, set jumlah cast menjadi 0\n",
        "\n",
        "        cast_counts.append((row['id'], cast_count))\n",
        "\n",
        "    return cast_counts\n",
        "\n",
        "# Hitung jumlah cast untuk setiap film\n",
        "cast_counts = count_cast_per_movie(credits)\n",
        "\n",
        "# Convert hasil ke DataFrame untuk analisis lebih lanjut\n",
        "cast_counts_df = pd.DataFrame(cast_counts, columns=['movie_id', 'cast_count'])\n",
        "\n",
        "# Film dengan cast terbanyak dan tersedikit\n",
        "most_cast_movie = cast_counts_df.loc[cast_counts_df['cast_count'].idxmax()]\n",
        "least_cast_movie = cast_counts_df.loc[cast_counts_df['cast_count'].idxmin()]\n",
        "\n",
        "# Tampilkan hasil\n",
        "print(\"Film dengan cast terbanyak:\")\n",
        "print(f\"Movie ID: {most_cast_movie['movie_id']}, Jumlah cast: {most_cast_movie['cast_count']}\")\n",
        "\n",
        "print(\"\\nFilm dengan cast tersedikit:\")\n",
        "print(f\"Movie ID: {least_cast_movie['movie_id']}, Jumlah cast: {least_cast_movie['cast_count']}\")"
      ]
    },
    {
      "cell_type": "markdown",
      "metadata": {
        "id": "Ao3M8RYxK-0v"
      },
      "source": [
        "Output di atas menujukkan bahwa film dengan jumlah `cast` terbanyak adalah film dengan Movie ID 2897, yang memiliki total 313 `cast`, sedangkan film dengan jumlah `cast` tersedikit adalah film dengan Movie ID 124639, yang tidak memiliki `cast` sama sekali."
      ]
    },
    {
      "cell_type": "markdown",
      "metadata": {
        "id": "qHej05-uK-0w"
      },
      "source": [
        "Menghitung jumlah crew terbanyak dan sedikit di film."
      ]
    },
    {
      "cell_type": "code",
      "execution_count": null,
      "metadata": {
        "id": "Yf3BJP--K-0w",
        "outputId": "f474b6fb-4548-48b7-863e-c31f4db3a289"
      },
      "outputs": [
        {
          "name": "stdout",
          "output_type": "stream",
          "text": [
            "Film dengan crew terbanyak:\n",
            "Movie ID: 135397, Jumlah crew: 435\n",
            "\n",
            "Film dengan crew tersedikit:\n",
            "Movie ID: 56088, Jumlah crew: 0\n"
          ]
        }
      ],
      "source": [
        "# Fungsi untuk menghitung jumlah crew per movie\n",
        "def count_crew_per_movie(credits):\n",
        "    crew_counts = []\n",
        "\n",
        "    for index, row in credits.iterrows():\n",
        "        try:\n",
        "            # Mengubah string JSON menjadi list of dictionaries\n",
        "            crew_list = ast.literal_eval(row['crew'])\n",
        "            # Hitung jumlah crew untuk setiap movie\n",
        "            crew_count = len(crew_list)\n",
        "        except (ValueError, SyntaxError):\n",
        "            crew_count = 0  # Jika parsing gagal, set jumlah crew menjadi 0\n",
        "\n",
        "        crew_counts.append((row['id'], crew_count))\n",
        "\n",
        "    return crew_counts\n",
        "\n",
        "# Hitung jumlah crew untuk setiap film\n",
        "crew_counts = count_crew_per_movie(credits)\n",
        "\n",
        "# Convert hasil ke DataFrame untuk analisis lebih lanjut\n",
        "crew_counts_df = pd.DataFrame(crew_counts, columns=['movie_id', 'crew_count'])\n",
        "\n",
        "# Film dengan crew terbanyak dan tersedikit\n",
        "most_crew_movie = crew_counts_df.loc[crew_counts_df['crew_count'].idxmax()]\n",
        "least_crew_movie = crew_counts_df.loc[crew_counts_df['crew_count'].idxmin()]\n",
        "\n",
        "# Tampilkan hasil\n",
        "print(\"Film dengan crew terbanyak:\")\n",
        "print(f\"Movie ID: {most_crew_movie['movie_id']}, Jumlah crew: {most_crew_movie['crew_count']}\")\n",
        "\n",
        "print(\"\\nFilm dengan crew tersedikit:\")\n",
        "print(f\"Movie ID: {least_crew_movie['movie_id']}, Jumlah crew: {least_crew_movie['crew_count']}\")"
      ]
    },
    {
      "cell_type": "markdown",
      "metadata": {
        "id": "22-gs1R2K-0w"
      },
      "source": [
        "Output di atas menunjukkan `crew` terbanyak yaitu pada Movie ID: 135397 dengan jumlah `crew` sebanyak 435 `crew`, dan yang paling sedikit yaitu Movie ID: 56088 dengan jumlah `crew` 0."
      ]
    },
    {
      "cell_type": "code",
      "execution_count": null,
      "metadata": {
        "id": "sap2Jv-pK-0w",
        "outputId": "9733c1bb-1841-4d19-de0b-4aba0b23e175"
      },
      "outputs": [
        {
          "data": {
            "image/png": "[encoded data removed]",
            "text/plain": [
              "<Figure size 1000x600 with 1 Axes>"
            ]
          },
          "metadata": {},
          "output_type": "display_data"
        }
      ],
      "source": [
        "# Buat dataframe untuk jumlah cast per film\n",
        "cast_counts_df = pd.DataFrame(cast_counts, columns=['movie_id', 'cast_count'])\n",
        "\n",
        "# Plot distribusi jumlah cast per film\n",
        "plt.figure(figsize=(10, 6))\n",
        "sns.histplot(cast_counts_df['cast_count'], bins=30, kde=True)\n",
        "plt.title(\"Distribusi Jumlah Cast per Film\")\n",
        "plt.xlabel(\"Jumlah Cast\")\n",
        "plt.ylabel(\"Jumlah Film\")\n",
        "plt.show()\n"
      ]
    },
    {
      "cell_type": "markdown",
      "metadata": {
        "id": "c5S0vzJwK-0w"
      },
      "source": [
        "Gambar di atas menunjukkan bahwa sebagian besar film memiliki jumlah cast yang rendah, dengan puncak di sekitar 10-20 cast per film, dan hanya sedikit film yang memiliki cast dalam jumlah besar hingga lebih dari 100 orang, menandakan distribusi yang positif skewed dengan mayoritas film berada di kisaran 0-50 cast."
      ]
    },
    {
      "cell_type": "code",
      "execution_count": null,
      "metadata": {
        "id": "hcTd0SsgK-0w",
        "outputId": "c91d52de-13d1-4afd-adf0-0368c4cef0b0"
      },
      "outputs": [
        {
          "data": {
            "image/png": "[encoded data removed]",
            "text/plain": [
              "<Figure size 1000x600 with 1 Axes>"
            ]
          },
          "metadata": {},
          "output_type": "display_data"
        }
      ],
      "source": [
        "# Plot distribusi jumlah crew per film\n",
        "plt.figure(figsize=(10, 6))\n",
        "sns.histplot(crew_counts_df['crew_count'], bins=30, kde=True)\n",
        "plt.title(\"Distribusi Jumlah Crew per Film\")\n",
        "plt.xlabel(\"Jumlah Crew\")\n",
        "plt.ylabel(\"Jumlah Film\")\n",
        "plt.show()\n"
      ]
    },
    {
      "cell_type": "markdown",
      "metadata": {
        "id": "-eI7PzAyK-0w"
      },
      "source": [
        "Gambar di atas menunjukkan bahwa mayoritas film memiliki jumlah crew yang rendah, terutama dalam rentang 0-50 anggota, dengan beberapa pengecualian yang mencapai lebih dari 100 hingga 400 anggota, memperlihatkan distribusi yang sangat positif skewed dengan sebagian besar film dikerjakan oleh tim yang relatif kecil."
      ]
    },
    {
      "cell_type": "code",
      "execution_count": null,
      "metadata": {
        "id": "5Ra_Y2x8K-0x",
        "outputId": "53ae7ae5-0123-45a1-83d7-9f095004517f"
      },
      "outputs": [
        {
          "data": {
            "image/png": "[encoded data removed]",
            "text/plain": [
              "<Figure size 1200x600 with 1 Axes>"
            ]
          },
          "metadata": {},
          "output_type": "display_data"
        }
      ],
      "source": [
        "# Ekstraksi data sutradara dari kolom crew\n",
        "directors = []\n",
        "\n",
        "for index, row in credits.iterrows():\n",
        "    crew_list = ast.literal_eval(row['crew'])\n",
        "    for crew_member in crew_list:\n",
        "        if crew_member['job'] == 'Director':\n",
        "            directors.append(crew_member['name'])\n",
        "\n",
        "# Buat DataFrame dari daftar sutradara dan hitung frekuensi\n",
        "directors_df = pd.DataFrame(directors, columns=['director'])\n",
        "top_directors = directors_df['director'].value_counts().head(10)\n",
        "\n",
        "# Plot Top 10 Sutradara\n",
        "plt.figure(figsize=(12, 6))\n",
        "sns.barplot(x=top_directors.values, y=top_directors.index)\n",
        "plt.title(\"Top 10 Sutradara dengan Film Terbanyak\")\n",
        "plt.xlabel(\"Jumlah Film\")\n",
        "plt.ylabel(\"Nama Sutradara\")\n",
        "plt.show()\n"
      ]
    },
    {
      "cell_type": "markdown",
      "metadata": {
        "id": "vD81NU4aK-0x"
      },
      "source": [
        "Gambar di atas menunjukkan 10 sutradara dengan film terbanyak."
      ]
    },
    {
      "cell_type": "code",
      "execution_count": null,
      "metadata": {
        "id": "fp1BbKE2K-0x",
        "outputId": "93b51346-e7af-491f-f6da-e056a83b9545"
      },
      "outputs": [
        {
          "data": {
            "image/png": "[encoded data removed]",
            "text/plain": [
              "<Figure size 1200x600 with 1 Axes>"
            ]
          },
          "metadata": {},
          "output_type": "display_data"
        }
      ],
      "source": [
        "# Ekstraksi data dari kolom cast\n",
        "actors = []\n",
        "\n",
        "for index, row in credits.iterrows():\n",
        "    cast_list = ast.literal_eval(row['cast'])\n",
        "    for cast_member in cast_list:\n",
        "        actors.append(cast_member['name'])\n",
        "\n",
        "# Buat DataFrame dari daftar cast dan hitung frekuensi\n",
        "actors_df = pd.DataFrame(actors, columns=['actor'])\n",
        "top_actors = actors_df['actor'].value_counts().head(10)\n",
        "\n",
        "# Plot Top 10 cast\n",
        "plt.figure(figsize=(12, 6))\n",
        "sns.barplot(x=top_actors.values, y=top_actors.index)\n",
        "plt.title(\"Top 10 Cast yang Paling Sering Muncul\")\n",
        "plt.xlabel(\"Jumlah Film\")\n",
        "plt.ylabel(\"Nama Cast\")\n",
        "plt.show()\n"
      ]
    },
    {
      "cell_type": "markdown",
      "metadata": {
        "id": "vuFqXHpNK-0x"
      },
      "source": [
        "Gambar di atas menunjukkan 10 cast teratas yang paling sering muncul di film."
      ]
    },
    {
      "cell_type": "markdown",
      "metadata": {
        "id": "UTET6G5MrScl"
      },
      "source": [
        "### keywords"
      ]
    },
    {
      "cell_type": "code",
      "execution_count": null,
      "metadata": {
        "id": "4269z_01K-0x"
      },
      "outputs": [],
      "source": [
        "keywords = pd.read_csv(\"movie/keywords.csv\")"
      ]
    },
    {
      "cell_type": "code",
      "execution_count": null,
      "metadata": {
        "id": "t9CvSrrlK-0x",
        "outputId": "6f0a862e-7643-428e-c035-de5ce74debec"
      },
      "outputs": [
        {
          "data": {
            "text/html": [
              "<div>\n",
              "<style scoped>\n",
              "    .dataframe tbody tr th:only-of-type {\n",
              "        vertical-align: middle;\n",
              "    }\n",
              "\n",
              "    .dataframe tbody tr th {\n",
              "        vertical-align: top;\n",
              "    }\n",
              "\n",
              "    .dataframe thead th {\n",
              "        text-align: right;\n",
              "    }\n",
              "</style>\n",
              "<table border=\"1\" class=\"dataframe\">\n",
              "  <thead>\n",
              "    <tr style=\"text-align: right;\">\n",
              "      <th></th>\n",
              "      <th>id</th>\n",
              "      <th>keywords</th>\n",
              "    </tr>\n",
              "  </thead>\n",
              "  <tbody>\n",
              "    <tr>\n",
              "      <th>0</th>\n",
              "      <td>862</td>\n",
              "      <td>[{'id': 931, 'name': 'jealousy'}, {'id': 4290,...</td>\n",
              "    </tr>\n",
              "    <tr>\n",
              "      <th>1</th>\n",
              "      <td>8844</td>\n",
              "      <td>[{'id': 10090, 'name': 'board game'}, {'id': 1...</td>\n",
              "    </tr>\n",
              "    <tr>\n",
              "      <th>2</th>\n",
              "      <td>15602</td>\n",
              "      <td>[{'id': 1495, 'name': 'fishing'}, {'id': 12392...</td>\n",
              "    </tr>\n",
              "    <tr>\n",
              "      <th>3</th>\n",
              "      <td>31357</td>\n",
              "      <td>[{'id': 818, 'name': 'based on novel'}, {'id':...</td>\n",
              "    </tr>\n",
              "    <tr>\n",
              "      <th>4</th>\n",
              "      <td>11862</td>\n",
              "      <td>[{'id': 1009, 'name': 'baby'}, {'id': 1599, 'n...</td>\n",
              "    </tr>\n",
              "    <tr>\n",
              "      <th>...</th>\n",
              "      <td>...</td>\n",
              "      <td>...</td>\n",
              "    </tr>\n",
              "    <tr>\n",
              "      <th>46414</th>\n",
              "      <td>439050</td>\n",
              "      <td>[{'id': 10703, 'name': 'tragic love'}]</td>\n",
              "    </tr>\n",
              "    <tr>\n",
              "      <th>46415</th>\n",
              "      <td>111109</td>\n",
              "      <td>[{'id': 2679, 'name': 'artist'}, {'id': 14531,...</td>\n",
              "    </tr>\n",
              "    <tr>\n",
              "      <th>46416</th>\n",
              "      <td>67758</td>\n",
              "      <td>[]</td>\n",
              "    </tr>\n",
              "    <tr>\n",
              "      <th>46417</th>\n",
              "      <td>227506</td>\n",
              "      <td>[]</td>\n",
              "    </tr>\n",
              "    <tr>\n",
              "      <th>46418</th>\n",
              "      <td>461257</td>\n",
              "      <td>[]</td>\n",
              "    </tr>\n",
              "  </tbody>\n",
              "</table>\n",
              "<p>46419 rows × 2 columns</p>\n",
              "</div>"
            ],
            "text/plain": [
              "           id                                           keywords\n",
              "0         862  [{'id': 931, 'name': 'jealousy'}, {'id': 4290,...\n",
              "1        8844  [{'id': 10090, 'name': 'board game'}, {'id': 1...\n",
              "2       15602  [{'id': 1495, 'name': 'fishing'}, {'id': 12392...\n",
              "3       31357  [{'id': 818, 'name': 'based on novel'}, {'id':...\n",
              "4       11862  [{'id': 1009, 'name': 'baby'}, {'id': 1599, 'n...\n",
              "...       ...                                                ...\n",
              "46414  439050             [{'id': 10703, 'name': 'tragic love'}]\n",
              "46415  111109  [{'id': 2679, 'name': 'artist'}, {'id': 14531,...\n",
              "46416   67758                                                 []\n",
              "46417  227506                                                 []\n",
              "46418  461257                                                 []\n",
              "\n",
              "[46419 rows x 2 columns]"
            ]
          },
          "execution_count": 103,
          "metadata": {},
          "output_type": "execute_result"
        }
      ],
      "source": [
        "keywords"
      ]
    },
    {
      "cell_type": "code",
      "execution_count": null,
      "metadata": {
        "id": "bW2JkjxJK-0y",
        "outputId": "391d374a-ab24-4742-a10d-f1712d1d1b21"
      },
      "outputs": [
        {
          "data": {
            "text/plain": [
              "id          0\n",
              "keywords    0\n",
              "dtype: int64"
            ]
          },
          "execution_count": 107,
          "metadata": {},
          "output_type": "execute_result"
        }
      ],
      "source": [
        "keywords.isnull().sum()"
      ]
    },
    {
      "cell_type": "markdown",
      "metadata": {
        "id": "QKcaQTYOK-0y"
      },
      "source": [
        "Output diatas menunjukkan tidak adanya *missing values* pada `keywords`."
      ]
    },
    {
      "cell_type": "code",
      "execution_count": null,
      "metadata": {
        "id": "oMhL3j_RK-0y",
        "outputId": "97ae059f-18c1-44a2-95f4-27d8804eb69a"
      },
      "outputs": [
        {
          "name": "stdout",
          "output_type": "stream",
          "text": [
            "Jumlah Keywords Unique: 19956\n",
            "Contoh Keywords Unique: ['catfishing', 'snooker', 'reference to elvis presley', 'braggart', 'onsen', 'prussia', 'fetishism', 'tour bus', 'klingon', 'injection']\n"
          ]
        }
      ],
      "source": [
        "# Mengumpulkan semua keywords dalam satu list\n",
        "all_keywords = []\n",
        "for item in keywords['keywords']:\n",
        "    keyword_list = ast.literal_eval(item)\n",
        "    for keyword in keyword_list:\n",
        "        all_keywords.append(keyword['name'])\n",
        "\n",
        "# Mendapatkan keywords Unique\n",
        "unique_keywords = set(all_keywords)\n",
        "print(f\"Jumlah Keywords Unique: {len(unique_keywords)}\")\n",
        "print(\"Contoh Keywords Unique:\", list(unique_keywords)[:10])"
      ]
    },
    {
      "cell_type": "markdown",
      "metadata": {
        "id": "Xe-P6c9_K-0y"
      },
      "source": [
        "Output di atas menunjukkan bahwa terdapat keywords *unique* pada dataset."
      ]
    },
    {
      "cell_type": "code",
      "execution_count": null,
      "metadata": {
        "id": "hGk1xOn9K-0y",
        "outputId": "b0fb3ff3-cc1b-46f0-acb8-c391b5b71c1c"
      },
      "outputs": [
        {
          "data": {
            "image/png": "[encoded data removed]",
            "text/plain": [
              "<Figure size 1000x600 with 1 Axes>"
            ]
          },
          "metadata": {},
          "output_type": "display_data"
        }
      ],
      "source": [
        "# Menghitung jumlah keywords per film\n",
        "keywords['keywords_count'] = keywords['keywords'].apply(lambda x: len(ast.literal_eval(x)))\n",
        "\n",
        "plt.figure(figsize=(10, 6))\n",
        "sns.histplot(keywords['keywords_count'], bins=30, kde=True)\n",
        "plt.title(\"Distribusi Jumlah Keywords per Film\")\n",
        "plt.xlabel(\"Jumlah Keywords\")\n",
        "plt.ylabel(\"Jumlah Film\")\n",
        "plt.show()\n"
      ]
    },
    {
      "cell_type": "markdown",
      "metadata": {
        "id": "Qtgad3Y6K-0z"
      },
      "source": [
        "Gambar di atas menunjukkan bahwa kebanyakan film hanya memiliki sedikit kata kunci, biasanya antara 0 hingga 5. Hanya sedikit sekali film yang punya banyak kata kunci, dan semakin banyak kata kunci, semakin sedikit jumlah filmnya."
      ]
    },
    {
      "cell_type": "code",
      "execution_count": null,
      "metadata": {
        "id": "F5DCxe0PK-0z",
        "outputId": "8e46c334-4c60-45bd-82ef-7721e0ed734e"
      },
      "outputs": [
        {
          "data": {
            "image/png": "[encoded data removed]",
            "text/plain": [
              "<Figure size 1200x600 with 1 Axes>"
            ]
          },
          "metadata": {},
          "output_type": "display_data"
        }
      ],
      "source": [
        "# Mengumpulkan semua kata kunci\n",
        "all_keywords = []\n",
        "for item in keywords['keywords']:\n",
        "    keyword_list = ast.literal_eval(item)\n",
        "    for keyword in keyword_list:\n",
        "        all_keywords.append(keyword['name'])\n",
        "\n",
        "# Menghitung frekuensi kata kunci\n",
        "keyword_counts = Counter(all_keywords)\n",
        "top_keywords = keyword_counts.most_common(10)\n",
        "\n",
        "# Mengubah menjadi dataframe untuk visualisasi\n",
        "top_keywords_df = pd.DataFrame(top_keywords, columns=['keyword', 'count'])\n",
        "\n",
        "# Plot Top 10 keywords\n",
        "plt.figure(figsize=(12, 6))\n",
        "sns.barplot(x='count', y='keyword', data=top_keywords_df)\n",
        "plt.title(\"Top 10 Keyword\")\n",
        "plt.xlabel(\"Frekuensi\")\n",
        "plt.ylabel(\"Kata Kunci\")\n",
        "plt.show()\n"
      ]
    },
    {
      "cell_type": "markdown",
      "metadata": {
        "id": "-tbbA0nSK-0z"
      },
      "source": [
        "Gambar di atas menunjukkan sepuluh kata kunci yang paling sering digunakan dalam film, dengan \"woman director\" sebagai kata kunci yang paling banyak muncul, diikuti oleh \"independent film\" dan \"murder.\" Kata kunci ini mengindikasikan tema atau elemen yang sering diangkat dalam berbagai film, seperti sutradara perempuan, film independen, dan tema pembunuhan, yang semuanya memiliki frekuensi tinggi dibandingkan dengan kata kunci lain dalam daftar."
      ]
    },
    {
      "cell_type": "markdown",
      "metadata": {
        "id": "gR9swydstdaI"
      },
      "source": [
        "### links"
      ]
    },
    {
      "cell_type": "code",
      "execution_count": null,
      "metadata": {
        "id": "sQqz6i2GK-0z",
        "outputId": "4d0d577e-332b-4a97-fdf5-a6e8281fe999"
      },
      "outputs": [
        {
          "data": {
            "text/html": [
              "<div>\n",
              "<style scoped>\n",
              "    .dataframe tbody tr th:only-of-type {\n",
              "        vertical-align: middle;\n",
              "    }\n",
              "\n",
              "    .dataframe tbody tr th {\n",
              "        vertical-align: top;\n",
              "    }\n",
              "\n",
              "    .dataframe thead th {\n",
              "        text-align: right;\n",
              "    }\n",
              "</style>\n",
              "<table border=\"1\" class=\"dataframe\">\n",
              "  <thead>\n",
              "    <tr style=\"text-align: right;\">\n",
              "      <th></th>\n",
              "      <th>movieId</th>\n",
              "      <th>imdbId</th>\n",
              "      <th>tmdbId</th>\n",
              "    </tr>\n",
              "  </thead>\n",
              "  <tbody>\n",
              "    <tr>\n",
              "      <th>0</th>\n",
              "      <td>1</td>\n",
              "      <td>114709</td>\n",
              "      <td>862.0</td>\n",
              "    </tr>\n",
              "    <tr>\n",
              "      <th>1</th>\n",
              "      <td>2</td>\n",
              "      <td>113497</td>\n",
              "      <td>8844.0</td>\n",
              "    </tr>\n",
              "    <tr>\n",
              "      <th>2</th>\n",
              "      <td>3</td>\n",
              "      <td>113228</td>\n",
              "      <td>15602.0</td>\n",
              "    </tr>\n",
              "    <tr>\n",
              "      <th>3</th>\n",
              "      <td>4</td>\n",
              "      <td>114885</td>\n",
              "      <td>31357.0</td>\n",
              "    </tr>\n",
              "    <tr>\n",
              "      <th>4</th>\n",
              "      <td>5</td>\n",
              "      <td>113041</td>\n",
              "      <td>11862.0</td>\n",
              "    </tr>\n",
              "    <tr>\n",
              "      <th>...</th>\n",
              "      <td>...</td>\n",
              "      <td>...</td>\n",
              "      <td>...</td>\n",
              "    </tr>\n",
              "    <tr>\n",
              "      <th>45838</th>\n",
              "      <td>176269</td>\n",
              "      <td>6209470</td>\n",
              "      <td>439050.0</td>\n",
              "    </tr>\n",
              "    <tr>\n",
              "      <th>45839</th>\n",
              "      <td>176271</td>\n",
              "      <td>2028550</td>\n",
              "      <td>111109.0</td>\n",
              "    </tr>\n",
              "    <tr>\n",
              "      <th>45840</th>\n",
              "      <td>176273</td>\n",
              "      <td>303758</td>\n",
              "      <td>67758.0</td>\n",
              "    </tr>\n",
              "    <tr>\n",
              "      <th>45841</th>\n",
              "      <td>176275</td>\n",
              "      <td>8536</td>\n",
              "      <td>227506.0</td>\n",
              "    </tr>\n",
              "    <tr>\n",
              "      <th>45842</th>\n",
              "      <td>176279</td>\n",
              "      <td>6980792</td>\n",
              "      <td>461257.0</td>\n",
              "    </tr>\n",
              "  </tbody>\n",
              "</table>\n",
              "<p>45843 rows × 3 columns</p>\n",
              "</div>"
            ],
            "text/plain": [
              "       movieId   imdbId    tmdbId\n",
              "0            1   114709     862.0\n",
              "1            2   113497    8844.0\n",
              "2            3   113228   15602.0\n",
              "3            4   114885   31357.0\n",
              "4            5   113041   11862.0\n",
              "...        ...      ...       ...\n",
              "45838   176269  6209470  439050.0\n",
              "45839   176271  2028550  111109.0\n",
              "45840   176273   303758   67758.0\n",
              "45841   176275     8536  227506.0\n",
              "45842   176279  6980792  461257.0\n",
              "\n",
              "[45843 rows x 3 columns]"
            ]
          },
          "execution_count": 40,
          "metadata": {},
          "output_type": "execute_result"
        }
      ],
      "source": [
        "links"
      ]
    },
    {
      "cell_type": "code",
      "execution_count": null,
      "metadata": {
        "id": "rfLIyOV8K-0z",
        "outputId": "8aded94b-cd49-424c-ac6b-819ec0fda605"
      },
      "outputs": [
        {
          "data": {
            "text/plain": [
              "movieId      0\n",
              "imdbId       0\n",
              "tmdbId     219\n",
              "dtype: int64"
            ]
          },
          "execution_count": 108,
          "metadata": {},
          "output_type": "execute_result"
        }
      ],
      "source": [
        "links.isnull().sum()"
      ]
    },
    {
      "cell_type": "markdown",
      "metadata": {
        "id": "RlWL9PgBK-0z"
      },
      "source": [
        "Output di atas menunjukkan terdapat *missing values* pada fitur `tmdbId` sebanyak 219 data."
      ]
    },
    {
      "cell_type": "code",
      "execution_count": null,
      "metadata": {
        "id": "0Np2oYK2K-0z",
        "outputId": "c3e53c06-3d04-4a32-e398-72d6797699df"
      },
      "outputs": [
        {
          "name": "stdout",
          "output_type": "stream",
          "text": [
            "Jumlah movieId unik: 45843\n",
            "Jumlah imdbId unik: 45843\n",
            "Jumlah tmdbId unik: 45594\n"
          ]
        }
      ],
      "source": [
        "print(\"Jumlah movieId unik:\", links['movieId'].nunique())\n",
        "print(\"Jumlah imdbId unik:\", links['imdbId'].nunique())\n",
        "print(\"Jumlah tmdbId unik:\", links['tmdbId'].nunique())\n"
      ]
    },
    {
      "cell_type": "code",
      "execution_count": null,
      "metadata": {
        "id": "LX05sZ0lK-00",
        "outputId": "99547779-d1cb-444c-e0d6-cef08cf68d0d"
      },
      "outputs": [
        {
          "data": {
            "image/png": "[encoded data removed]",
            "text/plain": [
              "<Figure size 800x600 with 1 Axes>"
            ]
          },
          "metadata": {},
          "output_type": "display_data"
        },
        {
          "data": {
            "image/png": "[encoded data removed]",
            "text/plain": [
              "<Figure size 800x600 with 1 Axes>"
            ]
          },
          "metadata": {},
          "output_type": "display_data"
        }
      ],
      "source": [
        "# Distribusi imdbId\n",
        "plt.figure(figsize=(8, 6))\n",
        "plt.hist(links['imdbId'].dropna(), bins=50, color='skyblue')\n",
        "plt.title(\"Distribusi imdbId\")\n",
        "plt.xlabel(\"imdbId\")\n",
        "plt.ylabel(\"Frekuensi\")\n",
        "plt.show()\n",
        "\n",
        "# Distribusi tmdbId\n",
        "plt.figure(figsize=(8, 6))\n",
        "plt.hist(links['tmdbId'].dropna(), bins=50, color='salmon')\n",
        "plt.title(\"Distribusi tmdbId\")\n",
        "plt.xlabel(\"tmdbId\")\n",
        "plt.ylabel(\"Frekuensi\")\n",
        "plt.show()"
      ]
    },
    {
      "cell_type": "markdown",
      "metadata": {
        "id": "iWLVNhEzK-00"
      },
      "source": [
        "Gambar pertama di atas menunjukkan bahwa sebagian besar film memiliki nilai imdbId yang relatif kecil, dengan sedikit film yang memiliki nilai imdbId yang lebih tinggi, yang mengindikasikan distribusi yang sangat tidak merata di mana mayoritas film berada di kisaran rendah.\n",
        "\n",
        "Gambar kedua di atas menunjukka pola serupa untuk tmdbId, dengan banyak film yang memiliki nilai tmdbId rendah dan hanya sedikit film yang memiliki nilai tmdbId tinggi, yang menunjukkan distribusi yang juga tidak merata di antara film-film tersebut."
      ]
    },
    {
      "cell_type": "markdown",
      "metadata": {
        "id": "LHaaotrwK-00"
      },
      "source": [
        "### links_small"
      ]
    },
    {
      "cell_type": "code",
      "execution_count": null,
      "metadata": {
        "id": "0EeCciFAK-00",
        "outputId": "7eb1f049-3203-4f37-ab22-983482bdd591"
      },
      "outputs": [
        {
          "data": {
            "text/html": [
              "<div>\n",
              "<style scoped>\n",
              "    .dataframe tbody tr th:only-of-type {\n",
              "        vertical-align: middle;\n",
              "    }\n",
              "\n",
              "    .dataframe tbody tr th {\n",
              "        vertical-align: top;\n",
              "    }\n",
              "\n",
              "    .dataframe thead th {\n",
              "        text-align: right;\n",
              "    }\n",
              "</style>\n",
              "<table border=\"1\" class=\"dataframe\">\n",
              "  <thead>\n",
              "    <tr style=\"text-align: right;\">\n",
              "      <th></th>\n",
              "      <th>movieId</th>\n",
              "      <th>imdbId</th>\n",
              "      <th>tmdbId</th>\n",
              "    </tr>\n",
              "  </thead>\n",
              "  <tbody>\n",
              "    <tr>\n",
              "      <th>0</th>\n",
              "      <td>1</td>\n",
              "      <td>114709</td>\n",
              "      <td>862.0</td>\n",
              "    </tr>\n",
              "    <tr>\n",
              "      <th>1</th>\n",
              "      <td>2</td>\n",
              "      <td>113497</td>\n",
              "      <td>8844.0</td>\n",
              "    </tr>\n",
              "    <tr>\n",
              "      <th>2</th>\n",
              "      <td>3</td>\n",
              "      <td>113228</td>\n",
              "      <td>15602.0</td>\n",
              "    </tr>\n",
              "    <tr>\n",
              "      <th>3</th>\n",
              "      <td>4</td>\n",
              "      <td>114885</td>\n",
              "      <td>31357.0</td>\n",
              "    </tr>\n",
              "    <tr>\n",
              "      <th>4</th>\n",
              "      <td>5</td>\n",
              "      <td>113041</td>\n",
              "      <td>11862.0</td>\n",
              "    </tr>\n",
              "    <tr>\n",
              "      <th>...</th>\n",
              "      <td>...</td>\n",
              "      <td>...</td>\n",
              "      <td>...</td>\n",
              "    </tr>\n",
              "    <tr>\n",
              "      <th>9120</th>\n",
              "      <td>162672</td>\n",
              "      <td>3859980</td>\n",
              "      <td>402672.0</td>\n",
              "    </tr>\n",
              "    <tr>\n",
              "      <th>9121</th>\n",
              "      <td>163056</td>\n",
              "      <td>4262980</td>\n",
              "      <td>315011.0</td>\n",
              "    </tr>\n",
              "    <tr>\n",
              "      <th>9122</th>\n",
              "      <td>163949</td>\n",
              "      <td>2531318</td>\n",
              "      <td>391698.0</td>\n",
              "    </tr>\n",
              "    <tr>\n",
              "      <th>9123</th>\n",
              "      <td>164977</td>\n",
              "      <td>27660</td>\n",
              "      <td>137608.0</td>\n",
              "    </tr>\n",
              "    <tr>\n",
              "      <th>9124</th>\n",
              "      <td>164979</td>\n",
              "      <td>3447228</td>\n",
              "      <td>410803.0</td>\n",
              "    </tr>\n",
              "  </tbody>\n",
              "</table>\n",
              "<p>9125 rows × 3 columns</p>\n",
              "</div>"
            ],
            "text/plain": [
              "      movieId   imdbId    tmdbId\n",
              "0           1   114709     862.0\n",
              "1           2   113497    8844.0\n",
              "2           3   113228   15602.0\n",
              "3           4   114885   31357.0\n",
              "4           5   113041   11862.0\n",
              "...       ...      ...       ...\n",
              "9120   162672  3859980  402672.0\n",
              "9121   163056  4262980  315011.0\n",
              "9122   163949  2531318  391698.0\n",
              "9123   164977    27660  137608.0\n",
              "9124   164979  3447228  410803.0\n",
              "\n",
              "[9125 rows x 3 columns]"
            ]
          },
          "execution_count": 44,
          "metadata": {},
          "output_type": "execute_result"
        }
      ],
      "source": [
        "links_small"
      ]
    },
    {
      "cell_type": "code",
      "execution_count": null,
      "metadata": {
        "id": "TEA2i6byK-00",
        "outputId": "dd7bcc8d-89f0-414d-8d7d-b7aa5b447d6c"
      },
      "outputs": [
        {
          "data": {
            "text/plain": [
              "movieId     0\n",
              "imdbId      0\n",
              "tmdbId     13\n",
              "dtype: int64"
            ]
          },
          "execution_count": 109,
          "metadata": {},
          "output_type": "execute_result"
        }
      ],
      "source": [
        "links_small.isnull().sum()"
      ]
    },
    {
      "cell_type": "markdown",
      "metadata": {
        "id": "EkAjZulZK-00"
      },
      "source": [
        "Output di atas menunjukkan terdapat *missing values* pada fitur `tmdbId` sebanyak 13 data."
      ]
    },
    {
      "cell_type": "code",
      "execution_count": null,
      "metadata": {
        "id": "YzqJAQVNK-00",
        "outputId": "a1389327-a8a5-4cbb-acb6-74d8576fe891"
      },
      "outputs": [
        {
          "name": "stdout",
          "output_type": "stream",
          "text": [
            "Jumlah movieId unik: 9125\n",
            "Jumlah imdbId unik: 9125\n",
            "Jumlah tmdbId unik: 9112\n"
          ]
        }
      ],
      "source": [
        "print(\"Jumlah movieId unik:\", links_small['movieId'].nunique())\n",
        "print(\"Jumlah imdbId unik:\", links_small['imdbId'].nunique())\n",
        "print(\"Jumlah tmdbId unik:\", links_small['tmdbId'].nunique())\n"
      ]
    },
    {
      "cell_type": "code",
      "execution_count": null,
      "metadata": {
        "id": "fAmXvUqRK-00",
        "outputId": "85b2b687-bca6-4abb-dc60-f12e25b9498d"
      },
      "outputs": [
        {
          "data": {
            "image/png": "[encoded data removed]",
            "text/plain": [
              "<Figure size 800x600 with 1 Axes>"
            ]
          },
          "metadata": {},
          "output_type": "display_data"
        },
        {
          "data": {
            "image/png": "[encoded data removed]",
            "text/plain": [
              "<Figure size 800x600 with 1 Axes>"
            ]
          },
          "metadata": {},
          "output_type": "display_data"
        }
      ],
      "source": [
        "# Distribusi imdbId\n",
        "plt.figure(figsize=(8, 6))\n",
        "plt.hist(links_small['imdbId'].dropna(), bins=50, color='skyblue')\n",
        "plt.title(\"Distribusi imdbId\")\n",
        "plt.xlabel(\"imdbId\")\n",
        "plt.ylabel(\"Frekuensi\")\n",
        "plt.show()\n",
        "\n",
        "# Distribusi tmdbId\n",
        "plt.figure(figsize=(8, 6))\n",
        "plt.hist(links_small['tmdbId'].dropna(), bins=50, color='salmon')\n",
        "plt.title(\"Distribusi tmdbId\")\n",
        "plt.xlabel(\"tmdbId\")\n",
        "plt.ylabel(\"Frekuensi\")\n",
        "plt.show()\n"
      ]
    },
    {
      "cell_type": "markdown",
      "metadata": {
        "id": "djk_4XT7K-01"
      },
      "source": [
        "Gambar pertama di atas menunjukkan distribusi imdbId, kita melihat bahwa sebagian besar film memiliki nilai imdbId yang rendah, dengan frekuensi tertinggi berkumpul di bagian kiri grafik.\n",
        "\n",
        "Gambar kedua di atas menunjukkan distribusi tmdbId, pola yang mirip terlihat, di mana mayoritas tmdbId berjumlah rendah dan beberapa jumlah lebih tinggi muncul semakin jarang."
      ]
    },
    {
      "cell_type": "markdown",
      "metadata": {
        "id": "i3jh3knj_goa"
      },
      "source": [
        "### movies_metadata"
      ]
    },
    {
      "cell_type": "code",
      "execution_count": null,
      "metadata": {
        "colab": {
          "base_uri": "https://localhost:8080/",
          "height": 206
        },
        "id": "OP-VYbPN_3RV",
        "outputId": "fd902006-0a32-413f-926f-a2bfdf36ca5e"
      },
      "outputs": [
        {
          "data": {
            "text/html": [
              "<div>\n",
              "<style scoped>\n",
              "    .dataframe tbody tr th:only-of-type {\n",
              "        vertical-align: middle;\n",
              "    }\n",
              "\n",
              "    .dataframe tbody tr th {\n",
              "        vertical-align: top;\n",
              "    }\n",
              "\n",
              "    .dataframe thead th {\n",
              "        text-align: right;\n",
              "    }\n",
              "</style>\n",
              "<table border=\"1\" class=\"dataframe\">\n",
              "  <thead>\n",
              "    <tr style=\"text-align: right;\">\n",
              "      <th></th>\n",
              "      <th>adult</th>\n",
              "      <th>belongs_to_collection</th>\n",
              "      <th>budget</th>\n",
              "      <th>genres</th>\n",
              "      <th>homepage</th>\n",
              "      <th>id</th>\n",
              "      <th>imdb_id</th>\n",
              "      <th>original_language</th>\n",
              "      <th>original_title</th>\n",
              "      <th>overview</th>\n",
              "      <th>...</th>\n",
              "      <th>release_date</th>\n",
              "      <th>revenue</th>\n",
              "      <th>runtime</th>\n",
              "      <th>spoken_languages</th>\n",
              "      <th>status</th>\n",
              "      <th>tagline</th>\n",
              "      <th>title</th>\n",
              "      <th>video</th>\n",
              "      <th>vote_average</th>\n",
              "      <th>vote_count</th>\n",
              "    </tr>\n",
              "  </thead>\n",
              "  <tbody>\n",
              "    <tr>\n",
              "      <th>0</th>\n",
              "      <td>False</td>\n",
              "      <td>{'id': 10194, 'name': 'Toy Story Collection', ...</td>\n",
              "      <td>30000000</td>\n",
              "      <td>[{'id': 16, 'name': 'Animation'}, {'id': 35, '...</td>\n",
              "      <td>http://toystory.disney.com/toy-story</td>\n",
              "      <td>862</td>\n",
              "      <td>tt0114709</td>\n",
              "      <td>en</td>\n",
              "      <td>Toy Story</td>\n",
              "      <td>Led by Woody, Andy's toys live happily in his ...</td>\n",
              "      <td>...</td>\n",
              "      <td>1995-10-30</td>\n",
              "      <td>373554033.0</td>\n",
              "      <td>81.0</td>\n",
              "      <td>[{'iso_639_1': 'en', 'name': 'English'}]</td>\n",
              "      <td>Released</td>\n",
              "      <td>NaN</td>\n",
              "      <td>Toy Story</td>\n",
              "      <td>False</td>\n",
              "      <td>7.7</td>\n",
              "      <td>5415.0</td>\n",
              "    </tr>\n",
              "    <tr>\n",
              "      <th>1</th>\n",
              "      <td>False</td>\n",
              "      <td>NaN</td>\n",
              "      <td>65000000</td>\n",
              "      <td>[{'id': 12, 'name': 'Adventure'}, {'id': 14, '...</td>\n",
              "      <td>NaN</td>\n",
              "      <td>8844</td>\n",
              "      <td>tt0113497</td>\n",
              "      <td>en</td>\n",
              "      <td>Jumanji</td>\n",
              "      <td>When siblings Judy and Peter discover an encha...</td>\n",
              "      <td>...</td>\n",
              "      <td>1995-12-15</td>\n",
              "      <td>262797249.0</td>\n",
              "      <td>104.0</td>\n",
              "      <td>[{'iso_639_1': 'en', 'name': 'English'}, {'iso...</td>\n",
              "      <td>Released</td>\n",
              "      <td>Roll the dice and unleash the excitement!</td>\n",
              "      <td>Jumanji</td>\n",
              "      <td>False</td>\n",
              "      <td>6.9</td>\n",
              "      <td>2413.0</td>\n",
              "    </tr>\n",
              "    <tr>\n",
              "      <th>2</th>\n",
              "      <td>False</td>\n",
              "      <td>{'id': 119050, 'name': 'Grumpy Old Men Collect...</td>\n",
              "      <td>0</td>\n",
              "      <td>[{'id': 10749, 'name': 'Romance'}, {'id': 35, ...</td>\n",
              "      <td>NaN</td>\n",
              "      <td>15602</td>\n",
              "      <td>tt0113228</td>\n",
              "      <td>en</td>\n",
              "      <td>Grumpier Old Men</td>\n",
              "      <td>A family wedding reignites the ancient feud be...</td>\n",
              "      <td>...</td>\n",
              "      <td>1995-12-22</td>\n",
              "      <td>0.0</td>\n",
              "      <td>101.0</td>\n",
              "      <td>[{'iso_639_1': 'en', 'name': 'English'}]</td>\n",
              "      <td>Released</td>\n",
              "      <td>Still Yelling. Still Fighting. Still Ready for...</td>\n",
              "      <td>Grumpier Old Men</td>\n",
              "      <td>False</td>\n",
              "      <td>6.5</td>\n",
              "      <td>92.0</td>\n",
              "    </tr>\n",
              "    <tr>\n",
              "      <th>3</th>\n",
              "      <td>False</td>\n",
              "      <td>NaN</td>\n",
              "      <td>16000000</td>\n",
              "      <td>[{'id': 35, 'name': 'Comedy'}, {'id': 18, 'nam...</td>\n",
              "      <td>NaN</td>\n",
              "      <td>31357</td>\n",
              "      <td>tt0114885</td>\n",
              "      <td>en</td>\n",
              "      <td>Waiting to Exhale</td>\n",
              "      <td>Cheated on, mistreated and stepped on, the wom...</td>\n",
              "      <td>...</td>\n",
              "      <td>1995-12-22</td>\n",
              "      <td>81452156.0</td>\n",
              "      <td>127.0</td>\n",
              "      <td>[{'iso_639_1': 'en', 'name': 'English'}]</td>\n",
              "      <td>Released</td>\n",
              "      <td>Friends are the people who let you be yourself...</td>\n",
              "      <td>Waiting to Exhale</td>\n",
              "      <td>False</td>\n",
              "      <td>6.1</td>\n",
              "      <td>34.0</td>\n",
              "    </tr>\n",
              "    <tr>\n",
              "      <th>4</th>\n",
              "      <td>False</td>\n",
              "      <td>{'id': 96871, 'name': 'Father of the Bride Col...</td>\n",
              "      <td>0</td>\n",
              "      <td>[{'id': 35, 'name': 'Comedy'}]</td>\n",
              "      <td>NaN</td>\n",
              "      <td>11862</td>\n",
              "      <td>tt0113041</td>\n",
              "      <td>en</td>\n",
              "      <td>Father of the Bride Part II</td>\n",
              "      <td>Just when George Banks has recovered from his ...</td>\n",
              "      <td>...</td>\n",
              "      <td>1995-02-10</td>\n",
              "      <td>76578911.0</td>\n",
              "      <td>106.0</td>\n",
              "      <td>[{'iso_639_1': 'en', 'name': 'English'}]</td>\n",
              "      <td>Released</td>\n",
              "      <td>Just When His World Is Back To Normal... He's ...</td>\n",
              "      <td>Father of the Bride Part II</td>\n",
              "      <td>False</td>\n",
              "      <td>5.7</td>\n",
              "      <td>173.0</td>\n",
              "    </tr>\n",
              "    <tr>\n",
              "      <th>...</th>\n",
              "      <td>...</td>\n",
              "      <td>...</td>\n",
              "      <td>...</td>\n",
              "      <td>...</td>\n",
              "      <td>...</td>\n",
              "      <td>...</td>\n",
              "      <td>...</td>\n",
              "      <td>...</td>\n",
              "      <td>...</td>\n",
              "      <td>...</td>\n",
              "      <td>...</td>\n",
              "      <td>...</td>\n",
              "      <td>...</td>\n",
              "      <td>...</td>\n",
              "      <td>...</td>\n",
              "      <td>...</td>\n",
              "      <td>...</td>\n",
              "      <td>...</td>\n",
              "      <td>...</td>\n",
              "      <td>...</td>\n",
              "      <td>...</td>\n",
              "    </tr>\n",
              "    <tr>\n",
              "      <th>45461</th>\n",
              "      <td>False</td>\n",
              "      <td>NaN</td>\n",
              "      <td>0</td>\n",
              "      <td>[{'id': 18, 'name': 'Drama'}, {'id': 10751, 'n...</td>\n",
              "      <td>http://www.imdb.com/title/tt6209470/</td>\n",
              "      <td>439050</td>\n",
              "      <td>tt6209470</td>\n",
              "      <td>fa</td>\n",
              "      <td>رگ خواب</td>\n",
              "      <td>Rising and falling between a man and woman.</td>\n",
              "      <td>...</td>\n",
              "      <td>NaN</td>\n",
              "      <td>0.0</td>\n",
              "      <td>90.0</td>\n",
              "      <td>[{'iso_639_1': 'fa', 'name': 'فارسی'}]</td>\n",
              "      <td>Released</td>\n",
              "      <td>Rising and falling between a man and woman</td>\n",
              "      <td>Subdue</td>\n",
              "      <td>False</td>\n",
              "      <td>4.0</td>\n",
              "      <td>1.0</td>\n",
              "    </tr>\n",
              "    <tr>\n",
              "      <th>45462</th>\n",
              "      <td>False</td>\n",
              "      <td>NaN</td>\n",
              "      <td>0</td>\n",
              "      <td>[{'id': 18, 'name': 'Drama'}]</td>\n",
              "      <td>NaN</td>\n",
              "      <td>111109</td>\n",
              "      <td>tt2028550</td>\n",
              "      <td>tl</td>\n",
              "      <td>Siglo ng Pagluluwal</td>\n",
              "      <td>An artist struggles to finish his work while a...</td>\n",
              "      <td>...</td>\n",
              "      <td>2011-11-17</td>\n",
              "      <td>0.0</td>\n",
              "      <td>360.0</td>\n",
              "      <td>[{'iso_639_1': 'tl', 'name': ''}]</td>\n",
              "      <td>Released</td>\n",
              "      <td>NaN</td>\n",
              "      <td>Century of Birthing</td>\n",
              "      <td>False</td>\n",
              "      <td>9.0</td>\n",
              "      <td>3.0</td>\n",
              "    </tr>\n",
              "    <tr>\n",
              "      <th>45463</th>\n",
              "      <td>False</td>\n",
              "      <td>NaN</td>\n",
              "      <td>0</td>\n",
              "      <td>[{'id': 28, 'name': 'Action'}, {'id': 18, 'nam...</td>\n",
              "      <td>NaN</td>\n",
              "      <td>67758</td>\n",
              "      <td>tt0303758</td>\n",
              "      <td>en</td>\n",
              "      <td>Betrayal</td>\n",
              "      <td>When one of her hits goes wrong, a professiona...</td>\n",
              "      <td>...</td>\n",
              "      <td>2003-08-01</td>\n",
              "      <td>0.0</td>\n",
              "      <td>90.0</td>\n",
              "      <td>[{'iso_639_1': 'en', 'name': 'English'}]</td>\n",
              "      <td>Released</td>\n",
              "      <td>A deadly game of wits.</td>\n",
              "      <td>Betrayal</td>\n",
              "      <td>False</td>\n",
              "      <td>3.8</td>\n",
              "      <td>6.0</td>\n",
              "    </tr>\n",
              "    <tr>\n",
              "      <th>45464</th>\n",
              "      <td>False</td>\n",
              "      <td>NaN</td>\n",
              "      <td>0</td>\n",
              "      <td>[]</td>\n",
              "      <td>NaN</td>\n",
              "      <td>227506</td>\n",
              "      <td>tt0008536</td>\n",
              "      <td>en</td>\n",
              "      <td>Satana likuyushchiy</td>\n",
              "      <td>In a small town live two brothers, one a minis...</td>\n",
              "      <td>...</td>\n",
              "      <td>1917-10-21</td>\n",
              "      <td>0.0</td>\n",
              "      <td>87.0</td>\n",
              "      <td>[]</td>\n",
              "      <td>Released</td>\n",
              "      <td>NaN</td>\n",
              "      <td>Satan Triumphant</td>\n",
              "      <td>False</td>\n",
              "      <td>0.0</td>\n",
              "      <td>0.0</td>\n",
              "    </tr>\n",
              "    <tr>\n",
              "      <th>45465</th>\n",
              "      <td>False</td>\n",
              "      <td>NaN</td>\n",
              "      <td>0</td>\n",
              "      <td>[]</td>\n",
              "      <td>NaN</td>\n",
              "      <td>461257</td>\n",
              "      <td>tt6980792</td>\n",
              "      <td>en</td>\n",
              "      <td>Queerama</td>\n",
              "      <td>50 years after decriminalisation of homosexual...</td>\n",
              "      <td>...</td>\n",
              "      <td>2017-06-09</td>\n",
              "      <td>0.0</td>\n",
              "      <td>75.0</td>\n",
              "      <td>[{'iso_639_1': 'en', 'name': 'English'}]</td>\n",
              "      <td>Released</td>\n",
              "      <td>NaN</td>\n",
              "      <td>Queerama</td>\n",
              "      <td>False</td>\n",
              "      <td>0.0</td>\n",
              "      <td>0.0</td>\n",
              "    </tr>\n",
              "  </tbody>\n",
              "</table>\n",
              "<p>45466 rows × 24 columns</p>\n",
              "</div>"
            ],
            "text/plain": [
              "       adult                              belongs_to_collection    budget  \\\n",
              "0      False  {'id': 10194, 'name': 'Toy Story Collection', ...  30000000   \n",
              "1      False                                                NaN  65000000   \n",
              "2      False  {'id': 119050, 'name': 'Grumpy Old Men Collect...         0   \n",
              "3      False                                                NaN  16000000   \n",
              "4      False  {'id': 96871, 'name': 'Father of the Bride Col...         0   \n",
              "...      ...                                                ...       ...   \n",
              "45461  False                                                NaN         0   \n",
              "45462  False                                                NaN         0   \n",
              "45463  False                                                NaN         0   \n",
              "45464  False                                                NaN         0   \n",
              "45465  False                                                NaN         0   \n",
              "\n",
              "                                                  genres  \\\n",
              "0      [{'id': 16, 'name': 'Animation'}, {'id': 35, '...   \n",
              "1      [{'id': 12, 'name': 'Adventure'}, {'id': 14, '...   \n",
              "2      [{'id': 10749, 'name': 'Romance'}, {'id': 35, ...   \n",
              "3      [{'id': 35, 'name': 'Comedy'}, {'id': 18, 'nam...   \n",
              "4                         [{'id': 35, 'name': 'Comedy'}]   \n",
              "...                                                  ...   \n",
              "45461  [{'id': 18, 'name': 'Drama'}, {'id': 10751, 'n...   \n",
              "45462                      [{'id': 18, 'name': 'Drama'}]   \n",
              "45463  [{'id': 28, 'name': 'Action'}, {'id': 18, 'nam...   \n",
              "45464                                                 []   \n",
              "45465                                                 []   \n",
              "\n",
              "                                   homepage      id    imdb_id  \\\n",
              "0      http://toystory.disney.com/toy-story     862  tt0114709   \n",
              "1                                       NaN    8844  tt0113497   \n",
              "2                                       NaN   15602  tt0113228   \n",
              "3                                       NaN   31357  tt0114885   \n",
              "4                                       NaN   11862  tt0113041   \n",
              "...                                     ...     ...        ...   \n",
              "45461  http://www.imdb.com/title/tt6209470/  439050  tt6209470   \n",
              "45462                                   NaN  111109  tt2028550   \n",
              "45463                                   NaN   67758  tt0303758   \n",
              "45464                                   NaN  227506  tt0008536   \n",
              "45465                                   NaN  461257  tt6980792   \n",
              "\n",
              "      original_language               original_title  \\\n",
              "0                    en                    Toy Story   \n",
              "1                    en                      Jumanji   \n",
              "2                    en             Grumpier Old Men   \n",
              "3                    en            Waiting to Exhale   \n",
              "4                    en  Father of the Bride Part II   \n",
              "...                 ...                          ...   \n",
              "45461                fa                      رگ خواب   \n",
              "45462                tl          Siglo ng Pagluluwal   \n",
              "45463                en                     Betrayal   \n",
              "45464                en          Satana likuyushchiy   \n",
              "45465                en                     Queerama   \n",
              "\n",
              "                                                overview  ... release_date  \\\n",
              "0      Led by Woody, Andy's toys live happily in his ...  ...   1995-10-30   \n",
              "1      When siblings Judy and Peter discover an encha...  ...   1995-12-15   \n",
              "2      A family wedding reignites the ancient feud be...  ...   1995-12-22   \n",
              "3      Cheated on, mistreated and stepped on, the wom...  ...   1995-12-22   \n",
              "4      Just when George Banks has recovered from his ...  ...   1995-02-10   \n",
              "...                                                  ...  ...          ...   \n",
              "45461        Rising and falling between a man and woman.  ...          NaN   \n",
              "45462  An artist struggles to finish his work while a...  ...   2011-11-17   \n",
              "45463  When one of her hits goes wrong, a professiona...  ...   2003-08-01   \n",
              "45464  In a small town live two brothers, one a minis...  ...   1917-10-21   \n",
              "45465  50 years after decriminalisation of homosexual...  ...   2017-06-09   \n",
              "\n",
              "           revenue runtime                                   spoken_languages  \\\n",
              "0      373554033.0    81.0           [{'iso_639_1': 'en', 'name': 'English'}]   \n",
              "1      262797249.0   104.0  [{'iso_639_1': 'en', 'name': 'English'}, {'iso...   \n",
              "2              0.0   101.0           [{'iso_639_1': 'en', 'name': 'English'}]   \n",
              "3       81452156.0   127.0           [{'iso_639_1': 'en', 'name': 'English'}]   \n",
              "4       76578911.0   106.0           [{'iso_639_1': 'en', 'name': 'English'}]   \n",
              "...            ...     ...                                                ...   \n",
              "45461          0.0    90.0             [{'iso_639_1': 'fa', 'name': 'فارسی'}]   \n",
              "45462          0.0   360.0                  [{'iso_639_1': 'tl', 'name': ''}]   \n",
              "45463          0.0    90.0           [{'iso_639_1': 'en', 'name': 'English'}]   \n",
              "45464          0.0    87.0                                                 []   \n",
              "45465          0.0    75.0           [{'iso_639_1': 'en', 'name': 'English'}]   \n",
              "\n",
              "         status                                            tagline  \\\n",
              "0      Released                                                NaN   \n",
              "1      Released          Roll the dice and unleash the excitement!   \n",
              "2      Released  Still Yelling. Still Fighting. Still Ready for...   \n",
              "3      Released  Friends are the people who let you be yourself...   \n",
              "4      Released  Just When His World Is Back To Normal... He's ...   \n",
              "...         ...                                                ...   \n",
              "45461  Released         Rising and falling between a man and woman   \n",
              "45462  Released                                                NaN   \n",
              "45463  Released                             A deadly game of wits.   \n",
              "45464  Released                                                NaN   \n",
              "45465  Released                                                NaN   \n",
              "\n",
              "                             title  video vote_average vote_count  \n",
              "0                        Toy Story  False          7.7     5415.0  \n",
              "1                          Jumanji  False          6.9     2413.0  \n",
              "2                 Grumpier Old Men  False          6.5       92.0  \n",
              "3                Waiting to Exhale  False          6.1       34.0  \n",
              "4      Father of the Bride Part II  False          5.7      173.0  \n",
              "...                            ...    ...          ...        ...  \n",
              "45461                       Subdue  False          4.0        1.0  \n",
              "45462          Century of Birthing  False          9.0        3.0  \n",
              "45463                     Betrayal  False          3.8        6.0  \n",
              "45464             Satan Triumphant  False          0.0        0.0  \n",
              "45465                     Queerama  False          0.0        0.0  \n",
              "\n",
              "[45466 rows x 24 columns]"
            ]
          },
          "execution_count": 48,
          "metadata": {},
          "output_type": "execute_result"
        }
      ],
      "source": [
        "movies_metadata"
      ]
    },
    {
      "cell_type": "code",
      "execution_count": null,
      "metadata": {
        "id": "3GtYHaCOK-01",
        "outputId": "a3b8c1bf-27a9-4d7e-bbf4-6e0b708c1581"
      },
      "outputs": [
        {
          "data": {
            "text/plain": [
              "adult                        0\n",
              "belongs_to_collection    40972\n",
              "budget                       0\n",
              "genres                       0\n",
              "homepage                 37684\n",
              "id                           0\n",
              "imdb_id                     17\n",
              "original_language           11\n",
              "original_title               0\n",
              "overview                   954\n",
              "popularity                   5\n",
              "poster_path                386\n",
              "production_companies         3\n",
              "production_countries         3\n",
              "release_date                87\n",
              "revenue                      6\n",
              "runtime                    263\n",
              "spoken_languages             6\n",
              "status                      87\n",
              "tagline                  25054\n",
              "title                        6\n",
              "video                        6\n",
              "vote_average                 6\n",
              "vote_count                   6\n",
              "dtype: int64"
            ]
          },
          "execution_count": 49,
          "metadata": {},
          "output_type": "execute_result"
        }
      ],
      "source": [
        "movies_metadata.isnull().sum()"
      ]
    },
    {
      "cell_type": "markdown",
      "metadata": {
        "id": "lTzEaoNUK-01"
      },
      "source": [
        "Informasi di atas menunjukkan adanya *missing values* pada beberapa fitur, yaitu `belongs_to_collection` (40972), `homepage` (37684), `imdb_id` (17), `original_language` (11), `overview` (954), `popularity` (5), `poster_path` (386), `production_companies` (3), `production_countries` (3), `release_date` (87), `revenue` (6), `runtime` (263), `spoken_languages` (6), `status` (87), `tagline` (25054), `title` (6), `video` (6), `vote_average` (6), dan `vote_count` (6)."
      ]
    },
    {
      "cell_type": "code",
      "execution_count": null,
      "metadata": {
        "id": "gfan07XZK-01",
        "outputId": "51557a20-a632-48c8-ab8b-cfeedd8b6f00"
      },
      "outputs": [
        {
          "name": "stdout",
          "output_type": "stream",
          "text": [
            "Berikut genre unik: 32\n"
          ]
        }
      ],
      "source": [
        "# Ensure the genres column is parsed correctly\n",
        "movies_metadata['genres'] = movies_metadata['genres'].apply(lambda x: ast.literal_eval(x) if isinstance(x, str) else x)\n",
        "\n",
        "# Flatten the genres list and extract unique genre names\n",
        "genres_list = {genre['name'] for genres in movies_metadata['genres'] if isinstance(genres, list) for genre in genres}\n",
        "\n",
        "# Count unique genres\n",
        "unique_genres_count = len(genres_list)\n",
        "\n",
        "print(f\"Berikut genre unik: {unique_genres_count}\")"
      ]
    },
    {
      "cell_type": "markdown",
      "metadata": {
        "id": "JW_bNMrfK-01"
      },
      "source": [
        "Output diatas menujukkan ditemukan sebanyak 32 genre unik"
      ]
    },
    {
      "cell_type": "code",
      "execution_count": null,
      "metadata": {
        "id": "yvj-F-LoK-02",
        "outputId": "6d20e361-05b1-47a4-a775-31eb0d5e858e"
      },
      "outputs": [
        {
          "name": "stdout",
          "output_type": "stream",
          "text": [
            "Berikut hasilnya: Action, Adventure, Animation, Aniplex, BROSTA TV, Carousel Productions, Comedy, Crime, Documentary, Drama, Family, Fantasy, Foreign, GoHands, History, Horror, Mardock Scramble Production Committee, Music, Mystery, Odyssey Media, Pulser Productions, Rogue State, Romance, Science Fiction, Sentai Filmworks, TV Movie, Telescene Film Group Productions, The Cartel, Thriller, Vision View Entertainment, War, Western\n"
          ]
        }
      ],
      "source": [
        "# Convert the set to a sorted list and join the genres with commas\n",
        "unique_genres = \", \".join(sorted(genres_list))\n",
        "\n",
        "print(f\"Berikut hasilnya: {unique_genres}\")"
      ]
    },
    {
      "cell_type": "code",
      "execution_count": null,
      "metadata": {
        "id": "5qBmVLQ6K-02",
        "outputId": "1fe3cd80-5395-4eb6-fdf6-316175f5779d"
      },
      "outputs": [
        {
          "name": "stderr",
          "output_type": "stream",
          "text": [
            "C:\\Users\\farra\\AppData\\Local\\Temp\\ipykernel_12404\\3616244106.py:12: FutureWarning: \n",
            "\n",
            "Passing `palette` without assigning `hue` is deprecated and will be removed in v0.14.0. Assign the `y` variable to `hue` and set `legend=False` for the same effect.\n",
            "\n",
            "  sns.barplot(x=list(counts), y=list(genres), palette='viridis')\n"
          ]
        },
        {
          "data": {
            "image/png": "[encoded data removed]",
            "text/plain": [
              "<Figure size 1200x600 with 1 Axes>"
            ]
          },
          "metadata": {},
          "output_type": "display_data"
        }
      ],
      "source": [
        "# Mengonversi kolom genres menjadi list\n",
        "movies_metadata['genres'] = movies_metadata['genres'].apply(lambda x: ast.literal_eval(x) if isinstance(x, str) else [])\n",
        "genres_list = [genre['name'] for sublist in movies_metadata['genres'] for genre in sublist]\n",
        "top_genres = Counter(genres_list).most_common(10)\n",
        "\n",
        "# Visualisasi top genres\n",
        "genres, counts = zip(*top_genres)\n",
        "plt.figure(figsize=(12, 6))\n",
        "sns.barplot(x=list(counts), y=list(genres), palette='viridis')\n",
        "plt.title('Top 10 Genre')\n",
        "plt.xlabel('Jumlah Film')\n",
        "plt.ylabel('Genre')\n",
        "plt.show()\n"
      ]
    },
    {
      "cell_type": "markdown",
      "metadata": {
        "id": "HIBzzY0hK-02"
      },
      "source": [
        "Gambar di atas menunjukkan genre film yang paling populer. Drama dan Komedi merupakan genre yang paling sering muncul, diikuti oleh Thriller, Romance, dan Action. Genre-genre ini menunjukkan preferensi umum dalam produksi film."
      ]
    },
    {
      "cell_type": "code",
      "execution_count": null,
      "metadata": {
        "id": "QsZgKXhFK-02",
        "outputId": "75240196-7573-4f4d-81c3-83fadee83c29"
      },
      "outputs": [
        {
          "data": {
            "image/png": "[encoded data removed]",
            "text/plain": [
              "<Figure size 1400x700 with 1 Axes>"
            ]
          },
          "metadata": {},
          "output_type": "display_data"
        }
      ],
      "source": [
        "movies_metadata['release_date'] = pd.to_datetime(movies_metadata['release_date'], errors='coerce')\n",
        "movies_metadata['release_year'] = movies_metadata['release_date'].dt.year\n",
        "\n",
        "plt.figure(figsize=(14, 7))\n",
        "sns.histplot(movies_metadata['release_year'].dropna(), bins=50, kde=True)\n",
        "plt.title('Distribusi Tahun Rilis')\n",
        "plt.xlabel('Tahun')\n",
        "plt.ylabel('Jumlah Film')\n",
        "plt.show()\n"
      ]
    },
    {
      "cell_type": "markdown",
      "metadata": {
        "id": "vzNZ6DHpK-02"
      },
      "source": [
        "Gambar di atas menunjukkan jumlah film yang dirilis setiap tahun dari akhir abad ke-19 hingga awal abad ke-21. Terlihat ada peningkatan jumlah film yang signifikan sejak pertengahan abad ke-20, mencapai puncaknya di tahun 2000-an, lalu sedikit menurun setelahnya."
      ]
    },
    {
      "cell_type": "code",
      "execution_count": null,
      "metadata": {
        "id": "x70F7QuUK-02",
        "outputId": "989450c4-fa50-4aad-85e4-d546ea3bd40f"
      },
      "outputs": [
        {
          "name": "stderr",
          "output_type": "stream",
          "text": [
            "C:\\Users\\farra\\AppData\\Local\\Temp\\ipykernel_12404\\3744113717.py:6: FutureWarning: \n",
            "\n",
            "Passing `palette` without assigning `hue` is deprecated and will be removed in v0.14.0. Assign the `y` variable to `hue` and set `legend=False` for the same effect.\n",
            "\n",
            "  sns.barplot(x=top_10_languages.values, y=top_10_languages.index, palette=\"viridis\")\n"
          ]
        },
        {
          "data": {
            "image/png": "[encoded data removed]",
            "text/plain": [
              "<Figure size 1200x600 with 1 Axes>"
            ]
          },
          "metadata": {},
          "output_type": "display_data"
        }
      ],
      "source": [
        "# Menghitung 10 bahasa asli film teratas\n",
        "top_10_languages = movies_metadata['original_language'].value_counts().head(10)\n",
        "\n",
        "# Membuat plot untuk Top 10 bahasa asli\n",
        "plt.figure(figsize=(12, 6))\n",
        "sns.barplot(x=top_10_languages.values, y=top_10_languages.index, palette=\"viridis\")\n",
        "plt.title('Top 10 Bahasa Asli Film')\n",
        "plt.xlabel('Jumlah Film')\n",
        "plt.ylabel('Bahasa')\n",
        "plt.show()\n"
      ]
    },
    {
      "cell_type": "markdown",
      "metadata": {
        "id": "dCY9qMMfK-02"
      },
      "source": [
        "Gambar di atas menunjukkan bahasa asli yang paling umum digunakan dalam film. Bahasa Inggris (ditampilkan sebagai \"en\") mendominasi dengan jumlah yang jauh lebih besar dibandingkan bahasa lainnya seperti Prancis, Italia, dan Jepang."
      ]
    },
    {
      "cell_type": "code",
      "execution_count": null,
      "metadata": {
        "id": "S_830dGKK-02",
        "outputId": "00fbaf97-09cb-45bd-e4ce-c46944eb1b50"
      },
      "outputs": [
        {
          "data": {
            "image/png": "[encoded data removed]",
            "text/plain": [
              "<Figure size 1000x600 with 1 Axes>"
            ]
          },
          "metadata": {},
          "output_type": "display_data"
        }
      ],
      "source": [
        "# Plot distribusi rating rata-rata\n",
        "plt.figure(figsize=(10, 6))\n",
        "plt.hist(movies_metadata['vote_average'].dropna(), bins=20, color='salmon')\n",
        "plt.xlabel('Vote Average')\n",
        "plt.ylabel('Frequency')\n",
        "plt.title('Distribusi Rata-Rata Rating Film')\n",
        "plt.show()\n"
      ]
    },
    {
      "cell_type": "markdown",
      "metadata": {
        "id": "QWzHuYuxK-03"
      },
      "source": [
        "Gambar di atas menunjukkan bagaimana distribusi nilai rating rata-rata yang diberikan untuk film. Sebagian besar film mendapatkan rating rata-rata sekitar 5 hingga 7, dengan sedikit yang memiliki nilai mendekati 0 atau sempurna di 10."
      ]
    },
    {
      "cell_type": "code",
      "execution_count": null,
      "metadata": {
        "id": "yWdZae7pK-03",
        "outputId": "d8cf9ef5-8216-4749-d06b-900cdb1871d8"
      },
      "outputs": [
        {
          "data": {
            "text/html": [
              "<div>\n",
              "<style scoped>\n",
              "    .dataframe tbody tr th:only-of-type {\n",
              "        vertical-align: middle;\n",
              "    }\n",
              "\n",
              "    .dataframe tbody tr th {\n",
              "        vertical-align: top;\n",
              "    }\n",
              "\n",
              "    .dataframe thead th {\n",
              "        text-align: right;\n",
              "    }\n",
              "</style>\n",
              "<table border=\"1\" class=\"dataframe\">\n",
              "  <thead>\n",
              "    <tr style=\"text-align: right;\">\n",
              "      <th></th>\n",
              "      <th>revenue</th>\n",
              "      <th>runtime</th>\n",
              "      <th>vote_average</th>\n",
              "      <th>vote_count</th>\n",
              "    </tr>\n",
              "  </thead>\n",
              "  <tbody>\n",
              "    <tr>\n",
              "      <th>count</th>\n",
              "      <td>4.546000e+04</td>\n",
              "      <td>45203.000000</td>\n",
              "      <td>45460.000000</td>\n",
              "      <td>45460.000000</td>\n",
              "    </tr>\n",
              "    <tr>\n",
              "      <th>mean</th>\n",
              "      <td>1.120935e+07</td>\n",
              "      <td>94.128199</td>\n",
              "      <td>5.618207</td>\n",
              "      <td>109.897338</td>\n",
              "    </tr>\n",
              "    <tr>\n",
              "      <th>std</th>\n",
              "      <td>6.433225e+07</td>\n",
              "      <td>38.407810</td>\n",
              "      <td>1.924216</td>\n",
              "      <td>491.310374</td>\n",
              "    </tr>\n",
              "    <tr>\n",
              "      <th>min</th>\n",
              "      <td>0.000000e+00</td>\n",
              "      <td>0.000000</td>\n",
              "      <td>0.000000</td>\n",
              "      <td>0.000000</td>\n",
              "    </tr>\n",
              "    <tr>\n",
              "      <th>25%</th>\n",
              "      <td>0.000000e+00</td>\n",
              "      <td>85.000000</td>\n",
              "      <td>5.000000</td>\n",
              "      <td>3.000000</td>\n",
              "    </tr>\n",
              "    <tr>\n",
              "      <th>50%</th>\n",
              "      <td>0.000000e+00</td>\n",
              "      <td>95.000000</td>\n",
              "      <td>6.000000</td>\n",
              "      <td>10.000000</td>\n",
              "    </tr>\n",
              "    <tr>\n",
              "      <th>75%</th>\n",
              "      <td>0.000000e+00</td>\n",
              "      <td>107.000000</td>\n",
              "      <td>6.800000</td>\n",
              "      <td>34.000000</td>\n",
              "    </tr>\n",
              "    <tr>\n",
              "      <th>max</th>\n",
              "      <td>2.787965e+09</td>\n",
              "      <td>1256.000000</td>\n",
              "      <td>10.000000</td>\n",
              "      <td>14075.000000</td>\n",
              "    </tr>\n",
              "  </tbody>\n",
              "</table>\n",
              "</div>"
            ],
            "text/plain": [
              "            revenue       runtime  vote_average    vote_count\n",
              "count  4.546000e+04  45203.000000  45460.000000  45460.000000\n",
              "mean   1.120935e+07     94.128199      5.618207    109.897338\n",
              "std    6.433225e+07     38.407810      1.924216    491.310374\n",
              "min    0.000000e+00      0.000000      0.000000      0.000000\n",
              "25%    0.000000e+00     85.000000      5.000000      3.000000\n",
              "50%    0.000000e+00     95.000000      6.000000     10.000000\n",
              "75%    0.000000e+00    107.000000      6.800000     34.000000\n",
              "max    2.787965e+09   1256.000000     10.000000  14075.000000"
            ]
          },
          "execution_count": 3,
          "metadata": {},
          "output_type": "execute_result"
        }
      ],
      "source": [
        "movies_metadata.describe()"
      ]
    },
    {
      "cell_type": "markdown",
      "metadata": {
        "id": "YA0AKrf-K-03"
      },
      "source": [
        "Output dari `movies_metadata.describe()` menunjukkan ringkasan statistik dasar untuk beberapa kolom numerik dalam dataset `movies_metadata`, yaitu `revenue`, `runtime`, `vote_average`, dan `vote_count`.\n",
        "\n",
        "- **Count**: Jumlah data yang tidak kosong untuk setiap kolom.\n",
        "  - `revenue`: 45,460\n",
        "  - `runtime`: 45,203\n",
        "  - `vote_average`: 45,460\n",
        "  - `vote_count`: 45,460\n",
        "- **Mean**: Rata-rata nilai dari setiap kolom.\n",
        "  - `revenue`: 11,209,350\n",
        "  - `runtime`: 94.13 menit\n",
        "  - `vote_average`: 5.62\n",
        "  - `vote_count`: 109.90\n",
        "- **Std (Standar Deviasi)**: Penyebaran nilai dalam setiap kolom, menunjukkan variasi data.\n",
        "  - `revenue`: 64,332,250\n",
        "  - `runtime`: 38.41\n",
        "  - `vote_average`: 1.92\n",
        "  - `vote_count`: 491.31\n",
        "- **Min**: Nilai minimum dalam setiap kolom.\n",
        "  - `revenue`, `runtime`, dan `vote_average` memiliki nilai minimum 0.\n",
        "- **25% (Kuartil Pertama)**: 25% dari data memiliki nilai di bawah ini.\n",
        "  - `runtime`: 85 menit\n",
        "  - `vote_average`: 5.0\n",
        "  - `vote_count`: 3 vote\n",
        "- **50% (Median)**: Nilai tengah dari data.\n",
        "  - `runtime`: 95 menit\n",
        "  - `vote_average`: 6.0\n",
        "  - `vote_count`: 10 vote\n",
        "- **75% (Kuartil Ketiga)**: 75% dari data memiliki nilai di bawah ini.\n",
        "  - `runtime`: 107 menit\n",
        "  - `vote_average`: 6.8\n",
        "  - `vote_count`: 34 vote\n",
        "- **Max**: Nilai maksimum di setiap kolom.\n",
        "  - `revenue`: 2,787,965,000\n",
        "  - `runtime`: 1256 menit\n",
        "  - `vote_average`: 10\n",
        "  - `vote_count`: 14,075 vote\n"
      ]
    },
    {
      "cell_type": "markdown",
      "metadata": {
        "id": "YMMAS68VCZw0"
      },
      "source": [
        "### ratings"
      ]
    },
    {
      "cell_type": "code",
      "execution_count": null,
      "metadata": {
        "id": "2EpfGoNAK-03",
        "outputId": "a750f0c4-3c5c-4ba7-b398-7146c21aef3d"
      },
      "outputs": [
        {
          "data": {
            "text/html": [
              "<div>\n",
              "<style scoped>\n",
              "    .dataframe tbody tr th:only-of-type {\n",
              "        vertical-align: middle;\n",
              "    }\n",
              "\n",
              "    .dataframe tbody tr th {\n",
              "        vertical-align: top;\n",
              "    }\n",
              "\n",
              "    .dataframe thead th {\n",
              "        text-align: right;\n",
              "    }\n",
              "</style>\n",
              "<table border=\"1\" class=\"dataframe\">\n",
              "  <thead>\n",
              "    <tr style=\"text-align: right;\">\n",
              "      <th></th>\n",
              "      <th>userId</th>\n",
              "      <th>movieId</th>\n",
              "      <th>rating</th>\n",
              "      <th>timestamp</th>\n",
              "    </tr>\n",
              "  </thead>\n",
              "  <tbody>\n",
              "    <tr>\n",
              "      <th>0</th>\n",
              "      <td>1</td>\n",
              "      <td>110</td>\n",
              "      <td>1.0</td>\n",
              "      <td>1425941529</td>\n",
              "    </tr>\n",
              "    <tr>\n",
              "      <th>1</th>\n",
              "      <td>1</td>\n",
              "      <td>147</td>\n",
              "      <td>4.5</td>\n",
              "      <td>1425942435</td>\n",
              "    </tr>\n",
              "    <tr>\n",
              "      <th>2</th>\n",
              "      <td>1</td>\n",
              "      <td>858</td>\n",
              "      <td>5.0</td>\n",
              "      <td>1425941523</td>\n",
              "    </tr>\n",
              "    <tr>\n",
              "      <th>3</th>\n",
              "      <td>1</td>\n",
              "      <td>1221</td>\n",
              "      <td>5.0</td>\n",
              "      <td>1425941546</td>\n",
              "    </tr>\n",
              "    <tr>\n",
              "      <th>4</th>\n",
              "      <td>1</td>\n",
              "      <td>1246</td>\n",
              "      <td>5.0</td>\n",
              "      <td>1425941556</td>\n",
              "    </tr>\n",
              "    <tr>\n",
              "      <th>...</th>\n",
              "      <td>...</td>\n",
              "      <td>...</td>\n",
              "      <td>...</td>\n",
              "      <td>...</td>\n",
              "    </tr>\n",
              "    <tr>\n",
              "      <th>26024284</th>\n",
              "      <td>270896</td>\n",
              "      <td>58559</td>\n",
              "      <td>5.0</td>\n",
              "      <td>1257031564</td>\n",
              "    </tr>\n",
              "    <tr>\n",
              "      <th>26024285</th>\n",
              "      <td>270896</td>\n",
              "      <td>60069</td>\n",
              "      <td>5.0</td>\n",
              "      <td>1257032032</td>\n",
              "    </tr>\n",
              "    <tr>\n",
              "      <th>26024286</th>\n",
              "      <td>270896</td>\n",
              "      <td>63082</td>\n",
              "      <td>4.5</td>\n",
              "      <td>1257031764</td>\n",
              "    </tr>\n",
              "    <tr>\n",
              "      <th>26024287</th>\n",
              "      <td>270896</td>\n",
              "      <td>64957</td>\n",
              "      <td>4.5</td>\n",
              "      <td>1257033990</td>\n",
              "    </tr>\n",
              "    <tr>\n",
              "      <th>26024288</th>\n",
              "      <td>270896</td>\n",
              "      <td>71878</td>\n",
              "      <td>2.0</td>\n",
              "      <td>1257031858</td>\n",
              "    </tr>\n",
              "  </tbody>\n",
              "</table>\n",
              "<p>26024289 rows × 4 columns</p>\n",
              "</div>"
            ],
            "text/plain": [
              "          userId  movieId  rating   timestamp\n",
              "0              1      110     1.0  1425941529\n",
              "1              1      147     4.5  1425942435\n",
              "2              1      858     5.0  1425941523\n",
              "3              1     1221     5.0  1425941546\n",
              "4              1     1246     5.0  1425941556\n",
              "...          ...      ...     ...         ...\n",
              "26024284  270896    58559     5.0  1257031564\n",
              "26024285  270896    60069     5.0  1257032032\n",
              "26024286  270896    63082     4.5  1257031764\n",
              "26024287  270896    64957     4.5  1257033990\n",
              "26024288  270896    71878     2.0  1257031858\n",
              "\n",
              "[26024289 rows x 4 columns]"
            ]
          },
          "execution_count": 79,
          "metadata": {},
          "output_type": "execute_result"
        }
      ],
      "source": [
        "ratings"
      ]
    },
    {
      "cell_type": "code",
      "execution_count": null,
      "metadata": {
        "id": "cDwczHucK-03",
        "outputId": "95802360-1978-4849-d145-466aa939be17"
      },
      "outputs": [
        {
          "data": {
            "text/plain": [
              "userId       0\n",
              "movieId      0\n",
              "rating       0\n",
              "timestamp    0\n",
              "dtype: int64"
            ]
          },
          "execution_count": 81,
          "metadata": {},
          "output_type": "execute_result"
        }
      ],
      "source": [
        "# Memeriksa apakah ada missing values di setiap kolom\n",
        "ratings.isnull().sum()\n"
      ]
    },
    {
      "cell_type": "markdown",
      "metadata": {
        "id": "6D3nHjp7K-03"
      },
      "source": [
        "Output diatas menujukkan tidak adanya *missing values* pada `ratings`."
      ]
    },
    {
      "cell_type": "code",
      "execution_count": null,
      "metadata": {
        "colab": {
          "base_uri": "https://localhost:8080/"
        },
        "id": "pSV2akq7Cazi",
        "outputId": "e0d2439e-888d-4191-e81b-fd1e2b55bda1"
      },
      "outputs": [
        {
          "data": {
            "image/png": "[encoded data removed]",
            "text/plain": [
              "<Figure size 800x500 with 1 Axes>"
            ]
          },
          "metadata": {},
          "output_type": "display_data"
        }
      ],
      "source": [
        "import matplotlib.pyplot as plt\n",
        "import seaborn as sns\n",
        "\n",
        "plt.figure(figsize=(8, 5))\n",
        "sns.histplot(ratings['rating'], bins=10, kde=True)\n",
        "plt.title('Distribusi Rating')\n",
        "plt.xlabel('Rating')\n",
        "plt.ylabel('Frekuensi')\n",
        "plt.show()\n"
      ]
    },
    {
      "cell_type": "markdown",
      "metadata": {
        "id": "r0SWa_vxK-04"
      },
      "source": [
        "Gambar di atas menunjukkan distribusi atau sebaran penilaian yang diberikan pengguna untuk berbagai film. Dari grafik ini, kita bisa melihat bahwa kebanyakan rating berada di angka 4 dan 5, yang menunjukkan banyak pengguna memberikan nilai tinggi pada film yang ditonton."
      ]
    },
    {
      "cell_type": "code",
      "execution_count": null,
      "metadata": {
        "id": "Pcpv1FdaK-04",
        "outputId": "2ae1274a-8f67-4cf7-e088-372bf44ebed8"
      },
      "outputs": [
        {
          "data": {
            "image/png": "[encoded data removed]",
            "text/plain": [
              "<Figure size 1000x500 with 1 Axes>"
            ]
          },
          "metadata": {},
          "output_type": "display_data"
        }
      ],
      "source": [
        "# Mengonversi timestamp ke datetime\n",
        "ratings['timestamp'] = pd.to_datetime(ratings['timestamp'], unit='s')\n",
        "\n",
        "# Plot rating berdasarkan tahun\n",
        "ratings['year'] = ratings['timestamp'].dt.year\n",
        "plt.figure(figsize=(10, 5))\n",
        "sns.lineplot(data=ratings, x='year', y='rating', estimator='mean')\n",
        "plt.title('Rating Rata-rata Berdasarkan Tahun')\n",
        "plt.xlabel('Tahun')\n",
        "plt.ylabel('Rating Rata-rata')\n",
        "plt.show()"
      ]
    },
    {
      "cell_type": "markdown",
      "metadata": {
        "id": "7SJ1wloGK-04"
      },
      "source": [
        "Gambar di atas menunjukkan rata-rata penilaian film berdasarkan tahun. Terlihat bahwa rata-rata rating film pada awalnya sangat tinggi, tetapi kemudian mengalami penurunan stabil pada sekitar tahun 2000-an dan tetap relatif konsisten sejak saat itu di sekitar angka 3,5."
      ]
    },
    {
      "cell_type": "code",
      "execution_count": null,
      "metadata": {
        "id": "aMRO3cpPK-04",
        "outputId": "cccdf79d-2f2d-40d7-f396-64325616b298"
      },
      "outputs": [
        {
          "data": {
            "text/html": [
              "<div>\n",
              "<style scoped>\n",
              "    .dataframe tbody tr th:only-of-type {\n",
              "        vertical-align: middle;\n",
              "    }\n",
              "\n",
              "    .dataframe tbody tr th {\n",
              "        vertical-align: top;\n",
              "    }\n",
              "\n",
              "    .dataframe thead th {\n",
              "        text-align: right;\n",
              "    }\n",
              "</style>\n",
              "<table border=\"1\" class=\"dataframe\">\n",
              "  <thead>\n",
              "    <tr style=\"text-align: right;\">\n",
              "      <th></th>\n",
              "      <th>userId</th>\n",
              "      <th>movieId</th>\n",
              "      <th>rating</th>\n",
              "      <th>timestamp</th>\n",
              "    </tr>\n",
              "  </thead>\n",
              "  <tbody>\n",
              "    <tr>\n",
              "      <th>count</th>\n",
              "      <td>2.602429e+07</td>\n",
              "      <td>2.602429e+07</td>\n",
              "      <td>2.602429e+07</td>\n",
              "      <td>2.602429e+07</td>\n",
              "    </tr>\n",
              "    <tr>\n",
              "      <th>mean</th>\n",
              "      <td>1.350371e+05</td>\n",
              "      <td>1.584911e+04</td>\n",
              "      <td>3.528090e+00</td>\n",
              "      <td>1.171258e+09</td>\n",
              "    </tr>\n",
              "    <tr>\n",
              "      <th>std</th>\n",
              "      <td>7.817620e+04</td>\n",
              "      <td>3.108526e+04</td>\n",
              "      <td>1.065443e+00</td>\n",
              "      <td>2.052889e+08</td>\n",
              "    </tr>\n",
              "    <tr>\n",
              "      <th>min</th>\n",
              "      <td>1.000000e+00</td>\n",
              "      <td>1.000000e+00</td>\n",
              "      <td>5.000000e-01</td>\n",
              "      <td>7.896520e+08</td>\n",
              "    </tr>\n",
              "    <tr>\n",
              "      <th>25%</th>\n",
              "      <td>6.716400e+04</td>\n",
              "      <td>1.073000e+03</td>\n",
              "      <td>3.000000e+00</td>\n",
              "      <td>9.907545e+08</td>\n",
              "    </tr>\n",
              "    <tr>\n",
              "      <th>50%</th>\n",
              "      <td>1.351630e+05</td>\n",
              "      <td>2.583000e+03</td>\n",
              "      <td>3.500000e+00</td>\n",
              "      <td>1.151716e+09</td>\n",
              "    </tr>\n",
              "    <tr>\n",
              "      <th>75%</th>\n",
              "      <td>2.026930e+05</td>\n",
              "      <td>6.503000e+03</td>\n",
              "      <td>4.000000e+00</td>\n",
              "      <td>1.357578e+09</td>\n",
              "    </tr>\n",
              "    <tr>\n",
              "      <th>max</th>\n",
              "      <td>2.708960e+05</td>\n",
              "      <td>1.762750e+05</td>\n",
              "      <td>5.000000e+00</td>\n",
              "      <td>1.501830e+09</td>\n",
              "    </tr>\n",
              "  </tbody>\n",
              "</table>\n",
              "</div>"
            ],
            "text/plain": [
              "             userId       movieId        rating     timestamp\n",
              "count  2.602429e+07  2.602429e+07  2.602429e+07  2.602429e+07\n",
              "mean   1.350371e+05  1.584911e+04  3.528090e+00  1.171258e+09\n",
              "std    7.817620e+04  3.108526e+04  1.065443e+00  2.052889e+08\n",
              "min    1.000000e+00  1.000000e+00  5.000000e-01  7.896520e+08\n",
              "25%    6.716400e+04  1.073000e+03  3.000000e+00  9.907545e+08\n",
              "50%    1.351630e+05  2.583000e+03  3.500000e+00  1.151716e+09\n",
              "75%    2.026930e+05  6.503000e+03  4.000000e+00  1.357578e+09\n",
              "max    2.708960e+05  1.762750e+05  5.000000e+00  1.501830e+09"
            ]
          },
          "execution_count": 4,
          "metadata": {},
          "output_type": "execute_result"
        }
      ],
      "source": [
        "ratings.describe()"
      ]
    },
    {
      "cell_type": "markdown",
      "metadata": {
        "id": "ahw8b8EJK-04"
      },
      "source": [
        "Output dari `ratings.describe()` menunjukkan ringkasan statistik dasar untuk beberapa kolom numerik dalam dataset `ratings`, yaitu `userId`, `movieId`, `rating`, dan `timestamp`.\n",
        "\n",
        "- **Count**: Jumlah data yang tidak kosong untuk setiap kolom, yaitu 26,024,290.\n",
        "- **Mean**: Rata-rata nilai dari setiap kolom.\n",
        "  - `userId`: 135,037.1\n",
        "  - `movieId`: 15,849.11\n",
        "  - `rating`: 3.53\n",
        "  - `timestamp`: 1,171,258,000\n",
        "- **Std (Standar Deviasi)**: Penyebaran nilai dalam setiap kolom, menunjukkan variasi data.\n",
        "  - `userId`: 78,176.2\n",
        "  - `movieId`: 31,085.26\n",
        "  - `rating`: 1.07\n",
        "  - `timestamp`: 205,288,900\n",
        "- **Min**: Nilai minimum dalam setiap kolom.\n",
        "  - `userId`: 1\n",
        "  - `movieId`: 1\n",
        "  - `rating`: 0.5\n",
        "  - `timestamp`: 789,652,000\n",
        "- **25% (Kuartil Pertama)**: 25% dari data memiliki nilai di bawah ini.\n",
        "  - `userId`: 67,164\n",
        "  - `movieId`: 1,073\n",
        "  - `rating`: 3.0\n",
        "  - `timestamp`: 990,754,500\n",
        "- **50% (Median)**: Nilai tengah dari data.\n",
        "  - `userId`: 135,163\n",
        "  - `movieId`: 2,583\n",
        "  - `rating`: 3.5\n",
        "  - `timestamp`: 1,151,716,000\n",
        "- **75% (Kuartil Ketiga)**: 75% dari data memiliki nilai di bawah ini.\n",
        "  - `userId`: 202,693\n",
        "  - `movieId`: 6,503\n",
        "  - `rating`: 4.0\n",
        "  - `timestamp`: 1,357,578,000\n",
        "- **Max**: Nilai maksimum di setiap kolom.\n",
        "  - `userId`: 270,896\n",
        "  - `movieId`: 176,275\n",
        "  - `rating`: 5.0\n",
        "  - `timestamp`: 1,501,830,000\n"
      ]
    },
    {
      "cell_type": "markdown",
      "metadata": {
        "id": "leQH9UOrK-04"
      },
      "source": [
        "### ratings_small"
      ]
    },
    {
      "cell_type": "code",
      "execution_count": null,
      "metadata": {
        "id": "NFJbFTnyK-04",
        "outputId": "791e9372-d49a-461c-9ea5-b3ac83d10345"
      },
      "outputs": [
        {
          "data": {
            "text/html": [
              "<div>\n",
              "<style scoped>\n",
              "    .dataframe tbody tr th:only-of-type {\n",
              "        vertical-align: middle;\n",
              "    }\n",
              "\n",
              "    .dataframe tbody tr th {\n",
              "        vertical-align: top;\n",
              "    }\n",
              "\n",
              "    .dataframe thead th {\n",
              "        text-align: right;\n",
              "    }\n",
              "</style>\n",
              "<table border=\"1\" class=\"dataframe\">\n",
              "  <thead>\n",
              "    <tr style=\"text-align: right;\">\n",
              "      <th></th>\n",
              "      <th>userId</th>\n",
              "      <th>movieId</th>\n",
              "      <th>rating</th>\n",
              "      <th>timestamp</th>\n",
              "    </tr>\n",
              "  </thead>\n",
              "  <tbody>\n",
              "    <tr>\n",
              "      <th>0</th>\n",
              "      <td>1</td>\n",
              "      <td>31</td>\n",
              "      <td>2.5</td>\n",
              "      <td>1260759144</td>\n",
              "    </tr>\n",
              "    <tr>\n",
              "      <th>1</th>\n",
              "      <td>1</td>\n",
              "      <td>1029</td>\n",
              "      <td>3.0</td>\n",
              "      <td>1260759179</td>\n",
              "    </tr>\n",
              "    <tr>\n",
              "      <th>2</th>\n",
              "      <td>1</td>\n",
              "      <td>1061</td>\n",
              "      <td>3.0</td>\n",
              "      <td>1260759182</td>\n",
              "    </tr>\n",
              "    <tr>\n",
              "      <th>3</th>\n",
              "      <td>1</td>\n",
              "      <td>1129</td>\n",
              "      <td>2.0</td>\n",
              "      <td>1260759185</td>\n",
              "    </tr>\n",
              "    <tr>\n",
              "      <th>4</th>\n",
              "      <td>1</td>\n",
              "      <td>1172</td>\n",
              "      <td>4.0</td>\n",
              "      <td>1260759205</td>\n",
              "    </tr>\n",
              "    <tr>\n",
              "      <th>...</th>\n",
              "      <td>...</td>\n",
              "      <td>...</td>\n",
              "      <td>...</td>\n",
              "      <td>...</td>\n",
              "    </tr>\n",
              "    <tr>\n",
              "      <th>99999</th>\n",
              "      <td>671</td>\n",
              "      <td>6268</td>\n",
              "      <td>2.5</td>\n",
              "      <td>1065579370</td>\n",
              "    </tr>\n",
              "    <tr>\n",
              "      <th>100000</th>\n",
              "      <td>671</td>\n",
              "      <td>6269</td>\n",
              "      <td>4.0</td>\n",
              "      <td>1065149201</td>\n",
              "    </tr>\n",
              "    <tr>\n",
              "      <th>100001</th>\n",
              "      <td>671</td>\n",
              "      <td>6365</td>\n",
              "      <td>4.0</td>\n",
              "      <td>1070940363</td>\n",
              "    </tr>\n",
              "    <tr>\n",
              "      <th>100002</th>\n",
              "      <td>671</td>\n",
              "      <td>6385</td>\n",
              "      <td>2.5</td>\n",
              "      <td>1070979663</td>\n",
              "    </tr>\n",
              "    <tr>\n",
              "      <th>100003</th>\n",
              "      <td>671</td>\n",
              "      <td>6565</td>\n",
              "      <td>3.5</td>\n",
              "      <td>1074784724</td>\n",
              "    </tr>\n",
              "  </tbody>\n",
              "</table>\n",
              "<p>100004 rows × 4 columns</p>\n",
              "</div>"
            ],
            "text/plain": [
              "        userId  movieId  rating   timestamp\n",
              "0            1       31     2.5  1260759144\n",
              "1            1     1029     3.0  1260759179\n",
              "2            1     1061     3.0  1260759182\n",
              "3            1     1129     2.0  1260759185\n",
              "4            1     1172     4.0  1260759205\n",
              "...        ...      ...     ...         ...\n",
              "99999      671     6268     2.5  1065579370\n",
              "100000     671     6269     4.0  1065149201\n",
              "100001     671     6365     4.0  1070940363\n",
              "100002     671     6385     2.5  1070979663\n",
              "100003     671     6565     3.5  1074784724\n",
              "\n",
              "[100004 rows x 4 columns]"
            ]
          },
          "execution_count": 88,
          "metadata": {},
          "output_type": "execute_result"
        }
      ],
      "source": [
        "ratings_small"
      ]
    },
    {
      "cell_type": "code",
      "execution_count": null,
      "metadata": {
        "id": "u3RONKzQK-04",
        "outputId": "91ccba57-d3d1-4bc1-9d2c-a8518c9b0aaa"
      },
      "outputs": [
        {
          "data": {
            "text/plain": [
              "userId       0\n",
              "movieId      0\n",
              "rating       0\n",
              "timestamp    0\n",
              "dtype: int64"
            ]
          },
          "execution_count": 89,
          "metadata": {},
          "output_type": "execute_result"
        }
      ],
      "source": [
        "# Memeriksa apakah ada missing values di setiap kolom\n",
        "ratings_small.isnull().sum()\n"
      ]
    },
    {
      "cell_type": "markdown",
      "metadata": {
        "id": "cgUPgpA8K-05"
      },
      "source": [
        "Output diatas menujukkan tidak adanya *missing values* pada `ratings_small`."
      ]
    },
    {
      "cell_type": "code",
      "execution_count": null,
      "metadata": {
        "id": "wcYTT_X1K-05",
        "outputId": "897bb3e9-0886-4c67-c2ff-31794d8e5f15"
      },
      "outputs": [
        {
          "data": {
            "image/png": "[encoded data removed]",
            "text/plain": [
              "<Figure size 800x500 with 1 Axes>"
            ]
          },
          "metadata": {},
          "output_type": "display_data"
        }
      ],
      "source": [
        "plt.figure(figsize=(8, 5))\n",
        "sns.histplot(ratings_small['rating'], bins=10, kde=True)\n",
        "plt.title('Distribusi Rating')\n",
        "plt.xlabel('Rating')\n",
        "plt.ylabel('Frekuensi')\n",
        "plt.show()\n"
      ]
    },
    {
      "cell_type": "markdown",
      "metadata": {
        "id": "AWjqHEFYK-05"
      },
      "source": [
        "Gambar di atas menunjukkan distribusi rating yang diberikan pengguna terhadap film. Kebanyakan film mendapatkan rating antara 3 hingga 4, dengan sedikit film yang mendapat rating sangat rendah (1) atau sangat tinggi (5)."
      ]
    },
    {
      "cell_type": "code",
      "execution_count": null,
      "metadata": {
        "id": "gd1g9ICSK-05",
        "outputId": "8e3864a5-e758-4e8a-ab14-50e41a47c089"
      },
      "outputs": [
        {
          "data": {
            "image/png": "[encoded data removed]",
            "text/plain": [
              "<Figure size 1000x500 with 1 Axes>"
            ]
          },
          "metadata": {},
          "output_type": "display_data"
        }
      ],
      "source": [
        "# Mengonversi timestamp ke datetime\n",
        "ratings_small['timestamp'] = pd.to_datetime(ratings_small['timestamp'], unit='s')\n",
        "\n",
        "# Plot rating berdasarkan tahun\n",
        "ratings_small['year'] = ratings_small['timestamp'].dt.year\n",
        "plt.figure(figsize=(10, 5))\n",
        "sns.lineplot(data=ratings_small, x='year', y='rating', estimator='mean')\n",
        "plt.title('Rating Rata-rata Berdasarkan Tahun')\n",
        "plt.xlabel('Tahun')\n",
        "plt.ylabel('Rating Rata-rata')\n",
        "plt.show()"
      ]
    },
    {
      "cell_type": "markdown",
      "metadata": {
        "id": "42duduINK-05"
      },
      "source": [
        "Gambar di atas menunjukkan perubahan rata-rata rating film dari tahun ke tahun, dengan tren yang cenderung stabil pada nilai sekitar 3,5 sejak tahun 2000."
      ]
    },
    {
      "cell_type": "code",
      "execution_count": null,
      "metadata": {
        "id": "k7oaPYcmK-05",
        "outputId": "133ce157-fbbb-4e48-c194-0f7a66e91ec9"
      },
      "outputs": [
        {
          "data": {
            "text/html": [
              "<div>\n",
              "<style scoped>\n",
              "    .dataframe tbody tr th:only-of-type {\n",
              "        vertical-align: middle;\n",
              "    }\n",
              "\n",
              "    .dataframe tbody tr th {\n",
              "        vertical-align: top;\n",
              "    }\n",
              "\n",
              "    .dataframe thead th {\n",
              "        text-align: right;\n",
              "    }\n",
              "</style>\n",
              "<table border=\"1\" class=\"dataframe\">\n",
              "  <thead>\n",
              "    <tr style=\"text-align: right;\">\n",
              "      <th></th>\n",
              "      <th>userId</th>\n",
              "      <th>movieId</th>\n",
              "      <th>rating</th>\n",
              "      <th>timestamp</th>\n",
              "    </tr>\n",
              "  </thead>\n",
              "  <tbody>\n",
              "    <tr>\n",
              "      <th>count</th>\n",
              "      <td>100004.000000</td>\n",
              "      <td>100004.000000</td>\n",
              "      <td>100004.000000</td>\n",
              "      <td>1.000040e+05</td>\n",
              "    </tr>\n",
              "    <tr>\n",
              "      <th>mean</th>\n",
              "      <td>347.011310</td>\n",
              "      <td>12548.664363</td>\n",
              "      <td>3.543608</td>\n",
              "      <td>1.129639e+09</td>\n",
              "    </tr>\n",
              "    <tr>\n",
              "      <th>std</th>\n",
              "      <td>195.163838</td>\n",
              "      <td>26369.198969</td>\n",
              "      <td>1.058064</td>\n",
              "      <td>1.916858e+08</td>\n",
              "    </tr>\n",
              "    <tr>\n",
              "      <th>min</th>\n",
              "      <td>1.000000</td>\n",
              "      <td>1.000000</td>\n",
              "      <td>0.500000</td>\n",
              "      <td>7.896520e+08</td>\n",
              "    </tr>\n",
              "    <tr>\n",
              "      <th>25%</th>\n",
              "      <td>182.000000</td>\n",
              "      <td>1028.000000</td>\n",
              "      <td>3.000000</td>\n",
              "      <td>9.658478e+08</td>\n",
              "    </tr>\n",
              "    <tr>\n",
              "      <th>50%</th>\n",
              "      <td>367.000000</td>\n",
              "      <td>2406.500000</td>\n",
              "      <td>4.000000</td>\n",
              "      <td>1.110422e+09</td>\n",
              "    </tr>\n",
              "    <tr>\n",
              "      <th>75%</th>\n",
              "      <td>520.000000</td>\n",
              "      <td>5418.000000</td>\n",
              "      <td>4.000000</td>\n",
              "      <td>1.296192e+09</td>\n",
              "    </tr>\n",
              "    <tr>\n",
              "      <th>max</th>\n",
              "      <td>671.000000</td>\n",
              "      <td>163949.000000</td>\n",
              "      <td>5.000000</td>\n",
              "      <td>1.476641e+09</td>\n",
              "    </tr>\n",
              "  </tbody>\n",
              "</table>\n",
              "</div>"
            ],
            "text/plain": [
              "              userId        movieId         rating     timestamp\n",
              "count  100004.000000  100004.000000  100004.000000  1.000040e+05\n",
              "mean      347.011310   12548.664363       3.543608  1.129639e+09\n",
              "std       195.163838   26369.198969       1.058064  1.916858e+08\n",
              "min         1.000000       1.000000       0.500000  7.896520e+08\n",
              "25%       182.000000    1028.000000       3.000000  9.658478e+08\n",
              "50%       367.000000    2406.500000       4.000000  1.110422e+09\n",
              "75%       520.000000    5418.000000       4.000000  1.296192e+09\n",
              "max       671.000000  163949.000000       5.000000  1.476641e+09"
            ]
          },
          "execution_count": 5,
          "metadata": {},
          "output_type": "execute_result"
        }
      ],
      "source": [
        "ratings_small.describe()"
      ]
    },
    {
      "cell_type": "markdown",
      "metadata": {
        "id": "o0JtjKlnK-05"
      },
      "source": [
        "Output dari `ratings_small.describe()` menunjukkan ringkasan statistik dasar untuk beberapa kolom numerik dalam dataset `ratings_small`, yaitu `userId`, `movieId`, `rating`, dan `timestamp`.\n",
        "\n",
        "- **Count**: Jumlah data yang tidak kosong untuk setiap kolom, yaitu 100,004.\n",
        "- **Mean**: Rata-rata nilai dari setiap kolom.\n",
        "  - `userId`: 347.01\n",
        "  - `movieId`: 12,548.66\n",
        "  - `rating`: 3.54\n",
        "  - `timestamp`: 1,129,639,000\n",
        "- **Std (Standar Deviasi)**: Penyebaran nilai dalam setiap kolom, menunjukkan variasi data.\n",
        "  - `userId`: 195.16\n",
        "  - `movieId`: 26,369.20\n",
        "  - `rating`: 1.06\n",
        "  - `timestamp`: 191,685,800\n",
        "- **Min**: Nilai minimum dalam setiap kolom.\n",
        "  - `userId`: 1\n",
        "  - `movieId`: 1\n",
        "  - `rating`: 0.5\n",
        "  - `timestamp`: 789,652,000\n",
        "- **25% (Kuartil Pertama)**: 25% dari data memiliki nilai di bawah ini.\n",
        "  - `userId`: 182\n",
        "  - `movieId`: 1,028\n",
        "  - `rating`: 3.0\n",
        "  - `timestamp`: 965,487,800\n",
        "- **50% (Median)**: Nilai tengah dari data.\n",
        "  - `userId`: 367\n",
        "  - `movieId`: 2,406.5\n",
        "  - `rating`: 4.0\n",
        "  - `timestamp`: 1,110,422,000\n",
        "- **75% (Kuartil Ketiga)**: 75% dari data memiliki nilai di bawah ini.\n",
        "  - `userId`: 520\n",
        "  - `movieId`: 5,418\n",
        "  - `rating`: 4.0\n",
        "  - `timestamp`: 1,296,192,000\n",
        "- **Max**: Nilai maksimum di setiap kolom.\n",
        "  - `userId`: 671\n",
        "  - `movieId`: 163,949\n",
        "  - `rating`: 5.0\n",
        "  - `timestamp`: 1,476,641,000"
      ]
    },
    {
      "cell_type": "markdown",
      "metadata": {
        "id": "IQ1N1Pt8LWqQ"
      },
      "source": [
        "# Data Preperation"
      ]
    },
    {
      "cell_type": "markdown",
      "source": [
        "Pada tahap ini dilakukan persiapan data sebelum dilanjutkan ke modeling, yaitu *Data Preprocessing*. Tahap tersebut dilakukan dengan tujuan untuk mempersiapkan data dengan diolah sedemikian rupa untuk dapat dimasukkan ke proses berikutnya. *Data Preprocessing* dilakukan dua bagian untuk dua teknik sistem rekomendasi, untuk CBF dilakukan perubahan tipe data menjadi numerik (`int`), selanjutnya dilakukan ekstraksi pada fitur yang dipilih, setelah di ekstraksi dilakukan penggabungan fitur yang telah diekstraksi menjadi satu fitur. Untuk Collaborative Filtering dilakukan perubahan tipe data dan mengganti nama fiturnya dengan tujuan nantinya akan menggabungkan beberapa fitur dari berkas lain. setelah digabung, dilihat *missing values* jika terdapat maka akan dihapus. Setelah dilakukan pembersihan data pada CBF, berikutnya adalah merubah fitur menjadi representasi numerik dikarenakan dengan representasi numerik ini dapat menggunakan metrik kesamaan seperti cosine similarity untuk menghitung seberapa mirip suatu film dengan film lain berdasarkan `content_features`-nya. Misalnya, dua film dengan genre dan pemeran yang mirip akan memiliki vektor yang relatif serupa, sehingga *similarity* *score*-nya akan tinggi."
      ],
      "metadata": {
        "id": "5V4SvZA9bMBV"
      }
    },
    {
      "cell_type": "markdown",
      "metadata": {
        "id": "cSYB39SsK-06"
      },
      "source": [
        "## CBF Data Preprocessing"
      ]
    },
    {
      "cell_type": "markdown",
      "metadata": {
        "id": "-hDeGShkWZDD"
      },
      "source": [
        "### movies_metadata"
      ]
    },
    {
      "cell_type": "markdown",
      "metadata": {
        "id": "PuDrJSKCK-06"
      },
      "source": [
        "Memanggil dataset"
      ]
    },
    {
      "cell_type": "code",
      "execution_count": null,
      "metadata": {
        "colab": {
          "base_uri": "https://localhost:8080/"
        },
        "id": "vrsDp57LQQRw",
        "outputId": "28e4cc1a-819b-45ee-a838-0539468392a7"
      },
      "outputs": [
        {
          "name": "stderr",
          "output_type": "stream",
          "text": [
            "C:\\Users\\farra\\AppData\\Local\\Temp\\ipykernel_26456\\560621482.py:2: DtypeWarning: Columns (10) have mixed types. Specify dtype option on import or set low_memory=False.\n",
            "  movies_metadata = pd.read_csv(\"movie/movies_metadata.csv\") # lokal\n"
          ]
        }
      ],
      "source": [
        "# movies_metadata = pd.read_csv(\"/content/movie/movies_metadata.csv\") # colab\n",
        "movies_metadata = pd.read_csv(\"movie/movies_metadata.csv\") # lokal"
      ]
    },
    {
      "cell_type": "markdown",
      "metadata": {
        "id": "rE1omcJqPVj7"
      },
      "source": [
        "Mengubah tipe data `id` menjadi numerik atau `int`."
      ]
    },
    {
      "cell_type": "code",
      "execution_count": null,
      "metadata": {
        "id": "JH2I_al7bHFm",
        "outputId": "47a9b9af-26f7-4516-f949-8699b0dda74f"
      },
      "outputs": [
        {
          "name": "stdout",
          "output_type": "stream",
          "text": [
            "Int64\n"
          ]
        }
      ],
      "source": [
        "movies_metadata['id'] = pd.to_numeric(movies_metadata['id'], errors='coerce').astype('Int64')\n",
        "print(movies_metadata['id'].dtype)"
      ]
    },
    {
      "cell_type": "markdown",
      "metadata": {
        "id": "5Z3ktww5Piah"
      },
      "source": [
        "Melakukan Ekstraksi Genre"
      ]
    },
    {
      "cell_type": "code",
      "execution_count": null,
      "metadata": {
        "colab": {
          "base_uri": "https://localhost:8080/"
        },
        "id": "kqFQw7YmQqz5",
        "outputId": "21e4244f-26e9-4556-e4cd-f233580b8db5"
      },
      "outputs": [
        {
          "data": {
            "text/html": [
              "<div>\n",
              "<style scoped>\n",
              "    .dataframe tbody tr th:only-of-type {\n",
              "        vertical-align: middle;\n",
              "    }\n",
              "\n",
              "    .dataframe tbody tr th {\n",
              "        vertical-align: top;\n",
              "    }\n",
              "\n",
              "    .dataframe thead th {\n",
              "        text-align: right;\n",
              "    }\n",
              "</style>\n",
              "<table border=\"1\" class=\"dataframe\">\n",
              "  <thead>\n",
              "    <tr style=\"text-align: right;\">\n",
              "      <th></th>\n",
              "      <th>title</th>\n",
              "      <th>genres</th>\n",
              "    </tr>\n",
              "  </thead>\n",
              "  <tbody>\n",
              "    <tr>\n",
              "      <th>0</th>\n",
              "      <td>Toy Story</td>\n",
              "      <td>[Animation, Comedy, Family]</td>\n",
              "    </tr>\n",
              "    <tr>\n",
              "      <th>1</th>\n",
              "      <td>Jumanji</td>\n",
              "      <td>[Adventure, Fantasy, Family]</td>\n",
              "    </tr>\n",
              "    <tr>\n",
              "      <th>2</th>\n",
              "      <td>Grumpier Old Men</td>\n",
              "      <td>[Romance, Comedy]</td>\n",
              "    </tr>\n",
              "    <tr>\n",
              "      <th>3</th>\n",
              "      <td>Waiting to Exhale</td>\n",
              "      <td>[Comedy, Drama, Romance]</td>\n",
              "    </tr>\n",
              "    <tr>\n",
              "      <th>4</th>\n",
              "      <td>Father of the Bride Part II</td>\n",
              "      <td>[Comedy]</td>\n",
              "    </tr>\n",
              "    <tr>\n",
              "      <th>...</th>\n",
              "      <td>...</td>\n",
              "      <td>...</td>\n",
              "    </tr>\n",
              "    <tr>\n",
              "      <th>45461</th>\n",
              "      <td>Subdue</td>\n",
              "      <td>[Drama, Family]</td>\n",
              "    </tr>\n",
              "    <tr>\n",
              "      <th>45462</th>\n",
              "      <td>Century of Birthing</td>\n",
              "      <td>[Drama]</td>\n",
              "    </tr>\n",
              "    <tr>\n",
              "      <th>45463</th>\n",
              "      <td>Betrayal</td>\n",
              "      <td>[Action, Drama, Thriller]</td>\n",
              "    </tr>\n",
              "    <tr>\n",
              "      <th>45464</th>\n",
              "      <td>Satan Triumphant</td>\n",
              "      <td>[]</td>\n",
              "    </tr>\n",
              "    <tr>\n",
              "      <th>45465</th>\n",
              "      <td>Queerama</td>\n",
              "      <td>[]</td>\n",
              "    </tr>\n",
              "  </tbody>\n",
              "</table>\n",
              "<p>45466 rows × 2 columns</p>\n",
              "</div>"
            ],
            "text/plain": [
              "                             title                        genres\n",
              "0                        Toy Story   [Animation, Comedy, Family]\n",
              "1                          Jumanji  [Adventure, Fantasy, Family]\n",
              "2                 Grumpier Old Men             [Romance, Comedy]\n",
              "3                Waiting to Exhale      [Comedy, Drama, Romance]\n",
              "4      Father of the Bride Part II                      [Comedy]\n",
              "...                            ...                           ...\n",
              "45461                       Subdue               [Drama, Family]\n",
              "45462          Century of Birthing                       [Drama]\n",
              "45463                     Betrayal     [Action, Drama, Thriller]\n",
              "45464             Satan Triumphant                            []\n",
              "45465                     Queerama                            []\n",
              "\n",
              "[45466 rows x 2 columns]"
            ]
          },
          "execution_count": 17,
          "metadata": {},
          "output_type": "execute_result"
        }
      ],
      "source": [
        "# Fungsi untuk mengekstrak nama genre\n",
        "def extract_genres(genre_data):\n",
        "    if genre_data == '[]':  # Jika genre_data adalah daftar kosong, kembalikan daftar kosong\n",
        "        return []\n",
        "    try:\n",
        "        genres = ast.literal_eval(genre_data)\n",
        "        return [i['name'] for i in genres if isinstance(i, dict)]\n",
        "    except (ValueError, SyntaxError):  # Jika terjadi error, kembalikan daftar kosong\n",
        "        return []\n",
        "\n",
        "# Terapkan fungsi pada kolom 'genres'\n",
        "movies_metadata['genres'] = movies_metadata['genres'].apply(extract_genres)\n",
        "\n",
        "# Melihat beberapa contoh hasil ekstraksi\n",
        "movies_metadata[['original_title', 'genres']]"
      ]
    },
    {
      "cell_type": "markdown",
      "metadata": {
        "id": "jllV-xmYR1v1"
      },
      "source": [
        "### credits"
      ]
    },
    {
      "cell_type": "markdown",
      "metadata": {
        "id": "oLIAoMqiK-07"
      },
      "source": [
        "Memanggil dataset"
      ]
    },
    {
      "cell_type": "code",
      "execution_count": null,
      "metadata": {
        "id": "dkK29GC-SZy9",
        "outputId": "21078b12-99ee-46cc-8d05-d278d3095c2d"
      },
      "outputs": [
        {
          "data": {
            "text/html": [
              "<div>\n",
              "<style scoped>\n",
              "    .dataframe tbody tr th:only-of-type {\n",
              "        vertical-align: middle;\n",
              "    }\n",
              "\n",
              "    .dataframe tbody tr th {\n",
              "        vertical-align: top;\n",
              "    }\n",
              "\n",
              "    .dataframe thead th {\n",
              "        text-align: right;\n",
              "    }\n",
              "</style>\n",
              "<table border=\"1\" class=\"dataframe\">\n",
              "  <thead>\n",
              "    <tr style=\"text-align: right;\">\n",
              "      <th></th>\n",
              "      <th>cast</th>\n",
              "      <th>crew</th>\n",
              "      <th>id</th>\n",
              "    </tr>\n",
              "  </thead>\n",
              "  <tbody>\n",
              "    <tr>\n",
              "      <th>0</th>\n",
              "      <td>[{'cast_id': 14, 'character': 'Woody (voice)',...</td>\n",
              "      <td>[{'credit_id': '52fe4284c3a36847f8024f49', 'de...</td>\n",
              "      <td>862</td>\n",
              "    </tr>\n",
              "    <tr>\n",
              "      <th>1</th>\n",
              "      <td>[{'cast_id': 1, 'character': 'Alan Parrish', '...</td>\n",
              "      <td>[{'credit_id': '52fe44bfc3a36847f80a7cd1', 'de...</td>\n",
              "      <td>8844</td>\n",
              "    </tr>\n",
              "    <tr>\n",
              "      <th>2</th>\n",
              "      <td>[{'cast_id': 2, 'character': 'Max Goldman', 'c...</td>\n",
              "      <td>[{'credit_id': '52fe466a9251416c75077a89', 'de...</td>\n",
              "      <td>15602</td>\n",
              "    </tr>\n",
              "    <tr>\n",
              "      <th>3</th>\n",
              "      <td>[{'cast_id': 1, 'character': \"Savannah 'Vannah...</td>\n",
              "      <td>[{'credit_id': '52fe44779251416c91011acb', 'de...</td>\n",
              "      <td>31357</td>\n",
              "    </tr>\n",
              "    <tr>\n",
              "      <th>4</th>\n",
              "      <td>[{'cast_id': 1, 'character': 'George Banks', '...</td>\n",
              "      <td>[{'credit_id': '52fe44959251416c75039ed7', 'de...</td>\n",
              "      <td>11862</td>\n",
              "    </tr>\n",
              "    <tr>\n",
              "      <th>...</th>\n",
              "      <td>...</td>\n",
              "      <td>...</td>\n",
              "      <td>...</td>\n",
              "    </tr>\n",
              "    <tr>\n",
              "      <th>45471</th>\n",
              "      <td>[{'cast_id': 0, 'character': '', 'credit_id': ...</td>\n",
              "      <td>[{'credit_id': '5894a97d925141426c00818c', 'de...</td>\n",
              "      <td>439050</td>\n",
              "    </tr>\n",
              "    <tr>\n",
              "      <th>45472</th>\n",
              "      <td>[{'cast_id': 1002, 'character': 'Sister Angela...</td>\n",
              "      <td>[{'credit_id': '52fe4af1c3a36847f81e9b15', 'de...</td>\n",
              "      <td>111109</td>\n",
              "    </tr>\n",
              "    <tr>\n",
              "      <th>45473</th>\n",
              "      <td>[{'cast_id': 6, 'character': 'Emily Shaw', 'cr...</td>\n",
              "      <td>[{'credit_id': '52fe4776c3a368484e0c8387', 'de...</td>\n",
              "      <td>67758</td>\n",
              "    </tr>\n",
              "    <tr>\n",
              "      <th>45474</th>\n",
              "      <td>[{'cast_id': 2, 'character': '', 'credit_id': ...</td>\n",
              "      <td>[{'credit_id': '533bccebc3a36844cf0011a7', 'de...</td>\n",
              "      <td>227506</td>\n",
              "    </tr>\n",
              "    <tr>\n",
              "      <th>45475</th>\n",
              "      <td>[]</td>\n",
              "      <td>[{'credit_id': '593e676c92514105b702e68e', 'de...</td>\n",
              "      <td>461257</td>\n",
              "    </tr>\n",
              "  </tbody>\n",
              "</table>\n",
              "<p>45476 rows × 3 columns</p>\n",
              "</div>"
            ],
            "text/plain": [
              "                                                    cast  \\\n",
              "0      [{'cast_id': 14, 'character': 'Woody (voice)',...   \n",
              "1      [{'cast_id': 1, 'character': 'Alan Parrish', '...   \n",
              "2      [{'cast_id': 2, 'character': 'Max Goldman', 'c...   \n",
              "3      [{'cast_id': 1, 'character': \"Savannah 'Vannah...   \n",
              "4      [{'cast_id': 1, 'character': 'George Banks', '...   \n",
              "...                                                  ...   \n",
              "45471  [{'cast_id': 0, 'character': '', 'credit_id': ...   \n",
              "45472  [{'cast_id': 1002, 'character': 'Sister Angela...   \n",
              "45473  [{'cast_id': 6, 'character': 'Emily Shaw', 'cr...   \n",
              "45474  [{'cast_id': 2, 'character': '', 'credit_id': ...   \n",
              "45475                                                 []   \n",
              "\n",
              "                                                    crew      id  \n",
              "0      [{'credit_id': '52fe4284c3a36847f8024f49', 'de...     862  \n",
              "1      [{'credit_id': '52fe44bfc3a36847f80a7cd1', 'de...    8844  \n",
              "2      [{'credit_id': '52fe466a9251416c75077a89', 'de...   15602  \n",
              "3      [{'credit_id': '52fe44779251416c91011acb', 'de...   31357  \n",
              "4      [{'credit_id': '52fe44959251416c75039ed7', 'de...   11862  \n",
              "...                                                  ...     ...  \n",
              "45471  [{'credit_id': '5894a97d925141426c00818c', 'de...  439050  \n",
              "45472  [{'credit_id': '52fe4af1c3a36847f81e9b15', 'de...  111109  \n",
              "45473  [{'credit_id': '52fe4776c3a368484e0c8387', 'de...   67758  \n",
              "45474  [{'credit_id': '533bccebc3a36844cf0011a7', 'de...  227506  \n",
              "45475  [{'credit_id': '593e676c92514105b702e68e', 'de...  461257  \n",
              "\n",
              "[45476 rows x 3 columns]"
            ]
          },
          "execution_count": 18,
          "metadata": {},
          "output_type": "execute_result"
        }
      ],
      "source": [
        "# credits = pd.read_csv(\"/content/movie/credits.csv\")\n",
        "credits = pd.read_csv(\"movie/credits.csv\")\n",
        "credits"
      ]
    },
    {
      "cell_type": "markdown",
      "metadata": {
        "id": "nJeXh5pYK-07"
      },
      "source": [
        "Mengubah tipe data `id` menjadi numerik atau `int`."
      ]
    },
    {
      "cell_type": "code",
      "execution_count": null,
      "metadata": {
        "colab": {
          "base_uri": "https://localhost:8080/"
        },
        "id": "eoioPzS4R3bT",
        "outputId": "dd82bd80-00d5-4cf1-dd25-82f593466e0e"
      },
      "outputs": [
        {
          "name": "stdout",
          "output_type": "stream",
          "text": [
            "Int64\n"
          ]
        }
      ],
      "source": [
        "# Konversi kolom 'id' di movies_metadata dan credits menjadi tipe int, lewati error untuk nilai yang tidak bisa dikonversi\n",
        "credits['id'] = credits['id'].astype('Int64')\n",
        "print(credits['id'].dtype)"
      ]
    },
    {
      "cell_type": "markdown",
      "metadata": {
        "id": "wYO_uzvzK-07"
      },
      "source": [
        "ekstraksi pemain utama pada fitur `cast` dengan *key* `name` dan sutradara pada fitur `crew` dengan *key* `director`."
      ]
    },
    {
      "cell_type": "code",
      "execution_count": null,
      "metadata": {
        "colab": {
          "base_uri": "https://localhost:8080/"
        },
        "id": "eDkPCYiSRm7j",
        "outputId": "b020e75c-82cb-4228-e363-6369ae1f21ff"
      },
      "outputs": [
        {
          "data": {
            "text/html": [
              "<div>\n",
              "<style scoped>\n",
              "    .dataframe tbody tr th:only-of-type {\n",
              "        vertical-align: middle;\n",
              "    }\n",
              "\n",
              "    .dataframe tbody tr th {\n",
              "        vertical-align: top;\n",
              "    }\n",
              "\n",
              "    .dataframe thead th {\n",
              "        text-align: right;\n",
              "    }\n",
              "</style>\n",
              "<table border=\"1\" class=\"dataframe\">\n",
              "  <thead>\n",
              "    <tr style=\"text-align: right;\">\n",
              "      <th></th>\n",
              "      <th>id</th>\n",
              "      <th>cast</th>\n",
              "      <th>director</th>\n",
              "    </tr>\n",
              "  </thead>\n",
              "  <tbody>\n",
              "    <tr>\n",
              "      <th>0</th>\n",
              "      <td>862</td>\n",
              "      <td>Tom Hanks</td>\n",
              "      <td>John Lasseter</td>\n",
              "    </tr>\n",
              "    <tr>\n",
              "      <th>1</th>\n",
              "      <td>8844</td>\n",
              "      <td>Robin Williams</td>\n",
              "      <td>Joe Johnston</td>\n",
              "    </tr>\n",
              "    <tr>\n",
              "      <th>2</th>\n",
              "      <td>15602</td>\n",
              "      <td>Walter Matthau</td>\n",
              "      <td>Howard Deutch</td>\n",
              "    </tr>\n",
              "    <tr>\n",
              "      <th>3</th>\n",
              "      <td>31357</td>\n",
              "      <td>Whitney Houston</td>\n",
              "      <td>Forest Whitaker</td>\n",
              "    </tr>\n",
              "    <tr>\n",
              "      <th>4</th>\n",
              "      <td>11862</td>\n",
              "      <td>Steve Martin</td>\n",
              "      <td>Charles Shyer</td>\n",
              "    </tr>\n",
              "    <tr>\n",
              "      <th>...</th>\n",
              "      <td>...</td>\n",
              "      <td>...</td>\n",
              "      <td>...</td>\n",
              "    </tr>\n",
              "    <tr>\n",
              "      <th>45471</th>\n",
              "      <td>439050</td>\n",
              "      <td>Leila Hatami</td>\n",
              "      <td>Hamid Nematollah</td>\n",
              "    </tr>\n",
              "    <tr>\n",
              "      <th>45472</th>\n",
              "      <td>111109</td>\n",
              "      <td>Angel Aquino</td>\n",
              "      <td>Lav Diaz</td>\n",
              "    </tr>\n",
              "    <tr>\n",
              "      <th>45473</th>\n",
              "      <td>67758</td>\n",
              "      <td>Erika Eleniak</td>\n",
              "      <td>Mark L. Lester</td>\n",
              "    </tr>\n",
              "    <tr>\n",
              "      <th>45474</th>\n",
              "      <td>227506</td>\n",
              "      <td>Iwan Mosschuchin</td>\n",
              "      <td>Yakov Protazanov</td>\n",
              "    </tr>\n",
              "    <tr>\n",
              "      <th>45475</th>\n",
              "      <td>461257</td>\n",
              "      <td></td>\n",
              "      <td>Daisy Asquith</td>\n",
              "    </tr>\n",
              "  </tbody>\n",
              "</table>\n",
              "<p>45476 rows × 3 columns</p>\n",
              "</div>"
            ],
            "text/plain": [
              "           id              cast          director\n",
              "0         862         Tom Hanks     John Lasseter\n",
              "1        8844    Robin Williams      Joe Johnston\n",
              "2       15602    Walter Matthau     Howard Deutch\n",
              "3       31357   Whitney Houston   Forest Whitaker\n",
              "4       11862      Steve Martin     Charles Shyer\n",
              "...       ...               ...               ...\n",
              "45471  439050      Leila Hatami  Hamid Nematollah\n",
              "45472  111109      Angel Aquino          Lav Diaz\n",
              "45473   67758     Erika Eleniak    Mark L. Lester\n",
              "45474  227506  Iwan Mosschuchin  Yakov Protazanov\n",
              "45475  461257                       Daisy Asquith\n",
              "\n",
              "[45476 rows x 3 columns]"
            ]
          },
          "execution_count": 20,
          "metadata": {},
          "output_type": "execute_result"
        }
      ],
      "source": [
        "# Fungsi untuk mengambil nama pemeran utama\n",
        "def get_top_cast(cast_data, top_n=1):\n",
        "    try:\n",
        "        cast = ast.literal_eval(cast_data)\n",
        "        top_cast = [member['name'] for member in cast[:top_n] if isinstance(member, dict)]\n",
        "        return ', '.join(top_cast)\n",
        "    except (ValueError, SyntaxError, TypeError):\n",
        "        return ''\n",
        "\n",
        "# Fungsi untuk mengambil nama sutradara\n",
        "def get_director(crew_data):\n",
        "    try:\n",
        "        crew = ast.literal_eval(crew_data)\n",
        "        director = [member['name'] for member in crew if isinstance(member, dict) and member.get('job') == 'Director']\n",
        "        return director[0] if director else ''\n",
        "    except (ValueError, SyntaxError, TypeError):\n",
        "        return ''\n",
        "\n",
        "# Terapkan fungsi pada kolom 'cast' dan 'crew' di credits\n",
        "credits['cast'] = credits['cast'].apply(get_top_cast)\n",
        "credits['director'] = credits['crew'].apply(get_director)\n",
        "\n",
        "credits = credits.drop(columns=['crew'])\n",
        "\n",
        "credits[['id', 'cast', 'director']]"
      ]
    },
    {
      "cell_type": "markdown",
      "metadata": {
        "id": "0AAxgtcPYWpN"
      },
      "source": [
        "### Menggabungkan Data"
      ]
    },
    {
      "cell_type": "markdown",
      "metadata": {
        "id": "9Yj1vr7QK-08"
      },
      "source": [
        "Menggabungkan kolom genres, cast, dan director menjadi satu fitur baru bernama content_features, di mana daftar `genre` dijadikan string, lalu digabung dengan data `cast` dan `director`."
      ]
    },
    {
      "cell_type": "code",
      "execution_count": null,
      "metadata": {
        "colab": {
          "base_uri": "https://localhost:8080/",
          "height": 424
        },
        "id": "dB9WUO4dYude",
        "outputId": "70e1a4f1-6094-48e6-c899-b90544c6e901"
      },
      "outputs": [
        {
          "data": {
            "text/html": [
              "<div>\n",
              "<style scoped>\n",
              "    .dataframe tbody tr th:only-of-type {\n",
              "        vertical-align: middle;\n",
              "    }\n",
              "\n",
              "    .dataframe tbody tr th {\n",
              "        vertical-align: top;\n",
              "    }\n",
              "\n",
              "    .dataframe thead th {\n",
              "        text-align: right;\n",
              "    }\n",
              "</style>\n",
              "<table border=\"1\" class=\"dataframe\">\n",
              "  <thead>\n",
              "    <tr style=\"text-align: right;\">\n",
              "      <th></th>\n",
              "      <th>original_title</th>\n",
              "      <th>content_features</th>\n",
              "    </tr>\n",
              "  </thead>\n",
              "  <tbody>\n",
              "    <tr>\n",
              "      <th>0</th>\n",
              "      <td>Toy Story</td>\n",
              "      <td>Animation Comedy Family Tom Hanks John Lasseter</td>\n",
              "    </tr>\n",
              "    <tr>\n",
              "      <th>1</th>\n",
              "      <td>Jumanji</td>\n",
              "      <td>Adventure Fantasy Family Robin Williams Joe Jo...</td>\n",
              "    </tr>\n",
              "    <tr>\n",
              "      <th>2</th>\n",
              "      <td>Grumpier Old Men</td>\n",
              "      <td>Romance Comedy Walter Matthau Howard Deutch</td>\n",
              "    </tr>\n",
              "    <tr>\n",
              "      <th>3</th>\n",
              "      <td>Waiting to Exhale</td>\n",
              "      <td>Comedy Drama Romance Whitney Houston Forest Wh...</td>\n",
              "    </tr>\n",
              "    <tr>\n",
              "      <th>4</th>\n",
              "      <td>Father of the Bride Part II</td>\n",
              "      <td>Comedy Steve Martin Charles Shyer</td>\n",
              "    </tr>\n",
              "  </tbody>\n",
              "</table>\n",
              "</div>"
            ],
            "text/plain": [
              "                original_title  \\\n",
              "0                    Toy Story   \n",
              "1                      Jumanji   \n",
              "2             Grumpier Old Men   \n",
              "3            Waiting to Exhale   \n",
              "4  Father of the Bride Part II   \n",
              "\n",
              "                                    content_features  \n",
              "0    Animation Comedy Family Tom Hanks John Lasseter  \n",
              "1  Adventure Fantasy Family Robin Williams Joe Jo...  \n",
              "2        Romance Comedy Walter Matthau Howard Deutch  \n",
              "3  Comedy Drama Romance Whitney Houston Forest Wh...  \n",
              "4                  Comedy Steve Martin Charles Shyer  "
            ]
          },
          "execution_count": 27,
          "metadata": {},
          "output_type": "execute_result"
        }
      ],
      "source": [
        "# Menggabungkan kolom 'genres', 'cast', dan 'director' menjadi satu fitur bernama content_features\n",
        "movies_metadata['genres'] = movies_metadata['genres'].apply(lambda x: ' '.join(x))  # Menggabungkan daftar genre menjadi string\n",
        "movies_metadata['content_features'] = movies_metadata['genres'] + ' ' + credits['cast'] + ' ' + credits['director']\n",
        "\n",
        "# Melihat beberapa baris pertama dari fitur 'content_features'\n",
        "movies_metadata[['original_title', 'content_features']].head()"
      ]
    },
    {
      "cell_type": "markdown",
      "metadata": {
        "id": "GBjV8WoTK-08"
      },
      "source": [
        "Output di atas menampilkan fitur baru `content_features` yang sudah digabung berisi `genre`, `cast` (pemain utama), dan `director`"
      ]
    },
    {
      "cell_type": "markdown",
      "metadata": {
        "id": "m0bLUO4KK-08"
      },
      "source": [
        "## Collaborative Filtering Data Preprocessing"
      ]
    },
    {
      "cell_type": "markdown",
      "metadata": {
        "id": "-jMiqTTgK-08"
      },
      "source": [
        "merubah tipe data `movieId` menjadi numerik atau `int`."
      ]
    },
    {
      "cell_type": "code",
      "execution_count": null,
      "metadata": {
        "id": "EabCGkU5K-08",
        "outputId": "af05e157-dd10-41f6-ea6d-9235cac6009a"
      },
      "outputs": [
        {
          "data": {
            "text/html": [
              "<div>\n",
              "<style scoped>\n",
              "    .dataframe tbody tr th:only-of-type {\n",
              "        vertical-align: middle;\n",
              "    }\n",
              "\n",
              "    .dataframe tbody tr th {\n",
              "        vertical-align: top;\n",
              "    }\n",
              "\n",
              "    .dataframe thead th {\n",
              "        text-align: right;\n",
              "    }\n",
              "</style>\n",
              "<table border=\"1\" class=\"dataframe\">\n",
              "  <thead>\n",
              "    <tr style=\"text-align: right;\">\n",
              "      <th></th>\n",
              "      <th>userId</th>\n",
              "      <th>movieId</th>\n",
              "      <th>rating</th>\n",
              "      <th>timestamp</th>\n",
              "    </tr>\n",
              "  </thead>\n",
              "  <tbody>\n",
              "    <tr>\n",
              "      <th>0</th>\n",
              "      <td>1</td>\n",
              "      <td>31</td>\n",
              "      <td>2.5</td>\n",
              "      <td>1260759144</td>\n",
              "    </tr>\n",
              "    <tr>\n",
              "      <th>1</th>\n",
              "      <td>1</td>\n",
              "      <td>1029</td>\n",
              "      <td>3.0</td>\n",
              "      <td>1260759179</td>\n",
              "    </tr>\n",
              "    <tr>\n",
              "      <th>2</th>\n",
              "      <td>1</td>\n",
              "      <td>1061</td>\n",
              "      <td>3.0</td>\n",
              "      <td>1260759182</td>\n",
              "    </tr>\n",
              "    <tr>\n",
              "      <th>3</th>\n",
              "      <td>1</td>\n",
              "      <td>1129</td>\n",
              "      <td>2.0</td>\n",
              "      <td>1260759185</td>\n",
              "    </tr>\n",
              "    <tr>\n",
              "      <th>4</th>\n",
              "      <td>1</td>\n",
              "      <td>1172</td>\n",
              "      <td>4.0</td>\n",
              "      <td>1260759205</td>\n",
              "    </tr>\n",
              "  </tbody>\n",
              "</table>\n",
              "</div>"
            ],
            "text/plain": [
              "   userId  movieId  rating   timestamp\n",
              "0       1       31     2.5  1260759144\n",
              "1       1     1029     3.0  1260759179\n",
              "2       1     1061     3.0  1260759182\n",
              "3       1     1129     2.0  1260759185\n",
              "4       1     1172     4.0  1260759205"
            ]
          },
          "execution_count": 14,
          "metadata": {},
          "output_type": "execute_result"
        }
      ],
      "source": [
        "# Memuat data\n",
        "ratings_data = pd.read_csv('movie/ratings_small.csv')\n",
        "\n",
        "# Konversi 'movieId' di ratings_data ke Int64\n",
        "ratings_data['movieId'] = pd.to_numeric(ratings_data['movieId'], errors='coerce').astype('Int64')\n",
        "\n",
        "# Menampilkan beberapa baris pertama untuk memastikan data\n",
        "ratings_data.head()"
      ]
    },
    {
      "cell_type": "markdown",
      "metadata": {
        "id": "cogyPDjeK-08"
      },
      "source": [
        "Melakukan perubahan nama fitur `id` menjadi `movieId` pada berkas `movies_metadata`, kemudian memilih fitur yang akan digabung ke berkas `ratings` dengan mencocokkan fitur `movidId`."
      ]
    },
    {
      "cell_type": "code",
      "execution_count": null,
      "metadata": {
        "id": "tpGvz8MMK-08",
        "outputId": "ad191a27-9d82-4872-97ac-9c98bca4bf1b"
      },
      "outputs": [
        {
          "name": "stdout",
          "output_type": "stream",
          "text": [
            "   userId movieId  rating   timestamp original_title genres\n",
            "0       1      31     2.5  1260759144            NaN    NaN\n",
            "1       1    1029     3.0  1260759179            NaN    NaN\n",
            "2       1    1061     3.0  1260759182            NaN    NaN\n",
            "3       1    1129     2.0  1260759185            NaN    NaN\n",
            "4       1    1172     4.0  1260759205            NaN    NaN\n"
          ]
        }
      ],
      "source": [
        "# Mengganti nama kolom 'id' di movies_metadata menjadi 'movieId' untuk pencocokan\n",
        "movies_metadata = movies_metadata.rename(columns={'id': 'movieId'})\n",
        "\n",
        "# Pilih fitur (movieId, original_title, genres) dari movies_metadata\n",
        "movies_metadata = movies_metadata[['movieId', 'original_title', 'genres']]\n",
        "\n",
        "# Gabungkan nama film ke dalam ratings_data berdasarkan movieId\n",
        "ratings_data = ratings_data.merge(movies_metadata, on='movieId', how='left')\n",
        "\n",
        "print(ratings_data.head())"
      ]
    },
    {
      "cell_type": "markdown",
      "metadata": {
        "id": "ST7LhOXGK-08"
      },
      "source": [
        "Melihat dataframe di atas terdapat *value* `NaN`, dilakukan pengecekan *missing values*."
      ]
    },
    {
      "cell_type": "code",
      "execution_count": null,
      "metadata": {
        "id": "FWc8H5BrK-09",
        "outputId": "a80647c4-25fb-44b3-ac78-223b6ed87ff2"
      },
      "outputs": [
        {
          "data": {
            "text/plain": [
              "userId                0\n",
              "movieId               0\n",
              "rating                0\n",
              "timestamp             0\n",
              "original_title    55015\n",
              "genres            55015\n",
              "dtype: int64"
            ]
          },
          "execution_count": 18,
          "metadata": {},
          "output_type": "execute_result"
        }
      ],
      "source": [
        "ratings_data.isnull().sum()"
      ]
    },
    {
      "cell_type": "markdown",
      "metadata": {
        "id": "Xx8DstvuK-09"
      },
      "source": [
        "Output di atas menunjukkan terdapat *missing values* pada fitur `original_title` dan `genres` sebanyak 55015 data, maka dari itu dilakukan penghapusan data yang tidak memiliki *value*."
      ]
    },
    {
      "cell_type": "code",
      "execution_count": null,
      "metadata": {
        "id": "iz8kwntHK-09",
        "outputId": "25752929-41c1-42c3-85f7-5716cdf42e3a"
      },
      "outputs": [
        {
          "data": {
            "text/plain": [
              "userId            0\n",
              "movieId           0\n",
              "rating            0\n",
              "timestamp         0\n",
              "original_title    0\n",
              "genres            0\n",
              "dtype: int64"
            ]
          },
          "execution_count": 19,
          "metadata": {},
          "output_type": "execute_result"
        }
      ],
      "source": [
        "# Menghapus baris yang memiliki missing values\n",
        "ratings_data = ratings_data.dropna()\n",
        "\n",
        "# Mengecek kembali apakah masih ada missing values\n",
        "ratings_data.isnull().sum()"
      ]
    },
    {
      "cell_type": "code",
      "execution_count": null,
      "metadata": {
        "id": "-E84DSjJK-0_",
        "outputId": "b63315a6-2f4f-446e-e3aa-98ec5dc5deb6"
      },
      "outputs": [
        {
          "data": {
            "text/html": [
              "<div>\n",
              "<style scoped>\n",
              "    .dataframe tbody tr th:only-of-type {\n",
              "        vertical-align: middle;\n",
              "    }\n",
              "\n",
              "    .dataframe tbody tr th {\n",
              "        vertical-align: top;\n",
              "    }\n",
              "\n",
              "    .dataframe thead th {\n",
              "        text-align: right;\n",
              "    }\n",
              "</style>\n",
              "<table border=\"1\" class=\"dataframe\">\n",
              "  <thead>\n",
              "    <tr style=\"text-align: right;\">\n",
              "      <th></th>\n",
              "      <th>userId</th>\n",
              "      <th>movieId</th>\n",
              "      <th>rating</th>\n",
              "      <th>timestamp</th>\n",
              "    </tr>\n",
              "  </thead>\n",
              "  <tbody>\n",
              "    <tr>\n",
              "      <th>0</th>\n",
              "      <td>1</td>\n",
              "      <td>31</td>\n",
              "      <td>2.5</td>\n",
              "      <td>1260759144</td>\n",
              "    </tr>\n",
              "    <tr>\n",
              "      <th>1</th>\n",
              "      <td>1</td>\n",
              "      <td>1029</td>\n",
              "      <td>3.0</td>\n",
              "      <td>1260759179</td>\n",
              "    </tr>\n",
              "    <tr>\n",
              "      <th>2</th>\n",
              "      <td>1</td>\n",
              "      <td>1061</td>\n",
              "      <td>3.0</td>\n",
              "      <td>1260759182</td>\n",
              "    </tr>\n",
              "    <tr>\n",
              "      <th>3</th>\n",
              "      <td>1</td>\n",
              "      <td>1129</td>\n",
              "      <td>2.0</td>\n",
              "      <td>1260759185</td>\n",
              "    </tr>\n",
              "    <tr>\n",
              "      <th>4</th>\n",
              "      <td>1</td>\n",
              "      <td>1172</td>\n",
              "      <td>4.0</td>\n",
              "      <td>1260759205</td>\n",
              "    </tr>\n",
              "  </tbody>\n",
              "</table>\n",
              "</div>"
            ],
            "text/plain": [
              "   userId  movieId  rating   timestamp\n",
              "0       1       31     2.5  1260759144\n",
              "1       1     1029     3.0  1260759179\n",
              "2       1     1061     3.0  1260759182\n",
              "3       1     1129     2.0  1260759185\n",
              "4       1     1172     4.0  1260759205"
            ]
          },
          "execution_count": 95,
          "metadata": {},
          "output_type": "execute_result"
        }
      ],
      "source": [
        "# Memuat data\n",
        "ratings_data = pd.read_csv('movie/ratings_small.csv')\n",
        "\n",
        "# Menampilkan beberapa baris pertama untuk memastikan data\n",
        "ratings_data.head()"
      ]
    },
    {
      "cell_type": "markdown",
      "source": [
        "Melakukan penghapusan fitur `timestamp`"
      ],
      "metadata": {
        "id": "5QIXg3jSMPTT"
      }
    },
    {
      "cell_type": "code",
      "source": [
        "# Menghapus kolom timestamp\n",
        "ratings_data = ratings_data.drop(columns=['timestamp'])"
      ],
      "metadata": {
        "id": "r0sHeUo2MO1w"
      },
      "execution_count": null,
      "outputs": []
    },
    {
      "cell_type": "markdown",
      "source": [
        "data `ratings_data` diolah untuk mempersiapkan model rekomendasi. Langkah pertama adalah membuat daftar *unique* untuk `userId` dan `movieId` serta melakukan *encoding* agar setiap pengguna dan film memiliki representasi angka. Selain itu, rating diubah menjadi tipe data `float`."
      ],
      "metadata": {
        "id": "VI-NRC4hMBmw"
      }
    },
    {
      "cell_type": "code",
      "execution_count": null,
      "metadata": {
        "id": "AnN7vhjMK-0_",
        "outputId": "643a6fe9-9a5e-4e33-93e2-09122cc84d88"
      },
      "outputs": [
        {
          "name": "stdout",
          "output_type": "stream",
          "text": [
            "Number of Users: 671, Number of Movies: 2830, Min Rating: 0.5, Max Rating: 5.0\n"
          ]
        }
      ],
      "source": [
        "# Mengubah `userId` dan `movieId` menjadi list tanpa nilai yang sama\n",
        "user_ids = ratings_data['userId'].unique().tolist()\n",
        "movie_ids = ratings_data['movieId'].unique().tolist()\n",
        "\n",
        "# Melakukan encoding `userId` dan `movieId`\n",
        "user_to_user_encoded = {x: i for i, x in enumerate(user_ids)}\n",
        "movie_to_movie_encoded = {x: i for i, x in enumerate(movie_ids)}\n",
        "\n",
        "# Mapping angka kembali ke `userId` dan `movieId`\n",
        "user_encoded_to_user = {i: x for i, x in enumerate(user_ids)}\n",
        "movie_encoded_to_movie = {i: x for i, x in enumerate(movie_ids)}\n",
        "\n",
        "# Pemetaan `userId` dan `movieId` ke dalam kolom `user` dan `movie`\n",
        "ratings_data['user'] = ratings_data['userId'].map(user_to_user_encoded)\n",
        "ratings_data['movie'] = ratings_data['movieId'].map(movie_to_movie_encoded)\n",
        "\n",
        "# Mengubah `rating` menjadi float\n",
        "ratings_data['rating'] = ratings_data['rating'].astype(np.float32)\n",
        "\n",
        "# Mendapatkan informasi dasar\n",
        "num_users = len(user_to_user_encoded)\n",
        "num_movies = len(movie_to_movie_encoded)\n",
        "min_rating = ratings_data['rating'].min()\n",
        "max_rating = ratings_data['rating'].max()\n",
        "\n",
        "print(f\"Number of Users: {num_users}, Number of Movies: {num_movies}, Min Rating: {min_rating}, Max Rating: {max_rating}\")\n",
        "\n",
        "# Shuffle data\n",
        "ratings_data = ratings_data.sample(frac=1, random_state=42)\n",
        "\n",
        "# Normalisasi `rating` menjadi rentang 0 hingga 1\n",
        "ratings_data['rating_normalized'] = ratings_data['rating'].apply(lambda x: (x - min_rating) / (max_rating - min_rating))\n",
        "\n",
        "# Split Data menjadi Training dan Validation (80:20)\n",
        "x = ratings_data[['user', 'movie']].values\n",
        "y = ratings_data['rating_normalized'].values\n",
        "\n",
        "train_indices = int(0.8 * ratings_data.shape[0])\n",
        "x_train, x_val = x[:train_indices], x[train_indices:]\n",
        "y_train, y_val = y[:train_indices], y[train_indices:]"
      ]
    },
    {
      "cell_type": "markdown",
      "source": [
        "*Script* di atas data dirapikan dengan mengacak (shuffle) baris-barisnya, menormalkan nilai rating ke rentang 0 hingga 1, dan membagi dataset menjadi set *training* (80%) dan *validation* (20%)."
      ],
      "metadata": {
        "id": "b4fLr3rcMGk1"
      }
    },
    {
      "cell_type": "markdown",
      "metadata": {
        "id": "PGtkdd1YaD4Z"
      },
      "source": [
        "## TF-IDF untuk CBF"
      ]
    },
    {
      "cell_type": "markdown",
      "metadata": {
        "id": "EmOap11wK-09"
      },
      "source": [
        "Dilakukan perubahan data pada `content_features` menjadi representasi vektor dengan transformasi menggunakan TF-IDF."
      ]
    },
    {
      "cell_type": "code",
      "execution_count": null,
      "metadata": {
        "colab": {
          "base_uri": "https://localhost:8080/"
        },
        "id": "H9OSHvmnaC-L",
        "outputId": "ee9da254-78e8-4511-e66c-1c018608ce56"
      },
      "outputs": [
        {
          "name": "stdout",
          "output_type": "stream",
          "text": [
            "Bentuk matriks TF-IDF: (45466, 29142)\n"
          ]
        }
      ],
      "source": [
        "# Inisialisasi TF-IDF Vectorizer\n",
        "tfidf = TfidfVectorizer()\n",
        "\n",
        "# Fit dan transform 'content_features' menjadi matriks fitur TF-IDF\n",
        "tfidf_matrix = tfidf.fit_transform(movies_metadata['content_features'])\n",
        "\n",
        "# Melihat bentuk matriks TF-IDF untuk memastikan\n",
        "print(\"Bentuk matriks TF-IDF:\", tfidf_matrix.shape)"
      ]
    },
    {
      "cell_type": "markdown",
      "metadata": {
        "id": "HBsKpKs9K-09"
      },
      "source": [
        "Output di atas menghasilkan matriks TF-IDF yang berisi nilai numerik untuk setiap fitur teks. Bentuk matriks (berukuran 45466 baris dan 29142 kolom)"
      ]
    },
    {
      "cell_type": "markdown",
      "metadata": {
        "id": "LitxueepaLMd"
      },
      "source": [
        "# Modeling"
      ]
    },
    {
      "cell_type": "markdown",
      "metadata": {
        "id": "y4fZjXj3aM4d"
      },
      "source": [
        "## CBF"
      ]
    },
    {
      "cell_type": "markdown",
      "metadata": {
        "id": "sBmKPBv5K-0-"
      },
      "source": [
        "langkah-langkah telah dilakukan untuk menyiapkan fitur `content_features` dari data film, kemudian mengubahnya menjadi representasi vektor menggunakan TF-IDF. Representasi vektor ini memungkinkan setiap film memiliki bobot fitur yang dapat dibandingkan satu sama lain."
      ]
    },
    {
      "cell_type": "markdown",
      "metadata": {
        "id": "PJubyep6K-0-"
      },
      "source": [
        "Melakukan perhitungan kesamaan antar film dilakukan menggunakan `cosine_similarity` dari *library* SKLearn, yang menghasilkan matriks kesamaan di mana setiap nilai di matriks menggambarkan tingkat kemiripan antara satu film dengan film lain berdasarkan `content_features`-nya."
      ]
    },
    {
      "cell_type": "code",
      "execution_count": null,
      "metadata": {
        "colab": {
          "base_uri": "https://localhost:8080/",
          "height": 211
        },
        "id": "s38-pBjJaG8W",
        "outputId": "2c65fd85-c9dc-4f7c-ad49-4f863e402e5b"
      },
      "outputs": [
        {
          "name": "stdout",
          "output_type": "stream",
          "text": [
            "Bentuk matriks kesamaan: (45466, 45466)\n"
          ]
        }
      ],
      "source": [
        "# Menghitung kesamaan kosinus antar film\n",
        "cosine_sim = cosine_similarity(tfidf_matrix, tfidf_matrix)\n",
        "\n",
        "# Melihat bentuk matriks kesamaan untuk memastikan\n",
        "print(\"Bentuk matriks kesamaan:\", cosine_sim.shape)"
      ]
    },
    {
      "cell_type": "markdown",
      "metadata": {
        "id": "m858WgWuK-0-"
      },
      "source": [
        "matriks kesamaan ini (cosine_sim) dapat digunakan untuk merekomendasikan film yang mirip dengan film tertentu, dengan mencari film yang memiliki skor kesamaan tertinggi terhadap film tersebut di matriks"
      ]
    },
    {
      "cell_type": "markdown",
      "metadata": {
        "id": "f7tzHnznK-0-"
      },
      "source": [
        "### Pengujian"
      ]
    },
    {
      "cell_type": "markdown",
      "metadata": {
        "id": "H8jlwEHtK-0-"
      },
      "source": [
        "fungsi rekomendasi telah didefinisikan untuk mencari dan menampilkan film yang mirip berdasarkan `content_features`. Fungsi ini pertama-tama mencari indeks film yang diberikan sebagai acuan, menghitung skor kesamaan dengan film lain, dan mengurutkan film berdasarkan skor kesamaan tertinggi."
      ]
    },
    {
      "cell_type": "code",
      "execution_count": null,
      "metadata": {
        "id": "73HelmZ3K-0-",
        "outputId": "31eb8876-7a0d-4a1b-826a-684c4e52d7f3"
      },
      "outputs": [
        {
          "name": "stdout",
          "output_type": "stream",
          "text": [
            "Rekomendasi untuk 'Toy Story 3':\n",
            "\n",
            "Title: Larry Crowne\n",
            "Content Features: Comedy Romance Drama Tom Hanks Tom Hanks\n",
            "\n",
            "Title: Toy Story\n",
            "Content Features: Animation Comedy Family Tom Hanks John Lasseter\n",
            "\n",
            "Title: Toy Story 2\n",
            "Content Features: Animation Comedy Family Tom Hanks John Lasseter\n",
            "\n",
            "Title: The Legend of Mor'du\n",
            "Content Features: Animation Family Tom Hanks Steve Purcell\n",
            "\n",
            "Title: The Polar Express\n",
            "Content Features: Adventure Animation Family Fantasy Tom Hanks Robert Zemeckis\n",
            "\n"
          ]
        }
      ],
      "source": [
        "# Fungsi rekomendasi menampilkan judul dan content_features\n",
        "def recommend(original_title, movies_metadata, cosine_sim, top_n=10):\n",
        "    # Mencari indeks film yang cocok dengan judul\n",
        "    idx = movies_metadata[movies_metadata['original_title'] == original_title].index[0]\n",
        "\n",
        "    # Mengambil skor kesamaan untuk film tersebut dan mengurutkannya\n",
        "    sim_scores = list(enumerate(cosine_sim[idx]))\n",
        "    sim_scores = sorted(sim_scores, key=lambda x: x[1], reverse=True)\n",
        "\n",
        "    # Mengambil indeks film yang mirip dengan mengabaikan film itu sendiri (top_n + 1)\n",
        "    sim_scores = sim_scores[1:top_n + 1]\n",
        "\n",
        "    # Mendapatkan daftar indeks film\n",
        "    movie_indices = [i[0] for i in sim_scores]\n",
        "\n",
        "    # Mendapatkan judul film dan fitur konten untuk setiap rekomendasi\n",
        "    recommendations = movies_metadata[['original_title', 'content_features']].iloc[movie_indices]\n",
        "\n",
        "    # Memberikan hasil rekomendasi\n",
        "    print(f\"Rekomendasi untuk '{original_title}':\\n\")\n",
        "    for idx, row in recommendations.iterrows():\n",
        "        print(f\"Title: {row['original_title']}\\nContent Features: {row['content_features']}\\n\")\n",
        "\n",
        "# Contoh penggunaan fungsi rekomendasi\n",
        "recommend('Toy Story 3', movies_metadata, cosine_sim, top_n=5)"
      ]
    },
    {
      "cell_type": "markdown",
      "metadata": {
        "id": "6UusUtMPK-0-"
      },
      "source": [
        "hasil rekomendasi ditampilkan untuk film \"Toy Story 3\", menampilkan lima film yang dianggap paling mirip berdasarkan fitur kontennya."
      ]
    },
    {
      "cell_type": "markdown",
      "metadata": {
        "id": "c0LDiH-bK-0-"
      },
      "source": [
        "## Collaborative"
      ]
    },
    {
      "cell_type": "markdown",
      "metadata": {
        "id": "JHbetFbbK-0_"
      },
      "source": [
        "Melakukan pendefinisian model rekomendasi bernama `RecommenderNet` menggunakan Keras. Model ini memiliki *embedding* layer untuk pengguna (user_embedding dan user_bias) dan film (movie_embedding dan movie_bias), yang memetakan pengguna dan film ke dalam ruang vektor berdimensi tetap, yang akan digunakan untuk menghitung kesamaan."
      ]
    },
    {
      "cell_type": "code",
      "execution_count": null,
      "metadata": {
        "id": "ZhHGxaIAK-0_"
      },
      "outputs": [],
      "source": [
        "class RecommenderNet(tf.keras.Model):\n",
        "    def __init__(self, num_users, num_movies, embedding_size=50, **kwargs):\n",
        "        super(RecommenderNet, self).__init__(**kwargs)\n",
        "        self.num_users = num_users\n",
        "        self.num_movies = num_movies\n",
        "        self.embedding_size = embedding_size\n",
        "\n",
        "        # Embedding layer untuk user\n",
        "        self.user_embedding = layers.Embedding(num_users, embedding_size, embeddings_initializer='he_normal', embeddings_regularizer=tf.keras.regularizers.l2(1e-6))\n",
        "        self.user_bias = layers.Embedding(num_users, 1)\n",
        "\n",
        "        # Embedding layer untuk movie\n",
        "        self.movie_embedding = layers.Embedding(num_movies, embedding_size, embeddings_initializer='he_normal', embeddings_regularizer=tf.keras.regularizers.l2(1e-6))\n",
        "        self.movie_bias = layers.Embedding(num_movies, 1)\n",
        "\n",
        "    def call(self, inputs):\n",
        "        user_vector = self.user_embedding(inputs[:, 0])\n",
        "        user_bias = self.user_bias(inputs[:, 0])\n",
        "        movie_vector = self.movie_embedding(inputs[:, 1])\n",
        "        movie_bias = self.movie_bias(inputs[:, 1])\n",
        "\n",
        "        # Menghitung dot product dan menambahkan bias\n",
        "        dot_user_movie = tf.tensordot(user_vector, movie_vector, 2)\n",
        "        x = dot_user_movie + user_bias + movie_bias\n",
        "\n",
        "        # Menggunakan sigmoid sebagai activation\n",
        "        return tf.nn.sigmoid(x)"
      ]
    },
    {
      "cell_type": "markdown",
      "metadata": {
        "id": "PytRvHhAK-1A"
      },
      "source": [
        "*Script* di atas, model menerima input pengguna dan film, menghasilkan embedding vektor untuk keduanya, dan menghitung hasil dot product antara vektor pengguna dan film serta menambahkan bias masing-masing. Kemudian hasil tersebut melalui fungsi aktivasi *sigmoid*, yang menormalkan output menjadi nilai antara 0 dan 1, merepresentasikan kemungkinan kecocokan antara pengguna dan film"
      ]
    },
    {
      "cell_type": "markdown",
      "metadata": {
        "id": "5_Tm9PCDK-1A"
      },
      "source": [
        "kemudian Meng-*compile* model dengan menggunakan `binary crossentropy` sebagai fungsi *loss*, `Adam` sebagai *optimizer* dengan `learning rate` sebesar 0.001, serta menggunakan *Root Mean Squared Error* (RMSE) sebagai metrik evaluasi. Dan Melatih model (model.fit) menggunakan data pelatihan (x_train, y_train) selama 15 epoch, dengan batch size 8, dan memvalidasi performa model pada data validasi (x_val, y_val)"
      ]
    },
    {
      "cell_type": "code",
      "execution_count": null,
      "metadata": {
        "id": "8aTsRSTBK-1A",
        "outputId": "f778231d-881d-4815-fb52-7d293c8847d4"
      },
      "outputs": [
        {
          "name": "stdout",
          "output_type": "stream",
          "text": [
            "Epoch 1/15\n",
            "4500/4500 [==============================] - 44s 9ms/step - loss: 0.6301 - root_mean_squared_error: 0.2382 - val_loss: 0.6075 - val_root_mean_squared_error: 0.2149\n",
            "Epoch 2/15\n",
            "4500/4500 [==============================] - 44s 10ms/step - loss: 0.5997 - root_mean_squared_error: 0.2071 - val_loss: 0.6016 - val_root_mean_squared_error: 0.2087\n",
            "Epoch 3/15\n",
            "4500/4500 [==============================] - 42s 9ms/step - loss: 0.5927 - root_mean_squared_error: 0.1997 - val_loss: 0.5993 - val_root_mean_squared_error: 0.2061\n",
            "Epoch 4/15\n",
            "4500/4500 [==============================] - 40s 9ms/step - loss: 0.5886 - root_mean_squared_error: 0.1954 - val_loss: 0.5980 - val_root_mean_squared_error: 0.2049\n",
            "Epoch 5/15\n",
            "4500/4500 [==============================] - 41s 9ms/step - loss: 0.5863 - root_mean_squared_error: 0.1927 - val_loss: 0.5980 - val_root_mean_squared_error: 0.2049\n",
            "Epoch 6/15\n",
            "4500/4500 [==============================] - 38s 9ms/step - loss: 0.5848 - root_mean_squared_error: 0.1910 - val_loss: 0.5982 - val_root_mean_squared_error: 0.2051\n",
            "Epoch 7/15\n",
            "4500/4500 [==============================] - 40s 9ms/step - loss: 0.5835 - root_mean_squared_error: 0.1895 - val_loss: 0.5981 - val_root_mean_squared_error: 0.2048\n",
            "Epoch 8/15\n",
            "4500/4500 [==============================] - 39s 9ms/step - loss: 0.5826 - root_mean_squared_error: 0.1887 - val_loss: 0.5981 - val_root_mean_squared_error: 0.2047\n",
            "Epoch 9/15\n",
            "4500/4500 [==============================] - 39s 9ms/step - loss: 0.5813 - root_mean_squared_error: 0.1871 - val_loss: 0.5978 - val_root_mean_squared_error: 0.2044\n",
            "Epoch 10/15\n",
            "4500/4500 [==============================] - 40s 9ms/step - loss: 0.5810 - root_mean_squared_error: 0.1868 - val_loss: 0.5977 - val_root_mean_squared_error: 0.2043\n",
            "Epoch 11/15\n",
            "4500/4500 [==============================] - 40s 9ms/step - loss: 0.5801 - root_mean_squared_error: 0.1856 - val_loss: 0.5981 - val_root_mean_squared_error: 0.2047\n",
            "Epoch 12/15\n",
            "4500/4500 [==============================] - 39s 9ms/step - loss: 0.5793 - root_mean_squared_error: 0.1848 - val_loss: 0.5980 - val_root_mean_squared_error: 0.2046\n",
            "Epoch 13/15\n",
            "4500/4500 [==============================] - 40s 9ms/step - loss: 0.5794 - root_mean_squared_error: 0.1848 - val_loss: 0.5977 - val_root_mean_squared_error: 0.2041\n",
            "Epoch 14/15\n",
            "4500/4500 [==============================] - 41s 9ms/step - loss: 0.5796 - root_mean_squared_error: 0.1848 - val_loss: 0.5979 - val_root_mean_squared_error: 0.2043\n",
            "Epoch 15/15\n",
            "4500/4500 [==============================] - 43s 9ms/step - loss: 0.5786 - root_mean_squared_error: 0.1840 - val_loss: 0.5980 - val_root_mean_squared_error: 0.2044\n"
          ]
        }
      ],
      "source": [
        "num_users = len(user_to_user_encoded)\n",
        "num_movies = len(movie_to_movie_encoded)\n",
        "model = RecommenderNet(num_users, num_movies, embedding_size=50)\n",
        "\n",
        "# Compile model\n",
        "model.compile(\n",
        "    loss=tf.keras.losses.BinaryCrossentropy(),\n",
        "    optimizer=tf.keras.optimizers.Adam(learning_rate=0.001),\n",
        "    metrics=[tf.keras.metrics.RootMeanSquaredError()]\n",
        ")\n",
        "\n",
        "# Training model\n",
        "history = model.fit(\n",
        "    x_train,\n",
        "    y_train,\n",
        "    batch_size=8,\n",
        "    epochs=15,\n",
        "    validation_data=(x_val, y_val)\n",
        ")"
      ]
    },
    {
      "cell_type": "markdown",
      "source": [
        "### Pengujian"
      ],
      "metadata": {
        "id": "gtoblY4pLUEf"
      }
    },
    {
      "cell_type": "markdown",
      "source": [
        "*Script* di bawah mendefinisikan fungsi untuk merekomendasikan film berdasarkan data film yang telah ditonton oleh pengguna dan data rating. Fungsi ini bekerja dengan langkah-langkah berikut:\n",
        "\n",
        "1. **Mengidentifikasi Film yang Sudah Ditonton**  \n",
        "   Fungsi ini mengidentifikasi film yang telah ditonton oleh pengguna tertentu berdasarkan `user_id`.\n",
        "\n",
        "2. **Menyaring Film yang Belum Ditonton**  \n",
        "   Menyaring film yang belum ditonton dari seluruh koleksi film, sehingga hanya film yang belum ditonton oleh pengguna yang dipertimbangkan untuk rekomendasi.\n",
        "\n",
        "3. **Meng-encode Film yang Belum Ditonton**  \n",
        "   Encode film yang belum ditonton menggunakan indeks yang dipakai di model, kemudian siapkan input bagi model untuk prediksi skor.\n",
        "\n",
        "4. **Prediksi Skor Film yang Belum Ditonton**  \n",
        "   Menggunakan model untuk memprediksi skor film yang belum ditonton dan menyeleksi skor tertinggi sebagai rekomendasi.\n",
        "\n",
        "5. **Memilih Film dengan Skor Tertinggi untuk Rekomendasi**  \n",
        "   Mengambil beberapa film dengan skor tertinggi sebagai rekomendasi untuk pengguna.\n",
        "\n",
        "6. **Menampilkan Hasil Rekomendasi**  \n",
        "   - **Top 5 Film dengan Rating Tertinggi**: Menampilkan lima film dengan rating tertinggi yang pernah diberikan oleh pengguna untuk mengetahui preferensi pengguna.\n",
        "   - **Rekomendasi untuk User**: Menampilkan sepuluh rekomendasi film dengan skor prediksi tertinggi untuk pengguna yang dihasilkan oleh model.\n",
        "\n",
        "Fungsi ini dapat dipanggil untuk merekomendasikan film kepada pengguna tertentu atau pengguna acak dari dataset.\n"
      ],
      "metadata": {
        "id": "2aoVWOXzLTZm"
      }
    },
    {
      "cell_type": "code",
      "execution_count": null,
      "metadata": {
        "id": "NNr1ycQ1K-1B",
        "outputId": "7a73b0e2-f98c-4686-e05b-37cf2869e020"
      },
      "outputs": [
        {
          "name": "stdout",
          "output_type": "stream",
          "text": [
            "88/88 [==============================] - 0s 4ms/step\n",
            "Top 5 Film dengan Rating Tertinggi yang Diberikan oleh User 132:\n",
            "46578. The Great American Girl Robbery (Rating: 5.0, Genre: ['Comedy', 'Crime'])\n",
            "3083. Mr. Smith Goes to Washington (Rating: 5.0, Genre: ['Comedy', 'Drama'])\n",
            "8012. Get Shorty (Rating: 5.0, Genre: ['Comedy', 'Thriller', 'Crime'])\n",
            "4979. Montag kommen die Fenster (Rating: 5.0, Genre: ['Drama'])\n",
            "30810. Olga's House of Shame (Rating: 5.0, Genre: ['Crime', 'Drama'])\n",
            "\n",
            "Rekomendasi untuk User ID 132:\n",
            "\n",
            "1. Leiutajateküla Lotte (Movie ID: 1260, Genre: ['Adventure', 'Animation', 'Comedy', 'Family'])\n",
            "2. Lonely Hearts (Movie ID: 1252, Genre: ['Drama', 'Thriller', 'Crime', 'Romance'])\n",
            "3. Wuthering Heights (Movie ID: 98491, Genre: ['Drama', 'Romance'])\n",
            "4. The Million Dollar Hotel (Movie ID: 318, Genre: ['Drama', 'Thriller'])\n",
            "5. Hannibal Rising (Movie ID: 1248, Genre: ['Crime', 'Drama', 'Thriller'])\n",
            "6. The Talented Mr. Ripley (Movie ID: 1213, Genre: ['Thriller', 'Crime', 'Drama'])\n",
            "7. 빈집 (Movie ID: 1280, Genre: ['Drama', 'Romance', 'Crime'])\n",
            "8. The Good Shepherd (Movie ID: 1247, Genre: ['Drama', 'Thriller', 'History'])\n",
            "9. Flags of Our Fathers (Movie ID: 3683, Genre: ['War', 'Drama', 'History'])\n",
            "10. Bean (Movie ID: 1281, Genre: ['Comedy'])\n"
          ]
        }
      ],
      "source": [
        "def recommend_movies_for_user(user_id, model, ratings_data, movie_encoded_to_movie, top_n=10):\n",
        "    # Ambil film yang sudah ditonton oleh user\n",
        "    movies_watched_by_user = ratings_data[ratings_data['userId'] == user_id]['movieId'].values\n",
        "\n",
        "    # Dapatkan semua movieId unik dalam dataset\n",
        "    all_movie_ids = ratings_data['movieId'].unique()\n",
        "\n",
        "    # Tentukan film yang belum ditonton oleh user\n",
        "    movies_not_watched = np.setdiff1d(all_movie_ids, movies_watched_by_user)\n",
        "\n",
        "    # Encode movie_not_watched sesuai dengan indeks yang digunakan di model\n",
        "    movies_not_watched_encoded = [movie_to_movie_encoded.get(movie) for movie in movies_not_watched if movie in movie_to_movie_encoded]\n",
        "\n",
        "    # Buat array input dengan user_id yang di-encode dan movie_id yang belum ditonton\n",
        "    user_encoded = user_to_user_encoded[user_id]\n",
        "    user_movie_array = np.hstack(([[user_encoded]] * len(movies_not_watched_encoded), np.array(movies_not_watched_encoded).reshape(-1, 1)))\n",
        "\n",
        "    # Prediksi skor untuk film yang belum ditonton\n",
        "    ratings_pred = model.predict(user_movie_array).flatten()\n",
        "\n",
        "    # Ambil film dengan prediksi skor tertinggi\n",
        "    top_ratings_indices = ratings_pred.argsort()[-top_n:][::-1]\n",
        "    recommended_movie_ids = [movie_encoded_to_movie[movies_not_watched_encoded[i]] for i in top_ratings_indices]\n",
        "\n",
        "    # Tampilkan Top 5 Film dengan Rating Tertinggi yang Diberikan User\n",
        "    top_rated_movies = ratings_data[ratings_data['userId'] == user_id].sort_values(by='rating', ascending=False).head(5)\n",
        "    print(f\"Top 5 Film dengan Rating Tertinggi yang Diberikan oleh User {user_id}:\")\n",
        "    for idx, row in top_rated_movies.iterrows():\n",
        "        print(f\"{row['movieId']}. {row['original_title']} (Rating: {row['rating']}, Genre: {row['genres']})\")\n",
        "\n",
        "    # Tampilkan rekomendasi\n",
        "    print(f\"\\nRekomendasi untuk User ID {user_id}:\\n\")\n",
        "    for idx, movie_id in enumerate(recommended_movie_ids):\n",
        "        movie_info = ratings_data[ratings_data['movieId'] == movie_id].iloc[0]\n",
        "        print(f\"{idx + 1}. {movie_info['original_title']} (Movie ID: {movie_id}, Genre: {movie_info['genres']})\")\n",
        "\n",
        "# Contoh penggunaan fungsi rekomendasi untuk user tertentu\n",
        "random_user_id = ratings_data['userId'].sample(1).iloc[0]\n",
        "recommend_movies_for_user(random_user_id, model, ratings_data, movie_encoded_to_movie, top_n=10)"
      ]
    },
    {
      "cell_type": "markdown",
      "source": [
        "Output diatas merupakan hasil dari model sistem rekomendasi dengan teknik Collaborative Filtering, ditampilkan data user dengan 5 teratas *rating* oleh User ID 132 dan hasil rekomendasi untuk User ID 132."
      ],
      "metadata": {
        "id": "lOze8A7CLaPI"
      }
    },
    {
      "cell_type": "markdown",
      "metadata": {
        "id": "a985ZycwK-1A"
      },
      "source": [
        "# Evaluasi"
      ]
    },
    {
      "cell_type": "markdown",
      "metadata": {
        "id": "ZIdtfAR6K-1A"
      },
      "source": [
        "## Content-Based Filtering"
      ]
    },
    {
      "cell_type": "markdown",
      "metadata": {
        "id": "wZ-5dZraK-1A"
      },
      "source": [
        "Metrik yang digunakan untuk mengukur performa model CBF adalah precision (didapat dari forum diskusi), berikut formulanya:\n",
        "\n",
        "$Precision = \\frac{RekomendasiYangRelevan}{TotalItemYangdiRekomendasikan}$<br>\n",
        "\n",
        "Metrik Precision pada sistem rekomendasi mengukur seberapa akurat rekomendasi yang diberikan dengan hanya mempertimbangkan item yang relevan untuk pengguna. Rumusnya adalah rasio antara jumlah rekomendasi yang relevan terhadap total item yang direkomendasikan. Dengan kata lain, precision menunjukkan seberapa besar proporsi dari item yang direkomendasikan yang benar-benar relevan bagi pengguna.\n",
        "\n",
        "Mengambil hasil pengujian CBF sebelumnya yaitu:\n",
        "\n",
        "Rekomendasi untuk 'Toy Story 3':<br>\n",
        "\n",
        "Title: Larry Crowne<br>\n",
        "Content Features: Comedy Romance Drama Tom Hanks Tom Hanks\n",
        "\n",
        "Title: Toy Story<br>\n",
        "Content Features: Animation Comedy Family Tom Hanks John Lasseter\n",
        "\n",
        "Title: Toy Story 2<br>\n",
        "Content Features: Animation Comedy Family Tom Hanks John Lasseter\n",
        "\n",
        "Title: The Legend of Mor'du<br>\n",
        "Content Features: Animation Family Tom Hanks Steve Purcell\n",
        "\n",
        "Title: The Polar Express<br>\n",
        "Content Features: Adventure Animation Family Fantasy Tom Hanks Robert Zemeckis\n",
        "\n",
        "Hasil diatas akan diuji genrenya:\n",
        "\n",
        "Larry Crowne - Comedy Romance Drama (Tidak relevan, genre berbeda)<br>\n",
        "Toy Story - Animation Comedy Family (Relevan, merupakan film dalam seri yang sama)<br>\n",
        "Toy Story 2 - Animation Comedy Family (Relevan, merupakan film dalam seri yang sama)<br>\n",
        "The Legend of Mor'du - Animation Family (Relevan, genre mirip dan memiliki elemen animasi keluarga)<br>\n",
        "The Polar Express - Adventure Animation Family Fantasy (Relevan, genre mirip dengan elemen animasi dan keluarga)<br>\n",
        "\n",
        "Pernyataan hasil genre diatas dapat dimasukkan ke formula sebagai berikut:\n",
        "\n",
        "$Precision = \\frac{RekomendasiYangRelevan}{TotalItemYangdiRekomendasikan} = \\frac{4}{5} = {0.8}$<br>\n",
        "\n",
        "Hasil *precision* yang didapat adalah 0.8 atau 80% jika menghitung dari genrenya."
      ]
    },
    {
      "cell_type": "markdown",
      "metadata": {
        "id": "wXJ_f_x3K-1A"
      },
      "source": [
        "## Collaborative Filtering"
      ]
    },
    {
      "cell_type": "markdown",
      "metadata": {
        "id": "mSgFfKlLK-1A"
      },
      "source": [
        "Berdasarkan model *machine learning* yang sudah dibangun menggunakan *embedding layer* dengan `Adam` sebagai *optimizer* dan *binary crossentropy loss function*, metrik yang digunakan adalah *Root Mean Squared Error* (RMSE). Perhitungan RMSE dapat dilakukan menggunakan rumus berikut:\n",
        "\n",
        "$RMSE=\\sqrt{\\sum^{n}_{i=1} \\frac{y_i - y\\\\_pred_i}{n}}$\n",
        "\n",
        "Di mana, nilai $n$ merupakan jumlah *dataset*, nilai $y_i$ adalah nilai sebenarnya, dan $y\\\\_pred$ yaitu nilai prediksinya terdahap $i$ sebagai urutan data dalam *dataset*.\n",
        "\n",
        "Metrik di atas cara bekerjanya seperti dibawah ini:\n",
        "Formula **Root Mean Squared Error (RMSE)** mengukur seberapa dekat prediksi model dengan nilai sebenarnya. Langkah-langkah kerjanya adalah sebagai berikut:\n",
        "\n",
        "1. **Menghitung Selisih Setiap Pasangan Nilai**  \n",
        "   Untuk setiap pasangan nilai aktual $y_i$ dan nilai prediksi $y\\_pred_i$, hitung selisihnya $y_i - y\\_pred_i$. Ini menunjukkan seberapa jauh prediksi dari nilai aktual.\n",
        "\n",
        "2. **Mengkuadratkan Selisih**  \n",
        "   Kuadratkan setiap selisih $(y_i - y\\_pred_i)^2$ untuk memastikan semua nilai positif dan memberikan penalti lebih besar pada kesalahan yang lebih besar.\n",
        "\n",
        "3. **Menjumlahkan Semua Selisih Kuadrat**  \n",
        "   Jumlahkan semua nilai selisih kuadrat dari setiap pasangan nilai dalam dataset.\n",
        "\n",
        "4. **Menghitung Nilai Rata-Rata**  \n",
        "   Bagi jumlah total selisih kuadrat dengan jumlah data $n$ untuk mendapatkan rata-rata kesalahan kuadrat.\n",
        "\n",
        "5. **Mengambil Akar Kuadrat dari Rata-Rata**  \n",
        "   Terakhir, ambil akar kuadrat dari rata-rata kesalahan kuadrat untuk mendapatkan nilai RMSE.\n",
        "\n",
        "Semakin kecil nilai RMSE, semakin baik kinerja model, karena prediksi mendekati nilai observasi atau nilai sebenarnya."
      ]
    },
    {
      "cell_type": "code",
      "execution_count": null,
      "metadata": {
        "id": "B1J8u87wK-1A",
        "outputId": "a6c2e82f-db7d-4f41-edce-2951a8969f6f"
      },
      "outputs": [
        {
          "data": {
            "image/png": "[encoded data removed]",
            "text/plain": [
              "<Figure size 640x480 with 1 Axes>"
            ]
          },
          "metadata": {},
          "output_type": "display_data"
        }
      ],
      "source": [
        "plt.plot(history.history['root_mean_squared_error'])\n",
        "plt.plot(history.history['val_root_mean_squared_error'])\n",
        "plt.title('RMSE dari Model')\n",
        "plt.ylabel('root_mean_squared_error')\n",
        "plt.xlabel('epoch')\n",
        "plt.legend(['train', 'test'], loc='upper left')\n",
        "plt.show()"
      ]
    },
    {
      "cell_type": "markdown",
      "metadata": {
        "id": "sr2TBbvOK-1B"
      },
      "source": [
        "Visualisasi di atas menunjukkan penurunan Root Mean Squared Error (RMSE) pada data pelatihan dan data validasi selama 15 epoch. Grafik memperlihatkan bahwa error pada data pelatihan terus menurun, sementara error pada data validasi awalnya menurun namun kemudian stabil, yang menunjukkan bahwa model belajar dari data dengan cukup baik tanpa overfitting."
      ]
    }
  ],
  "metadata": {
    "colab": {
      "collapsed_sections": [
        "rsg0o5l5MCJl",
        "Y7h5u4y7K1nT",
        "iPm8JW4Ye6Ph",
        "jJSRNXNihwEU",
        "HG1zh5s_fREU",
        "mLHIDGpSqjsA",
        "ThlPLQGUINcT",
        "4rzNXFDXrr2M",
        "I-nx1KYKsDDf",
        "Mosli2J4FTpR",
        "q8GXwWvFzsKc",
        "KYDHeARoGij3"
      ],
      "provenance": [],
      "toc_visible": true
    },
    "kernelspec": {
      "display_name": "hdr",
      "language": "python",
      "name": "python3"
    },
    "language_info": {
      "codemirror_mode": {
        "name": "ipython",
        "version": 3
      },
      "file_extension": ".py",
      "mimetype": "text/x-python",
      "name": "python",
      "nbconvert_exporter": "python",
      "pygments_lexer": "ipython3",
      "version": "3.10.11"
    }
  },
  "nbformat": 4,
  "nbformat_minor": 0
}
